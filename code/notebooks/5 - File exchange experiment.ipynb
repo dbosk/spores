{
 "cells": [
  {
   "cell_type": "code",
   "execution_count": 20,
   "metadata": {},
   "outputs": [],
   "source": [
    "%reload_ext autoreload\n",
    "%autoreload 2\n",
    "\n",
    "import numpy as np\n",
    "from file_exchange import config\n",
    "from file_exchange.network import Network\n",
    "from file_exchange.peers_view import PeersView\n",
    "from file_exchange.user import User\n",
    "import gevent\n",
    "from gevent.pool import Group\n",
    "from gevent.event import AsyncResult\n",
    "\n",
    "from datetime import datetime"
   ]
  },
  {
   "cell_type": "markdown",
   "metadata": {},
   "source": [
    "# Parallel users"
   ]
  },
  {
   "cell_type": "code",
   "execution_count": 21,
   "metadata": {},
   "outputs": [
    {
     "data": {
      "text/plain": [
       "{'chunk_max_size': 2,\n",
       " 'file_size': 11,\n",
       " 'gossip_size': 20,\n",
       " 'layer_threshold': 0.001,\n",
       " 'minimum_node_availability': 0,\n",
       " 'n_file_chunks': 10,\n",
       " 'n_layers': 3,\n",
       " 'n_rounds': 2,\n",
       " 'n_users': 10,\n",
       " 'period': datetime.timedelta(0, 1)}"
      ]
     },
     "execution_count": 21,
     "metadata": {},
     "output_type": "execute_result"
    }
   ],
   "source": [
    "conf = config.default\n",
    "conf['n_users'] = 10\n",
    "conf"
   ]
  },
  {
   "cell_type": "code",
   "execution_count": 24,
   "metadata": {
    "scrolled": false
   },
   "outputs": [
    {
     "name": "stdout",
     "output_type": "stream",
     "text": [
      "Before spawn\n",
      "Before start\n",
      "Iteration #0 at time 21:18:47.013546\n",
      "Empty DataFrame\n",
      "Columns: [t, addr, type, p]\n",
      "Index: []\n",
      "Iteration #1 at time 21:18:48.015768\n",
      "                                    addr         p                          t  \\\n",
      "2018-04-24 21:18:47.018936  nuvtvipej9cg  0.517770 2018-04-24 21:18:47.018936   \n",
      "2018-04-24 21:18:47.021471  dmqeda2q72u5  0.607986 2018-04-24 21:18:47.021471   \n",
      "2018-04-24 21:18:47.023885  g5w19obk63va  0.931181 2018-04-24 21:18:47.023885   \n",
      "2018-04-24 21:18:47.026308  i9qzpgb5akqm  0.632094 2018-04-24 21:18:47.026308   \n",
      "2018-04-24 21:18:47.028876  bk0j0dwmc9lw  0.902881 2018-04-24 21:18:47.028876   \n",
      "2018-04-24 21:18:47.031519  0kbewcnhitrj  0.836801 2018-04-24 21:18:47.031519   \n",
      "2018-04-24 21:18:47.034129  r2xelwee8yd5  0.893604 2018-04-24 21:18:47.034129   \n",
      "2018-04-24 21:18:47.036582  lcv60e5r8mp7  0.553732 2018-04-24 21:18:47.036582   \n",
      "2018-04-24 21:18:47.039095  mpfxfa00uaor  0.846358 2018-04-24 21:18:47.039095   \n",
      "2018-04-24 21:18:47.041581  g9q17ujbbtdk  0.774363 2018-04-24 21:18:47.041581   \n",
      "2018-04-24 21:18:47.044037  8zb1wjrpwvis  0.991222 2018-04-24 21:18:47.044037   \n",
      "2018-04-24 21:18:47.046511  k0ccjycnphey  0.949989 2018-04-24 21:18:47.046511   \n",
      "2018-04-24 21:18:47.049015  g13rufdrd4q2  0.898298 2018-04-24 21:18:47.049015   \n",
      "2018-04-24 21:18:47.051724  llztztfp4c2z  0.971520 2018-04-24 21:18:47.051724   \n",
      "2018-04-24 21:18:47.054249  5zf495weuqti  0.761592 2018-04-24 21:18:47.054249   \n",
      "2018-04-24 21:18:47.056672  66z8pncpz2l9  0.237923 2018-04-24 21:18:47.056672   \n",
      "2018-04-24 21:18:47.058995  aeq5ppailp9r  0.919466 2018-04-24 21:18:47.058995   \n",
      "2018-04-24 21:18:47.061323  qxgh6hwsfcq1  0.361314 2018-04-24 21:18:47.061323   \n",
      "2018-04-24 21:18:47.063556  nkh26l738ryp  0.406774 2018-04-24 21:18:47.063556   \n",
      "2018-04-24 21:18:47.066075  ekh9d8flkecb  0.415887 2018-04-24 21:18:47.066075   \n",
      "2018-04-24 21:18:47.069131  l8ouo898edi5  0.752314 2018-04-24 21:18:47.069131   \n",
      "2018-04-24 21:18:47.071605  q7ekgujgrwit  0.926543 2018-04-24 21:18:47.071605   \n",
      "2018-04-24 21:18:47.074058  mj5s1hs3apgd  0.547806 2018-04-24 21:18:47.074058   \n",
      "2018-04-24 21:18:47.076360  zztk6yfcdp6w  0.564453 2018-04-24 21:18:47.076360   \n",
      "2018-04-24 21:18:47.078730  eq0gccbwm1ng  0.638206 2018-04-24 21:18:47.078730   \n",
      "2018-04-24 21:18:47.081710  pwl40uqh19ra  0.909918 2018-04-24 21:18:47.081710   \n",
      "2018-04-24 21:18:47.084497  3pkt8xs8t7y0  0.828350 2018-04-24 21:18:47.084497   \n",
      "2018-04-24 21:18:47.087018  6vukyyqb5stj  0.783425 2018-04-24 21:18:47.087018   \n",
      "2018-04-24 21:18:47.089440  y4oq1ug60t5l  0.558992 2018-04-24 21:18:47.089440   \n",
      "2018-04-24 21:18:47.091797  97m0ledvosfo  0.476485 2018-04-24 21:18:47.091797   \n",
      "2018-04-24 21:18:47.094866  26is14l2tb3n  0.764356 2018-04-24 21:18:47.094866   \n",
      "2018-04-24 21:18:47.097693  nljn3l23xxhx  0.703065 2018-04-24 21:18:47.097693   \n",
      "2018-04-24 21:18:47.100464  dnkkohmn0786  0.950961 2018-04-24 21:18:47.100464   \n",
      "2018-04-24 21:18:47.102997  z16ob069ml0n  0.545322 2018-04-24 21:18:47.102997   \n",
      "2018-04-24 21:18:47.105413  1qqwwem4znnj  0.635775 2018-04-24 21:18:47.105413   \n",
      "2018-04-24 21:18:47.107842  hx1l65uciggk  0.486347 2018-04-24 21:18:47.107842   \n",
      "2018-04-24 21:18:47.110447  bgsgr7gra0xg  0.871399 2018-04-24 21:18:47.110447   \n",
      "2018-04-24 21:18:47.113468  5sh3mk7kexy6  0.651030 2018-04-24 21:18:47.113468   \n",
      "2018-04-24 21:18:47.116177  1gaeem1izi3n  0.505510 2018-04-24 21:18:47.116177   \n",
      "\n",
      "                                type  \n",
      "2018-04-24 21:18:47.018936  portable  \n",
      "2018-04-24 21:18:47.021471  portable  \n",
      "2018-04-24 21:18:47.023885    server  \n",
      "2018-04-24 21:18:47.026308  portable  \n",
      "2018-04-24 21:18:47.028876    mobile  \n",
      "2018-04-24 21:18:47.031519    mobile  \n",
      "2018-04-24 21:18:47.034129    mobile  \n",
      "2018-04-24 21:18:47.036582  portable  \n",
      "2018-04-24 21:18:47.039095    mobile  \n",
      "2018-04-24 21:18:47.041581    mobile  \n",
      "2018-04-24 21:18:47.044037    server  \n",
      "2018-04-24 21:18:47.046511    server  \n",
      "2018-04-24 21:18:47.049015    mobile  \n",
      "2018-04-24 21:18:47.051724    server  \n",
      "2018-04-24 21:18:47.054249    mobile  \n",
      "2018-04-24 21:18:47.056672  portable  \n",
      "2018-04-24 21:18:47.058995    server  \n",
      "2018-04-24 21:18:47.061323  portable  \n",
      "2018-04-24 21:18:47.063556     fixed  \n",
      "2018-04-24 21:18:47.066075  portable  \n",
      "2018-04-24 21:18:47.069131    mobile  \n",
      "2018-04-24 21:18:47.071605    server  \n",
      "2018-04-24 21:18:47.074058  portable  \n",
      "2018-04-24 21:18:47.076360  portable  \n",
      "2018-04-24 21:18:47.078730    mobile  \n",
      "2018-04-24 21:18:47.081710    server  \n",
      "2018-04-24 21:18:47.084497    mobile  \n",
      "2018-04-24 21:18:47.087018    mobile  \n",
      "2018-04-24 21:18:47.089440     fixed  \n",
      "2018-04-24 21:18:47.091797  portable  \n",
      "2018-04-24 21:18:47.094866    mobile  \n",
      "2018-04-24 21:18:47.097693    mobile  \n",
      "2018-04-24 21:18:47.100464    mobile  \n",
      "2018-04-24 21:18:47.102997  portable  \n",
      "2018-04-24 21:18:47.105413  portable  \n",
      "2018-04-24 21:18:47.107842  portable  \n",
      "2018-04-24 21:18:47.110447    mobile  \n",
      "2018-04-24 21:18:47.113468  portable  \n",
      "2018-04-24 21:18:47.116177     fixed  \n",
      "Iteration #2 at time 21:18:49.033890\n",
      "                                    addr         p                          t  \\\n",
      "2018-04-24 21:18:48.037516  dmqeda2q72u5  0.607986 2018-04-24 21:18:48.037516   \n",
      "2018-04-24 21:18:48.040840  g5w19obk63va  0.931181 2018-04-24 21:18:48.040840   \n",
      "2018-04-24 21:18:48.044321  ai2t5de8bld7  0.671834 2018-04-24 21:18:48.044321   \n",
      "2018-04-24 21:18:48.048689  0kbewcnhitrj  0.836801 2018-04-24 21:18:48.048689   \n",
      "2018-04-24 21:18:48.053293  r2xelwee8yd5  0.893604 2018-04-24 21:18:48.053293   \n",
      "2018-04-24 21:18:48.057360  azofjkpcf3da  0.312304 2018-04-24 21:18:48.057360   \n",
      "2018-04-24 21:18:48.060456  lcv60e5r8mp7  0.553732 2018-04-24 21:18:48.060456   \n",
      "2018-04-24 21:18:48.064905  mpfxfa00uaor  0.846358 2018-04-24 21:18:48.064905   \n",
      "2018-04-24 21:18:48.068663  3kkdpb85xk52  0.684551 2018-04-24 21:18:48.068663   \n",
      "2018-04-24 21:18:48.071665  g9q17ujbbtdk  0.774363 2018-04-24 21:18:48.071665   \n",
      "2018-04-24 21:18:48.074398  8zb1wjrpwvis  0.991222 2018-04-24 21:18:48.074398   \n",
      "2018-04-24 21:18:48.077218  k0ccjycnphey  0.949989 2018-04-24 21:18:48.077218   \n",
      "2018-04-24 21:18:48.080150  vzctgf2kslkd  0.807368 2018-04-24 21:18:48.080150   \n",
      "2018-04-24 21:18:48.083169  g13rufdrd4q2  0.853121 2018-04-24 21:18:48.083169   \n",
      "2018-04-24 21:18:48.085913  p0eod412vdpm  0.661630 2018-04-24 21:18:48.085913   \n",
      "2018-04-24 21:18:48.088458  llztztfp4c2z  0.971520 2018-04-24 21:18:48.088458   \n",
      "2018-04-24 21:18:48.092165  5zf495weuqti  0.761592 2018-04-24 21:18:48.092165   \n",
      "2018-04-24 21:18:48.095132  qctr1bq041xp  0.774904 2018-04-24 21:18:48.095132   \n",
      "2018-04-24 21:18:48.097907  66z8pncpz2l9  0.237923 2018-04-24 21:18:48.097907   \n",
      "2018-04-24 21:18:48.100966  nkh26l738ryp  0.406774 2018-04-24 21:18:48.100966   \n",
      "2018-04-24 21:18:48.103530  9o8e3vq0v44y  0.368287 2018-04-24 21:18:48.103530   \n",
      "2018-04-24 21:18:48.106085  q33s7y3czsvh  0.564774 2018-04-24 21:18:48.106085   \n",
      "2018-04-24 21:18:48.108593  l8ouo898edi5  0.752314 2018-04-24 21:18:48.108593   \n",
      "2018-04-24 21:18:48.111356  q7ekgujgrwit  0.926543 2018-04-24 21:18:48.111356   \n",
      "2018-04-24 21:18:48.114199  zztk6yfcdp6w  0.564453 2018-04-24 21:18:48.114199   \n",
      "2018-04-24 21:18:48.117207  pwl40uqh19ra  0.909918 2018-04-24 21:18:48.117207   \n",
      "2018-04-24 21:18:48.120916  3pkt8xs8t7y0  0.828350 2018-04-24 21:18:48.120916   \n",
      "2018-04-24 21:18:48.123468  y4oq1ug60t5l  0.558992 2018-04-24 21:18:48.123468   \n",
      "2018-04-24 21:18:48.126004  ewx8ph2tvys0  0.237180 2018-04-24 21:18:48.126004   \n",
      "2018-04-24 21:18:48.128780  rma25p7l5bv1  0.538941 2018-04-24 21:18:48.128780   \n",
      "2018-04-24 21:18:48.131390  97m0ledvosfo  0.476485 2018-04-24 21:18:48.131390   \n",
      "2018-04-24 21:18:48.134286  26is14l2tb3n  0.764356 2018-04-24 21:18:48.134286   \n",
      "2018-04-24 21:18:48.136960  dnkkohmn0786  0.950961 2018-04-24 21:18:48.136960   \n",
      "2018-04-24 21:18:48.139526  bgsgr7gra0xg  0.838775 2018-04-24 21:18:48.139526   \n",
      "2018-04-24 21:18:48.141972  jtllthsiscdf  0.698378 2018-04-24 21:18:48.141972   \n",
      "\n",
      "                                type  \n",
      "2018-04-24 21:18:48.037516  portable  \n",
      "2018-04-24 21:18:48.040840    server  \n",
      "2018-04-24 21:18:48.044321    mobile  \n",
      "2018-04-24 21:18:48.048689    mobile  \n",
      "2018-04-24 21:18:48.053293    mobile  \n",
      "2018-04-24 21:18:48.057360  portable  \n",
      "2018-04-24 21:18:48.060456  portable  \n",
      "2018-04-24 21:18:48.064905    mobile  \n",
      "2018-04-24 21:18:48.068663    mobile  \n",
      "2018-04-24 21:18:48.071665    mobile  \n",
      "2018-04-24 21:18:48.074398    server  \n",
      "2018-04-24 21:18:48.077218    server  \n",
      "2018-04-24 21:18:48.080150    mobile  \n",
      "2018-04-24 21:18:48.083169    mobile  \n",
      "2018-04-24 21:18:48.085913  portable  \n",
      "2018-04-24 21:18:48.088458    server  \n",
      "2018-04-24 21:18:48.092165    mobile  \n",
      "2018-04-24 21:18:48.095132    mobile  \n",
      "2018-04-24 21:18:48.097907  portable  \n",
      "2018-04-24 21:18:48.100966     fixed  \n",
      "2018-04-24 21:18:48.103530  portable  \n",
      "2018-04-24 21:18:48.106085  portable  \n",
      "2018-04-24 21:18:48.108593    mobile  \n",
      "2018-04-24 21:18:48.111356    server  \n",
      "2018-04-24 21:18:48.114199  portable  \n",
      "2018-04-24 21:18:48.117207    server  \n",
      "2018-04-24 21:18:48.120916    mobile  \n",
      "2018-04-24 21:18:48.123468     fixed  \n",
      "2018-04-24 21:18:48.126004     fixed  \n",
      "2018-04-24 21:18:48.128780     fixed  \n",
      "2018-04-24 21:18:48.131390  portable  \n",
      "2018-04-24 21:18:48.134286    mobile  \n",
      "2018-04-24 21:18:48.136960    mobile  \n",
      "2018-04-24 21:18:48.139526    mobile  \n",
      "2018-04-24 21:18:48.141972    mobile  \n",
      "User thread joined\n"
     ]
    }
   ],
   "source": [
    "address_book = PeersView(conf)\n",
    "net = Network()\n",
    "users = [None] * conf['n_users']\n",
    "for i in range(conf['n_users']):\n",
    "    users[i] = User(address_book, net, conf)\n",
    "\n",
    "def output_view(view, conf):\n",
    "    i = 0\n",
    "    while True:\n",
    "        print(\"Iteration #{} at time {}\".format(i, datetime.now().time()))\n",
    "        print(view.get())\n",
    "        gevent.sleep(conf['period'].total_seconds())\n",
    "        i+=1\n",
    "\n",
    "print(\"Before spawn\")\n",
    "output_thread = gevent.spawn(output_view, address_book, conf)\n",
    "print(\"Before start\")\n",
    "\n",
    "for u in users:\n",
    "    # Starts greenlet\n",
    "    u.start()\n",
    "gevent.joinall(users)\n",
    "\n",
    "print(\"User thread joined\")\n",
    "gevent.kill(output_thread)\n"
   ]
  },
  {
   "cell_type": "markdown",
   "metadata": {},
   "source": [
    "# File sharing initialization"
   ]
  },
  {
   "cell_type": "code",
   "execution_count": 26,
   "metadata": {},
   "outputs": [
    {
     "name": "stdout",
     "output_type": "stream",
     "text": [
      "{'n_file_chunks': 10, 'n_layers': 3, 'gossip_size': 20, 'n_users': 10, 'layer_threshold': 0.001, 'period': datetime.timedelta(0, 1), 'minimum_node_availability': 0, 'file_size': 11, 'n_rounds': 2, 'chunk_max_size': 2}\n",
      "File sender named Georgene has following devices: ['ltj43szc4vfu', 'dfcn6i5gaebr', 'yk0nihc6jwgx', 'iydcaj3wqtvr', 'g9cr9y37iwns', 'rqd7y4ozgy3h', '76h9qi9imwri', 'hwm8mwwxxjl1', 'l3tm8s4zx7dd', 'yon56r90qde7']\n",
      "File receiver named Deneen has following devices: ['repjprccy6i6', '2vw0z5cblwcp', 'qrq5mi4mapiq', '1f00aqu2pnxu', '5x312wlrckcm', '0p14ied9ouyc']\n"
     ]
    },
    {
     "data": {
      "text/plain": [
       "{'backward_route': [['rticn11f57q8',\n",
       "   '4l0fud3fbgnx',\n",
       "   'rqd7y4ozgy3h',\n",
       "   'qrq5mi4mapiq',\n",
       "   'eq07380e1vt5'],\n",
       "  ['sx1qpqlokw7u', 'bkzsgui7quyg', 'sysr8h6jlxnl', '5x312wlrckcm'],\n",
       "  ['565rrzp4pbys', 'hc6cagrnnnhy', 'bwmuh87bw41p', '5ak4wjmvhn8e'],\n",
       "  ['ltj43szc4vfu',\n",
       "   'dfcn6i5gaebr',\n",
       "   'yk0nihc6jwgx',\n",
       "   'iydcaj3wqtvr',\n",
       "   'g9cr9y37iwns',\n",
       "   'rqd7y4ozgy3h',\n",
       "   '76h9qi9imwri',\n",
       "   'hwm8mwwxxjl1',\n",
       "   'l3tm8s4zx7dd',\n",
       "   'yon56r90qde7']],\n",
       " 'file': <file_exchange.file.File at 0x7fb83c96fdd8>,\n",
       " 'forward_route': [['565rrzp4pbys',\n",
       "   'hc6cagrnnnhy',\n",
       "   'bwmuh87bw41p',\n",
       "   '5ak4wjmvhn8e'],\n",
       "  ['sx1qpqlokw7u', 'bkzsgui7quyg', 'sysr8h6jlxnl', '5x312wlrckcm'],\n",
       "  ['rticn11f57q8',\n",
       "   '4l0fud3fbgnx',\n",
       "   'rqd7y4ozgy3h',\n",
       "   'qrq5mi4mapiq',\n",
       "   'eq07380e1vt5'],\n",
       "  ['repjprccy6i6',\n",
       "   '2vw0z5cblwcp',\n",
       "   'qrq5mi4mapiq',\n",
       "   '1f00aqu2pnxu',\n",
       "   '5x312wlrckcm',\n",
       "   '0p14ied9ouyc']]}"
      ]
     },
     "execution_count": 26,
     "metadata": {},
     "output_type": "execute_result"
    }
   ],
   "source": [
    "conf = config.default\n",
    "conf['n_users'] = 10\n",
    "print(conf)\n",
    "\n",
    "address_book = PeersView(conf)\n",
    "net = Network()\n",
    "users = [None] * conf['n_users']\n",
    "for i in range(conf['n_users']):\n",
    "    users[i] = User(address_book, net, conf)\n",
    "    users[i].update_state()\n",
    "    \n",
    "u1 = users[0]\n",
    "u2 = users[1]\n",
    "\n",
    "print(\"File sender named {} has following devices: {}\".format(u1.name, [d.addr for d in u1.devices]))\n",
    "print(\"File receiver named {} has following devices: {}\".format(u2.name, [d.addr for d in u2.devices]))\n",
    "u2.init_file_receive(u1)"
   ]
  },
  {
   "cell_type": "code",
   "execution_count": 33,
   "metadata": {},
   "outputs": [
    {
     "data": {
      "text/plain": [
       "3"
      ]
     },
     "execution_count": 33,
     "metadata": {},
     "output_type": "execute_result"
    }
   ],
   "source": [
    "class A():\n",
    "    def __init__(self, x):\n",
    "        self.x = x\n",
    "        \n",
    "a = {'x': A(5), 'b' : 3}\n",
    "\n",
    "def lol(a):\n",
    "    a['x'].x = 3\n",
    "    \n",
    "lol(a)\n",
    "a['x'].x"
   ]
  },
  {
   "cell_type": "code",
   "execution_count": 35,
   "metadata": {},
   "outputs": [
    {
     "name": "stdout",
     "output_type": "stream",
     "text": [
      "x <__main__.A object at 0x7fb83c81d2e8>\n",
      "b 3\n"
     ]
    }
   ],
   "source": [
    "for k, v in a.items():\n",
    "    print(k,v)"
   ]
  }
 ],
 "metadata": {
  "kernelspec": {
   "display_name": "Python 3",
   "language": "python",
   "name": "python3"
  },
  "language_info": {
   "codemirror_mode": {
    "name": "ipython",
    "version": 3
   },
   "file_extension": ".py",
   "mimetype": "text/x-python",
   "name": "python",
   "nbconvert_exporter": "python",
   "pygments_lexer": "ipython3",
   "version": "3.5.2"
  }
 },
 "nbformat": 4,
 "nbformat_minor": 2
}
