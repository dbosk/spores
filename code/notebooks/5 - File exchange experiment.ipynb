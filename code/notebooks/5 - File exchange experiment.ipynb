{
 "cells": [
  {
   "cell_type": "markdown",
   "metadata": {},
   "source": [
    "# Functions and imports"
   ]
  },
  {
   "cell_type": "code",
   "execution_count": 1,
   "metadata": {},
   "outputs": [],
   "source": [
    "%reload_ext autoreload\n",
    "%autoreload 2\n",
    "\n",
    "from copy import deepcopy\n",
    "from datetime import datetime, timedelta\n",
    "from file_exchange import config, network\n",
    "from file_exchange.network import Network\n",
    "from file_exchange.peers_view import PeersView\n",
    "from file_exchange.user import User\n",
    "from gevent.event import AsyncResult\n",
    "from gevent.pool import Group\n",
    "from gevent.select import select\n",
    "import gevent\n",
    "import json\n",
    "import numpy as np\n",
    "import os\n",
    "import pandas as pd\n",
    "import pickle\n",
    "import random\n",
    "import shutil\n",
    "import sys\n",
    "import time\n",
    "\n",
    "def get_users_pair(users):\n",
    "    u1 = random.choice(users)\n",
    "    u2 = random.choice(users)\n",
    "    while u1 == u2:\n",
    "        u2 = random.choice(users)\n",
    "    return u1, u2\n",
    "\n",
    "def save_conf(conf):\n",
    "    with open(conf['output_dir']+\"conf.json\", \"w\") as f:\n",
    "        conf2 = deepcopy(conf)\n",
    "        conf2['period'] = str(conf2['period'])\n",
    "        json.dump(conf2, f)\n",
    "def load_conf(path):\n",
    "    f = open(path+'conf.json', 'r')\n",
    "    conf = json.load(f)\n",
    "    conf['period'] = datetime.strptime(conf['period'], \"%H:%M:%S\") - \\\n",
    "                      datetime.strptime(\"00:00\", \"%H:%M\")\n",
    "    return conf        \n",
    "\n",
    "def init_dir(path):\n",
    "    if path is None:\n",
    "        return\n",
    "    if os.path.isdir(path):\n",
    "        if os.listdir(path):\n",
    "            ans = input(\"Remove previous content of \"+path+\"? (y/N) \")\n",
    "            if ans == 'Y' or ans == 'y' or ans == 'o' or ans == 'O':\n",
    "                shutil.rmtree(path)\n",
    "    if not os.path.isdir(path):\n",
    "        os.makedirs(path)\n",
    "        \n",
    "def run_experiment(conf):\n",
    "    init_dir(conf['output_dir'])\n",
    "\n",
    "    # Initializing stuff\n",
    "    address_book = PeersView(conf)\n",
    "    net = Network()\n",
    "    users = [None] * conf['n_users']\n",
    "    for i in range(conf['n_users']):\n",
    "        users[i] = User(address_book, net, conf)\n",
    "\n",
    "    # Picking users for file exchange\n",
    "    users_pairs = set()\n",
    "    print(\"Will do {} file exchanges\".format(conf['n_file_exchanges']))\n",
    "    while len(users_pairs) < conf['n_file_exchanges']:\n",
    "        u1, u2 = get_users_pair(users)\n",
    "        users_pairs.add((u1, u2))\n",
    "\n",
    "    # Start greenlets\n",
    "    for u in users:\n",
    "        u.start()\n",
    "    print(\"Started all users' threads\")\n",
    "    \n",
    "\n",
    "    # Wait a bit for everyone to register to address_book\n",
    "    gevent.sleep(conf['period'].total_seconds())\n",
    "    # Init file exchanges\n",
    "    files_info=[]\n",
    "    for u1, u2 in users_pairs:\n",
    "        try:\n",
    "            print(\"Starting file exchange between {} and {}\".format(\n",
    "                u1.name, u2. name), flush=True)\n",
    "            file_info = u2.init_file_receive(u1)\n",
    "            files_info.append(file_info)\n",
    "        except:\n",
    "            print(\"Failed starting file exchange between {} and {}\".format(\n",
    "                u1.name, u2. name), flush=True)\n",
    "            pass\n",
    "    n_file_exchanges = len(files_info)\n",
    "    \n",
    "    # Wait for all greenlets to terminate\n",
    "    print(\"Waiting for experiment termination\")\n",
    "    gevent.joinall(users)\n",
    "    \n",
    "    # Save config\n",
    "    if conf['output_dir'] is not None:\n",
    "        save_conf(conf)\n",
    "        with open(conf['output_dir']+\"files_info.bin\", 'w') as f:\n",
    "            pickle.dump(files_info, f)\n",
    "\n",
    "    print(\"Done\")"
   ]
  },
  {
   "cell_type": "markdown",
   "metadata": {},
   "source": [
    "# File sharing"
   ]
  },
  {
   "cell_type": "code",
   "execution_count": null,
   "metadata": {
    "scrolled": false
   },
   "outputs": [
    {
     "name": "stdout",
     "output_type": "stream",
     "text": [
      "{'output_dir': 'data/file_exchange_random_connected/', 'n_rounds': 30, 'ack_size': 0, 'do_monitor': True, 'n_file_exchanges': 10, 'n_file_chunks': 10, 'gossip_size': 20, 'file_size': 11, 'layer_threshold': 0.001, 'period': datetime.timedelta(0, 3), 'ping_time': 0.1, 'minimum_node_availability': 0, 'header_size': 0.1, 'chunk_max_size': 2, 'send_strategy': 'random_connected', 'n_users': 10, 'bandwidth': 10, 'n_layers': 3}\n",
      "Remove previous content of data/file_exchange_random_connected/? (y/N) y\n",
      "Will do 10 file exchanges\n",
      "Started all users' threads\n",
      "Starting file exchange between Moira and Mazie\n",
      "Device ff6moi645nf1 (owned by Moira) will send file z6pzso\n",
      "Starting file exchange between Evelyne and Lyndsey\n",
      "[build route] No more available nodes: early abort.\n",
      "Failed starting file exchange between Evelyne and Lyndsey\n",
      "Starting file exchange between Bronwyn and Evelyne\n",
      "Failed starting file exchange between Bronwyn and Evelyne\n",
      "Starting file exchange between Shawnda and Cordia\n",
      "Device af1qah8g1ifi (owned by Shawnda) will send file avffpb\n",
      "Starting file exchange between Bronwyn and Lyndsey\n"
     ]
    },
    {
     "name": "stderr",
     "output_type": "stream",
     "text": [
      "Traceback (most recent call last):\n",
      "  File \"/usr/local/lib/python3.5/dist-packages/gevent/greenlet.py\", line 536, in run\n",
      "    result = self._run(*self.args, **self.kwargs)\n",
      "  File \"/home/adrien/Cloud/These/p2p-private-cloud/code/notebooks/file_exchange/device.py\", line 56, in _run\n",
      "    while not self.online.wait(0.1):\n",
      "  File \"/usr/local/lib/python3.5/dist-packages/gevent/event.py\", line 194, in wait\n",
      "    def wait(self, timeout=None):\n",
      "KeyboardInterrupt\n",
      "Thu Apr 26 14:34:30 2018 <Device at 0x7ff4a64a3c28> failed with KeyboardInterrupt\n",
      "\n"
     ]
    },
    {
     "name": "stdout",
     "output_type": "stream",
     "text": [
      "Failed starting file exchange between Bronwyn and Lyndsey\n",
      "Starting file exchange between Karlene and Barry\n",
      "Device km6gv32e02xe (owned by Karlene) will send file ftxcgi\n",
      "Starting file exchange between Cordia and Evelyne\n"
     ]
    },
    {
     "name": "stderr",
     "output_type": "stream",
     "text": [
      "Traceback (most recent call last):\n",
      "  File \"/usr/local/lib/python3.5/dist-packages/gevent/greenlet.py\", line 536, in run\n",
      "    result = self._run(*self.args, **self.kwargs)\n",
      "  File \"/home/adrien/Cloud/These/p2p-private-cloud/code/notebooks/file_exchange/device.py\", line 163, in _run\n",
      "    gevent.sleep(0)\n",
      "  File \"/usr/local/lib/python3.5/dist-packages/gevent/hub.py\", line 166, in sleep\n",
      "    loop.run_callback(waiter.switch)\n",
      "KeyboardInterrupt\n",
      "Thu Apr 26 14:34:32 2018 <Device at 0x7ff4a6488470> failed with KeyboardInterrupt\n",
      "\n"
     ]
    }
   ],
   "source": [
    "conf = config.default\n",
    "conf['n_users'] = 10\n",
    "conf['n_rounds'] = 30\n",
    "conf['period'] = timedelta(seconds=3)\n",
    "conf['output_dir'] = 'data/file_exchange_random_connected/'\n",
    "conf['send_strategy'] = 'random_connected'\n",
    "conf['n_file_exchanges'] = 10\n",
    "print(conf)\n",
    "\n",
    "run_experiment(conf)"
   ]
  },
  {
   "cell_type": "code",
   "execution_count": null,
   "metadata": {},
   "outputs": [],
   "source": [
    "# Interpretation"
   ]
  },
  {
   "cell_type": "code",
   "execution_count": 2,
   "metadata": {
    "scrolled": true
   },
   "outputs": [
    {
     "ename": "UnsupportedOperation",
     "evalue": "not readable",
     "output_type": "error",
     "traceback": [
      "\u001b[0;31m---------------------------------------------------------------------------\u001b[0m",
      "\u001b[0;31mUnsupportedOperation\u001b[0m                      Traceback (most recent call last)",
      "\u001b[0;32m<ipython-input-2-761553b92013>\u001b[0m in \u001b[0;36m<module>\u001b[0;34m()\u001b[0m\n\u001b[1;32m     27\u001b[0m \u001b[0mconf\u001b[0m \u001b[0;34m=\u001b[0m \u001b[0mload_conf\u001b[0m\u001b[0;34m(\u001b[0m\u001b[0mpath\u001b[0m\u001b[0;34m)\u001b[0m\u001b[0;34m\u001b[0m\u001b[0m\n\u001b[1;32m     28\u001b[0m \u001b[0;32mwith\u001b[0m \u001b[0mopen\u001b[0m\u001b[0;34m(\u001b[0m\u001b[0mconf\u001b[0m\u001b[0;34m[\u001b[0m\u001b[0;34m'output_dir'\u001b[0m\u001b[0;34m]\u001b[0m\u001b[0;34m+\u001b[0m\u001b[0;34m\"files_info.bin\"\u001b[0m\u001b[0;34m,\u001b[0m \u001b[0;34m'w'\u001b[0m\u001b[0;34m)\u001b[0m \u001b[0;32mas\u001b[0m \u001b[0mf\u001b[0m\u001b[0;34m:\u001b[0m\u001b[0;34m\u001b[0m\u001b[0m\n\u001b[0;32m---> 29\u001b[0;31m     \u001b[0mfiles_info\u001b[0m \u001b[0;34m=\u001b[0m \u001b[0mpickle\u001b[0m\u001b[0;34m.\u001b[0m\u001b[0mload\u001b[0m\u001b[0;34m(\u001b[0m\u001b[0mf\u001b[0m\u001b[0;34m)\u001b[0m\u001b[0;34m\u001b[0m\u001b[0m\n\u001b[0m\u001b[1;32m     30\u001b[0m \u001b[0mdf\u001b[0m \u001b[0;34m=\u001b[0m \u001b[0mmerge_results\u001b[0m\u001b[0;34m(\u001b[0m\u001b[0mconf\u001b[0m\u001b[0;34m)\u001b[0m\u001b[0;34m\u001b[0m\u001b[0m\n\u001b[1;32m     31\u001b[0m \u001b[0mdf\u001b[0m\u001b[0;34m\u001b[0m\u001b[0m\n",
      "\u001b[0;31mUnsupportedOperation\u001b[0m: not readable"
     ]
    }
   ],
   "source": [
    "def fetch_devices_data(conf):\n",
    "    df = pd.DataFrame()\n",
    "    for fn in os.listdir(conf['output_dir']):\n",
    "        if not fn.endswith(\".csv\"):\n",
    "            continue\n",
    "            \n",
    "        filepath = conf['output_dir']+fn\n",
    "        try:\n",
    "            # df=pd.read_csv(filepath, parse_dates=['Timestamp'],\n",
    "            # index_col=['Timestamp'])\n",
    "            df2 = pd.read_csv(filepath)\n",
    "        except:\n",
    "            print(\"Failed loading {}: {}\".format(fn, sys.exc_info()))\n",
    "            pass\n",
    "        else:\n",
    "            if(df.empty):\n",
    "                df = df2\n",
    "            else:\n",
    "                df = df.append(df2,)\n",
    "            #print(\"Loaded dataframe {}.\".format(fn))\n",
    "\n",
    "    df['t'] -= min(df['t'])\n",
    "    df = df.sort_values('t')\n",
    "    return df\n",
    "\n",
    "def fetch_experiment_data(path):\n",
    "    conf = load_conf(path)\n",
    "    with open(conf['output_dir']+\"files_info.bin\", 'w') as f:\n",
    "        files_info = pickle.load(f)\n",
    "    df = fetch_devices_data(conf)  \n",
    "    return conf, files_info, df\n",
    "conf, files_info, df = fetch_experiment_data(\"data/file_exchange_random_connected/\")"
   ]
  },
  {
   "cell_type": "code",
   "execution_count": null,
   "metadata": {},
   "outputs": [],
   "source": [
    "np.linspace()"
   ]
  }
 ],
 "metadata": {
  "kernelspec": {
   "display_name": "Python 3",
   "language": "python",
   "name": "python3"
  },
  "language_info": {
   "codemirror_mode": {
    "name": "ipython",
    "version": 3
   },
   "file_extension": ".py",
   "mimetype": "text/x-python",
   "name": "python",
   "nbconvert_exporter": "python",
   "pygments_lexer": "ipython3",
   "version": "3.5.2"
  }
 },
 "nbformat": 4,
 "nbformat_minor": 2
}
