{
 "cells": [
  {
   "cell_type": "code",
   "execution_count": 1,
   "metadata": {},
   "outputs": [],
   "source": [
    "%reload_ext Cython\n",
    "\n",
    "%reload_ext autoreload\n",
    "%autoreload 2\n",
    "\n",
    "from copy import deepcopy\n",
    "from datetime import datetime, timedelta\n",
    "from file_exchange import config, network\n",
    "from file_exchange.network import Network\n",
    "from file_exchange.peers_view import PeersView\n",
    "from file_exchange.user import User\n",
    "from gevent.event import AsyncResult\n",
    "from gevent.pool import Group\n",
    "from gevent.select import select\n",
    "import gevent\n",
    "import json\n",
    "import matplotlib as mpl\n",
    "import matplotlib.pyplot as plt\n",
    "import math\n",
    "import multiprocessing\n",
    "import numpy as np\n",
    "import pandas as pd\n",
    "import os\n",
    "import pickle\n",
    "import random\n",
    "import re\n",
    "import seaborn as sns\n",
    "import shutil\n",
    "import sys\n",
    "import time\n",
    "import traceback\n",
    "\n",
    "def load_conf(path):\n",
    "    f = open(path+'conf.json', 'r')\n",
    "    conf = json.load(f)\n",
    "    conf['period'] = datetime.strptime(conf['period'], \"%H:%M:%S\") - \\\n",
    "                      datetime.strptime(\"00:00\", \"%H:%M\")\n",
    "    return conf \n",
    "\n",
    "def fetch_dataframes(conf):\n",
    "    devices_df = pd.DataFrame()\n",
    "    users_df = pd.DataFrame()\n",
    "    for fn in os.listdir(conf['output_dir']):\n",
    "        if not fn.endswith(\".csv\"):\n",
    "            continue\n",
    "            \n",
    "        filepath = conf['output_dir']+fn\n",
    "        if re.search(\"device\", fn):\n",
    "            devices_df = append_to_df(filepath, devices_df)\n",
    "        elif re.search(\"user\", fn):\n",
    "            users_df = append_to_df(filepath, users_df)\n",
    "\n",
    "    devices_df['t'] -= min(devices_df['t'])\n",
    "    devices_df = devices_df.sort_values('t')\n",
    "    users_df['t'] -= min(users_df['t'])\n",
    "    users_df = users_df.sort_values('t')\n",
    "    return devices_df, users_df\n",
    "\n",
    "def fetch_experiment_data(path):\n",
    "    conf = load_conf(path)\n",
    "    with open(conf['output_dir']+\"files_info.bin\", 'rb') as f:\n",
    "        files_info = pickle.load(f)\n",
    "    devices_df, users_df = fetch_dataframes(conf)  \n",
    "    return conf, files_info, devices_df, users_df\n",
    "\n",
    "def append_to_df(filepath, df):\n",
    "    try:\n",
    "        df2 = pd.read_csv(filepath)\n",
    "    except:\n",
    "        print(\"Failed loading {}: {}\".format(fn, sys.exc_info()))\n",
    "        pass\n",
    "    else:\n",
    "        if(df.empty):\n",
    "            df = df2\n",
    "        else:\n",
    "            df = df.append(df2,)\n",
    "    return df\n",
    "\n",
    "# if experiment_set:\n",
    "#     data_dir = 'data/'+experiment_set_name+''/'+conf['experiment_name']+'/'\n",
    "# else:\n",
    "#     data_dir = \"data/\"+conf['experiment_name']+'/'\n",
    "# #data_dir=\"data/experiment_set/experiment_1/\"\n",
    "# conf, files_info, devices_df, users_df = fetch_experiment_data(data_dir)"
   ]
  },
  {
   "cell_type": "code",
   "execution_count": 2,
   "metadata": {},
   "outputs": [],
   "source": [
    "def fetch_experiment_set(path):\n",
    "    devices_df = pd.DataFrame()\n",
    "    users_df = pd.DataFrame()\n",
    "    conf = {}\n",
    "    files_info = {}\n",
    "    for experiment_name in os.listdir(path):\n",
    "        conf_, files_info_, devices_df_, users_df_ = \\\n",
    "            fetch_experiment_data(path+experiment_name+\"/\")\n",
    "        \n",
    "        devices_df_['experiment_name'] = experiment_name\n",
    "        users_df_['experiment_name'] = experiment_name\n",
    "        devices_df = devices_df.append(devices_df_, ignore_index=True)\n",
    "        users_df = users_df.append(users_df_, ignore_index=True)\n",
    "        conf[experiment_name] = conf_\n",
    "        files_info[experiment_name] = files_info_\n",
    "    return conf, files_info, devices_df, users_df\n",
    "\n",
    "# Mesage IDs are not unique in the dataset! (experiment_id, mes_id) should be\n",
    "conf, files_info, devices_df, users_df =  fetch_experiment_set(\"data/random_file_size/\")"
   ]
  },
  {
   "cell_type": "markdown",
   "metadata": {},
   "source": [
    "## RTT"
   ]
  },
  {
   "cell_type": "code",
   "execution_count": 11,
   "metadata": {},
   "outputs": [],
   "source": [
    "%%cython\n",
    "\n",
    "import numpy as np\n",
    "import pandas as pd \n",
    "\n",
    "def get_transfer_times(devices_df):\n",
    "    assert(devices_df['mess_id'].unique().shape[0] == \\\n",
    "      np.unique(\n",
    "          devices_df[['experiment_id', 'mess_id']].values.astype(np.uint), \n",
    "          axis=0).shape[0])\n",
    "    \n",
    "    messages_id = devices_df['mess_id'].unique()\n",
    "    transfer_times = pd.DataFrame()\n",
    "\n",
    "    cdef long n_messages = messages_id.shape[0]\n",
    "    cdef long i, m_id\n",
    "    cdef char success, invalid\n",
    "    cdef float[2] times\n",
    "    cdef int[2] n_hops\n",
    "#     cdef float[2] times\n",
    "    \n",
    "    for i, m_id in enumerate(messages_id):\n",
    "        times = [-1] * 2\n",
    "        n_hops = [-1] * 2\n",
    "        success = True\n",
    "        invalid = False\n",
    "        \n",
    "        this_message = devices_df[(devices_df['mess_id'] == m_id)]\n",
    "        \n",
    "        for typ in [1, 2]:\n",
    "            data = this_message[(this_message['type'] == typ)]\n",
    "            data_sent = data[data['sent'] != 0]['t']\n",
    "            data_received = data[data['received'] != 0]['t']\n",
    "            \n",
    "            \n",
    "            \n",
    "            if data_sent.shape[0] != 1 or data_received.shape[0] > 1:\n",
    "                invalid = True\n",
    "                break\n",
    "            \n",
    "            n_hops[typ-1] = data[data['forwarded'] != 0].shape[0]\n",
    "            if data_sent.shape[0] == 1 and data_received.empty:\n",
    "                success = False\n",
    "                break\n",
    "            \n",
    "            # Reached its destination: +1 hop\n",
    "            n_hops[typ-1] += 1\n",
    "            times[typ-1] = data_received.values[0] - data_sent.values[0]\n",
    "                \n",
    "        if invalid:\n",
    "            continue\n",
    "            \n",
    "        transfer_times = transfer_times.append(pd.Series({\n",
    "            'mess_id': m_id, \n",
    "            'success': success,\n",
    "            'chunk_time': times[0] if times[0] != -1 else None,\n",
    "            'ack_time': times[1] if times[1] != -1 else None,\n",
    "            'chunk_n_hops': n_hops[0] if n_hops[0] != -1 else None,\n",
    "            'ack_n_hops': n_hops[1] if n_hops[1] != -1 else None,\n",
    "        }), ignore_index=True)\n",
    "        \n",
    "        # Debug\n",
    "        if i % 10000 == 0:\n",
    "            print(\"{:.1%} done\".format((i+1)/n_messages))\n",
    "        i += 1\n",
    "    return transfer_times"
   ]
  },
  {
   "cell_type": "code",
   "execution_count": 12,
   "metadata": {
    "scrolled": true
   },
   "outputs": [
    {
     "name": "stdout",
     "output_type": "stream",
     "text": [
      "0.0% done\n",
      "6.7% done\n",
      "13.3% done\n",
      "20.0% done\n",
      "26.6% done\n",
      "33.3% done\n",
      "39.9% done\n",
      "46.6% done\n",
      "53.2% done\n",
      "59.9% done\n",
      "66.5% done\n",
      "73.2% done\n",
      "79.8% done\n",
      "86.5% done\n",
      "93.2% done\n",
      "99.8% done\n"
     ]
    }
   ],
   "source": [
    "transfer_times = get_transfer_times(devices_df)\n",
    "transfer_times.to_csv(\"outputs/transfer_times_random_file_size.csv\")"
   ]
  },
  {
   "cell_type": "code",
   "execution_count": 13,
   "metadata": {},
   "outputs": [],
   "source": [
    "PLOT_DIR = \"outputs/random_file_size/\"\n",
    "os.makedirs(PLOT_DIR)"
   ]
  },
  {
   "cell_type": "code",
   "execution_count": 43,
   "metadata": {},
   "outputs": [
    {
     "name": "stdout",
     "output_type": "stream",
     "text": [
      "2.78303861618042 808.9675903320312\n",
      "0.9210782647132874 779.5223999023438\n"
     ]
    }
   ],
   "source": [
    "def to_cdf(data):\n",
    "    data_size = len(data)\n",
    "    data_set=sorted(set(data))\n",
    "    bins=np.append(data_set, data_set[-1]+1)\n",
    "    counts, bin_edges = np.histogram(data, bins=bins, density=False)\n",
    "\n",
    "    counts=counts.astype(float)/data_size\n",
    "\n",
    "    # Find the cdf\n",
    "    cdf = np.cumsum(counts)\n",
    "    \n",
    "    return cdf, bins\n",
    "\n",
    "def to_cdf_2(data, n_bins):\n",
    "    data = data[data.notna()]\n",
    "    data_size = data.shape[0]\n",
    "    bins=np.logspace(np.log10(data.min()), np.log10(data.max()), num=n_bins)\n",
    "    \n",
    "    counts, bin_edges = np.histogram(data, bins=bins)\n",
    "    cdf = np.cumsum(counts/data_size)\n",
    "    \n",
    "    return cdf, bin_edges\n",
    "\n",
    "N_BINS = 100\n",
    "chunk_cdf, chunk_bins = to_cdf_2(transfer_times['chunk_time'], N_BINS)\n",
    "ack_cdf, ack_bins = to_cdf_2(transfer_times['ack_time'], N_BINS)"
   ]
  },
  {
   "cell_type": "code",
   "execution_count": 50,
   "metadata": {},
   "outputs": [
    {
     "name": "stdout",
     "output_type": "stream",
     "text": [
      "chunks: 145172 messages w/ 55.55s +- 36.46s\n",
      "acks: 141276 messages w/ 47.74s +- 32.65s\n",
      "Messages success rate: 94.00%\n"
     ]
    }
   ],
   "source": [
    "print(\"chunks: {} messages w/ {:.2f}s +- {:.2f}s\".format(\n",
    "    transfer_times[transfer_times['chunk_time'].notna()]['chunk_time'].shape[0],\n",
    "    transfer_times[transfer_times['chunk_time'].notna()]['chunk_time'].mean(),\n",
    "    transfer_times[transfer_times['chunk_time'].notna()]['chunk_time'].std(),))\n",
    "print(\"acks: {} messages w/ {:.2f}s +- {:.2f}s\".format(\n",
    "    transfer_times[transfer_times['ack_time'].notna()]['ack_time'].shape[0],\n",
    "    transfer_times[transfer_times['ack_time'].notna()]['ack_time'].mean(),\n",
    "    transfer_times[transfer_times['ack_time'].notna()]['ack_time'].std(),))\n",
    "print(\"Messages success rate: {:.2%}\".format(\n",
    "    transfer_times['success'].sum() / transfer_times['success'].shape[0]))"
   ]
  },
  {
   "cell_type": "code",
   "execution_count": 47,
   "metadata": {},
   "outputs": [
    {
     "data": {
      "image/png": "[encoded data removed]",
      "text/plain": [
       "<matplotlib.figure.Figure at 0x7fb997794eb8>"
      ]
     },
     "metadata": {},
     "output_type": "display_data"
    }
   ],
   "source": [
    "SIZE=5\n",
    "fig, ax = plt.subplots(figsize=(SIZE, SIZE * 9 / 16))\n",
    "sns.set_context('paper')\n",
    "sns.set(font='serif')\n",
    "sns.set_style(\"whitegrid\", {\n",
    "        \"font.family\": \"serif\",\n",
    "        \"font.serif\": [\"Times\", \"Palatino\", \"serif\"]\n",
    "    })\n",
    "mpl.rc('text', usetex=True)\n",
    "mpl.rcParams['text.latex.preamble'] = [r'\\usepackage{amsmath}']\n",
    "\n",
    "# Plot the cdf\n",
    "ax.plot(ack_bins[0:-1], ack_cdf, label=\"Acks\", color=\"gray\", linestyle=\"--\")\n",
    "ax.plot(chunk_bins[0:-1], chunk_cdf, label=\"Chunks\", color=\"gray\")\n",
    "\n",
    "ax.set_xlabel('Time (s)')\n",
    "#ax.set_xlim(0,)\n",
    "ax.set_xscale('log')\n",
    "ax.set_ylabel('CDF (\\%)')\n",
    "ax.yaxis.set_major_formatter(mpl.ticker.FuncFormatter(lambda y, _: '{:.0%}'.format(y))) \n",
    "ax.set_ylim(0,)\n",
    "ax.legend()\n",
    "#plt.suptitle('Cumulative distribution function of messages transmission time')\n",
    "\n",
    "\n",
    "sns.despine()\n",
    "plt.tight_layout()\n",
    "plt.savefig('outputs/messages_rtt_cdf_random_file_size.svg')\n",
    "plt.show()"
   ]
  },
  {
   "cell_type": "code",
   "execution_count": 34,
   "metadata": {},
   "outputs": [
    {
     "ename": "AttributeError",
     "evalue": "Unknown property density",
     "output_type": "error",
     "traceback": [
      "\u001b[0;31m---------------------------------------------------------------------------\u001b[0m",
      "\u001b[0;31mAttributeError\u001b[0m                            Traceback (most recent call last)",
      "\u001b[0;32m<ipython-input-34-69fc75a407b8>\u001b[0m in \u001b[0;36m<module>\u001b[0;34m()\u001b[0m\n\u001b[1;32m      3\u001b[0m ax.hist(transfer_times['ack_time'][transfer_times['ack_time'].notna()], \n\u001b[1;32m      4\u001b[0m         \u001b[0mbins\u001b[0m\u001b[0;34m=\u001b[0m\u001b[0;36m100\u001b[0m\u001b[0;34m,\u001b[0m \u001b[0mdensity\u001b[0m\u001b[0;34m=\u001b[0m\u001b[0;32mTrue\u001b[0m\u001b[0;34m,\u001b[0m\u001b[0;34m\u001b[0m\u001b[0m\n\u001b[0;32m----> 5\u001b[0;31m         label=\"Acks\")\n\u001b[0m\u001b[1;32m      6\u001b[0m ax.hist(transfer_times['chunk_time'][transfer_times['chunk_time'].notna()], \n\u001b[1;32m      7\u001b[0m         \u001b[0mbins\u001b[0m\u001b[0;34m=\u001b[0m\u001b[0;36m100\u001b[0m\u001b[0;34m,\u001b[0m \u001b[0mdensity\u001b[0m\u001b[0;34m=\u001b[0m\u001b[0;32mTrue\u001b[0m\u001b[0;34m,\u001b[0m\u001b[0;34m\u001b[0m\u001b[0m\n",
      "\u001b[0;32m/usr/local/lib/python3.5/dist-packages/matplotlib/__init__.py\u001b[0m in \u001b[0;36minner\u001b[0;34m(ax, *args, **kwargs)\u001b[0m\n\u001b[1;32m   1896\u001b[0m                     warnings.warn(msg % (label_namer, func.__name__),\n\u001b[1;32m   1897\u001b[0m                                   RuntimeWarning, stacklevel=2)\n\u001b[0;32m-> 1898\u001b[0;31m             \u001b[0;32mreturn\u001b[0m \u001b[0mfunc\u001b[0m\u001b[0;34m(\u001b[0m\u001b[0max\u001b[0m\u001b[0;34m,\u001b[0m \u001b[0;34m*\u001b[0m\u001b[0margs\u001b[0m\u001b[0;34m,\u001b[0m \u001b[0;34m**\u001b[0m\u001b[0mkwargs\u001b[0m\u001b[0;34m)\u001b[0m\u001b[0;34m\u001b[0m\u001b[0m\n\u001b[0m\u001b[1;32m   1899\u001b[0m         \u001b[0mpre_doc\u001b[0m \u001b[0;34m=\u001b[0m \u001b[0minner\u001b[0m\u001b[0;34m.\u001b[0m\u001b[0m__doc__\u001b[0m\u001b[0;34m\u001b[0m\u001b[0m\n\u001b[1;32m   1900\u001b[0m         \u001b[0;32mif\u001b[0m \u001b[0mpre_doc\u001b[0m \u001b[0;32mis\u001b[0m \u001b[0;32mNone\u001b[0m\u001b[0;34m:\u001b[0m\u001b[0;34m\u001b[0m\u001b[0m\n",
      "\u001b[0;32m/usr/local/lib/python3.5/dist-packages/matplotlib/axes/_axes.py\u001b[0m in \u001b[0;36mhist\u001b[0;34m(***failed resolving arguments***)\u001b[0m\n\u001b[1;32m   6387\u001b[0m             \u001b[0;32mif\u001b[0m \u001b[0mpatch\u001b[0m\u001b[0;34m:\u001b[0m\u001b[0;34m\u001b[0m\u001b[0m\n\u001b[1;32m   6388\u001b[0m                 \u001b[0mp\u001b[0m \u001b[0;34m=\u001b[0m \u001b[0mpatch\u001b[0m\u001b[0;34m[\u001b[0m\u001b[0;36m0\u001b[0m\u001b[0;34m]\u001b[0m\u001b[0;34m\u001b[0m\u001b[0m\n\u001b[0;32m-> 6389\u001b[0;31m                 \u001b[0mp\u001b[0m\u001b[0;34m.\u001b[0m\u001b[0mupdate\u001b[0m\u001b[0;34m(\u001b[0m\u001b[0mkwargs\u001b[0m\u001b[0;34m)\u001b[0m\u001b[0;34m\u001b[0m\u001b[0m\n\u001b[0m\u001b[1;32m   6390\u001b[0m                 \u001b[0;32mif\u001b[0m \u001b[0mlbl\u001b[0m \u001b[0;32mis\u001b[0m \u001b[0;32mnot\u001b[0m \u001b[0;32mNone\u001b[0m\u001b[0;34m:\u001b[0m\u001b[0;34m\u001b[0m\u001b[0m\n\u001b[1;32m   6391\u001b[0m                     \u001b[0mp\u001b[0m\u001b[0;34m.\u001b[0m\u001b[0mset_label\u001b[0m\u001b[0;34m(\u001b[0m\u001b[0mlbl\u001b[0m\u001b[0;34m)\u001b[0m\u001b[0;34m\u001b[0m\u001b[0m\n",
      "\u001b[0;32m/usr/local/lib/python3.5/dist-packages/matplotlib/artist.py\u001b[0m in \u001b[0;36mupdate\u001b[0;34m(self, props)\u001b[0m\n\u001b[1;32m    883\u001b[0m         \u001b[0;32mtry\u001b[0m\u001b[0;34m:\u001b[0m\u001b[0;34m\u001b[0m\u001b[0m\n\u001b[1;32m    884\u001b[0m             ret = [_update_property(self, k, v)\n\u001b[0;32m--> 885\u001b[0;31m                    for k, v in props.items()]\n\u001b[0m\u001b[1;32m    886\u001b[0m         \u001b[0;32mfinally\u001b[0m\u001b[0;34m:\u001b[0m\u001b[0;34m\u001b[0m\u001b[0m\n\u001b[1;32m    887\u001b[0m             \u001b[0mself\u001b[0m\u001b[0;34m.\u001b[0m\u001b[0meventson\u001b[0m \u001b[0;34m=\u001b[0m \u001b[0mstore\u001b[0m\u001b[0;34m\u001b[0m\u001b[0m\n",
      "\u001b[0;32m/usr/local/lib/python3.5/dist-packages/matplotlib/artist.py\u001b[0m in \u001b[0;36m<listcomp>\u001b[0;34m(.0)\u001b[0m\n\u001b[1;32m    883\u001b[0m         \u001b[0;32mtry\u001b[0m\u001b[0;34m:\u001b[0m\u001b[0;34m\u001b[0m\u001b[0m\n\u001b[1;32m    884\u001b[0m             ret = [_update_property(self, k, v)\n\u001b[0;32m--> 885\u001b[0;31m                    for k, v in props.items()]\n\u001b[0m\u001b[1;32m    886\u001b[0m         \u001b[0;32mfinally\u001b[0m\u001b[0;34m:\u001b[0m\u001b[0;34m\u001b[0m\u001b[0m\n\u001b[1;32m    887\u001b[0m             \u001b[0mself\u001b[0m\u001b[0;34m.\u001b[0m\u001b[0meventson\u001b[0m \u001b[0;34m=\u001b[0m \u001b[0mstore\u001b[0m\u001b[0;34m\u001b[0m\u001b[0m\n",
      "\u001b[0;32m/usr/local/lib/python3.5/dist-packages/matplotlib/artist.py\u001b[0m in \u001b[0;36m_update_property\u001b[0;34m(self, k, v)\u001b[0m\n\u001b[1;32m    876\u001b[0m                 \u001b[0mfunc\u001b[0m \u001b[0;34m=\u001b[0m \u001b[0mgetattr\u001b[0m\u001b[0;34m(\u001b[0m\u001b[0mself\u001b[0m\u001b[0;34m,\u001b[0m \u001b[0;34m'set_'\u001b[0m \u001b[0;34m+\u001b[0m \u001b[0mk\u001b[0m\u001b[0;34m,\u001b[0m \u001b[0;32mNone\u001b[0m\u001b[0;34m)\u001b[0m\u001b[0;34m\u001b[0m\u001b[0m\n\u001b[1;32m    877\u001b[0m                 \u001b[0;32mif\u001b[0m \u001b[0mfunc\u001b[0m \u001b[0;32mis\u001b[0m \u001b[0;32mNone\u001b[0m \u001b[0;32mor\u001b[0m \u001b[0;32mnot\u001b[0m \u001b[0msix\u001b[0m\u001b[0;34m.\u001b[0m\u001b[0mcallable\u001b[0m\u001b[0;34m(\u001b[0m\u001b[0mfunc\u001b[0m\u001b[0;34m)\u001b[0m\u001b[0;34m:\u001b[0m\u001b[0;34m\u001b[0m\u001b[0m\n\u001b[0;32m--> 878\u001b[0;31m                     \u001b[0;32mraise\u001b[0m \u001b[0mAttributeError\u001b[0m\u001b[0;34m(\u001b[0m\u001b[0;34m'Unknown property %s'\u001b[0m \u001b[0;34m%\u001b[0m \u001b[0mk\u001b[0m\u001b[0;34m)\u001b[0m\u001b[0;34m\u001b[0m\u001b[0m\n\u001b[0m\u001b[1;32m    879\u001b[0m                 \u001b[0;32mreturn\u001b[0m \u001b[0mfunc\u001b[0m\u001b[0;34m(\u001b[0m\u001b[0mv\u001b[0m\u001b[0;34m)\u001b[0m\u001b[0;34m\u001b[0m\u001b[0m\n\u001b[1;32m    880\u001b[0m \u001b[0;34m\u001b[0m\u001b[0m\n",
      "\u001b[0;31mAttributeError\u001b[0m: Unknown property density"
     ]
    },
    {
     "data": {
      "image/png": "[encoded data removed]",
      "text/plain": [
       "<matplotlib.figure.Figure at 0x7fb997965cc0>"
      ]
     },
     "metadata": {},
     "output_type": "display_data"
    }
   ],
   "source": [
    "f, ax = plt.subplots()\n",
    "# Plot the cdf\n",
    "ax.hist(transfer_times['ack_time'][transfer_times['ack_time'].notna()], \n",
    "        bins=100, density=True,\n",
    "        label=\"Acks\")\n",
    "ax.hist(transfer_times['chunk_time'][transfer_times['chunk_time'].notna()], \n",
    "        bins=100, density=True,\n",
    "        label=\"Chunks\")\n",
    "\n",
    "ax.set_xlabel('Time (s)')\n",
    "ax.set_xlim(0,)\n",
    "ax.set_xscale('log')\n",
    "ax.set_ylabel('CDF (%)')\n",
    "ax.yaxis.set_major_formatter(mpl.ticker.FuncFormatter(lambda y, _: '{:.0%}'.format(y))) \n",
    "#ax.set_ylim(0,)\n",
    "ax.legend()\n",
    "plt.suptitle('Cumulative distribution function of messages transmission time')\n",
    "\n",
    "\n",
    "sns.despine()\n",
    "plt.savefig('outputs/messages_rtt_hist_random_file_size.svg')\n",
    "plt.show()"
   ]
  },
  {
   "cell_type": "code",
   "execution_count": null,
   "metadata": {},
   "outputs": [],
   "source": []
  }
 ],
 "metadata": {
  "kernelspec": {
   "display_name": "Python 3",
   "language": "python",
   "name": "python3"
  },
  "language_info": {
   "codemirror_mode": {
    "name": "ipython",
    "version": 3
   },
   "file_extension": ".py",
   "mimetype": "text/x-python",
   "name": "python",
   "nbconvert_exporter": "python",
   "pygments_lexer": "ipython3",
   "version": "3.5.2"
  }
 },
 "nbformat": 4,
 "nbformat_minor": 2
}
