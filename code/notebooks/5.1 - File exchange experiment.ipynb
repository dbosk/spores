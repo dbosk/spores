{
 "cells": [
  {
   "cell_type": "markdown",
   "metadata": {},
   "source": [
    "# Functions and imports"
   ]
  },
  {
   "cell_type": "code",
   "execution_count": 1,
   "metadata": {},
   "outputs": [],
   "source": [
    "%reload_ext autoreload\n",
    "%autoreload 2\n",
    "\n",
    "from copy import deepcopy\n",
    "from datetime import datetime, timedelta\n",
    "from file_exchange import config, network\n",
    "from file_exchange.network import Network\n",
    "from file_exchange.peers_view import PeersView\n",
    "from file_exchange.user import User\n",
    "from gevent.event import AsyncResult\n",
    "from gevent.pool import Group\n",
    "from gevent.select import select\n",
    "import gevent\n",
    "import json\n",
    "import matplotlib as mpl\n",
    "import matplotlib.pyplot as plt\n",
    "import math\n",
    "import multiprocessing\n",
    "import numpy as np\n",
    "import os\n",
    "import pandas as pd\n",
    "import pickle\n",
    "import random\n",
    "import re\n",
    "import seaborn as sns\n",
    "import shutil\n",
    "import sys\n",
    "import time\n",
    "import traceback\n",
    "\n",
    "def get_users_pair(users):\n",
    "    u1 = random.choice(users)\n",
    "    u2 = random.choice(users)\n",
    "    while u1 == u2:\n",
    "        u2 = random.choice(users)\n",
    "    return u1, u2\n",
    "\n",
    "def save_conf(conf):\n",
    "    with open(conf['output_dir']+\"conf.json\", \"w\") as f:\n",
    "        conf2 = deepcopy(conf)\n",
    "        conf2['period'] = str(conf2['period'])\n",
    "        json.dump(conf2, f)\n",
    "def load_conf(path):\n",
    "    f = open(path+'conf.json', 'r')\n",
    "    conf = json.load(f)\n",
    "    conf['period'] = datetime.strptime(conf['period'], \"%H:%M:%S\") - \\\n",
    "                      datetime.strptime(\"00:00\", \"%H:%M\")\n",
    "    return conf        \n",
    "\n",
    "def init_dir(path):\n",
    "    if path is None:\n",
    "        return\n",
    "    if os.path.isdir(path):\n",
    "        if os.listdir(path):\n",
    "            ans = input(\"Remove previous content of \"+path+\"? (y/N) \")\n",
    "            if ans == 'Y' or ans == 'y' or ans == 'o' or ans == 'O':\n",
    "                shutil.rmtree(path)\n",
    "    if not os.path.isdir(path):\n",
    "        os.makedirs(path)\n",
    "\n",
    "class Experiment:\n",
    "    def __init__(self, conf):\n",
    "        self.conf = conf\n",
    "        \n",
    "        # Initializing stuff\n",
    "        if conf['do_monitor']:\n",
    "            init_dir(conf['output_dir'])\n",
    "        self.address_book = PeersView(conf)\n",
    "        self.net = Network()\n",
    "        self.users = [None] * conf['n_users']\n",
    "        for i in range(conf['n_users']):\n",
    "            self.users[i] = User(self.address_book, self.net, conf)\n",
    "        \n",
    "    def run(self):\n",
    "        t_start = time.perf_counter()\n",
    "        \n",
    "        # Start greenlets\n",
    "        for u in self.users:\n",
    "            u.start()\n",
    "\n",
    "        # Wait a bit for everyone to register to address_book\n",
    "        gevent.sleep(self.conf['period'].total_seconds()/2)\n",
    "        \n",
    "        # Start file exchange\n",
    "        self.users_pairs = set()\n",
    "        self.files_info_r = []\n",
    "        while len(self.users_pairs) < self.conf['n_file_exchanges']:\n",
    "            u1, u2 = get_users_pair(self.users)\n",
    "            # We don't want two users to exchange files twice among them\n",
    "            if (u1, u2) in self.users_pairs:\n",
    "                continue\n",
    "            # Now try creating the route, else try again\n",
    "            try:\n",
    "                file_info = u2.init_file_receive(u1)\n",
    "            except Exception as e:\n",
    "                print(\n",
    "                    \"[{}] Failed creating user pair:\".format(\n",
    "                        self.conf['experiment_name']), e)\n",
    "                pass\n",
    "            else:\n",
    "                self.users_pairs.add((u1, u2))\n",
    "                self.files_info_r.append(file_info)\n",
    "                \n",
    "                print(\"[{}] {} will send a file to {}.\".format(\n",
    "                    self.conf['experiment_name'], u1.name, u2.name))\n",
    "                \n",
    "        # Also fetch the sender's files_info\n",
    "        self.files_info_s = [v  for u in self.users \n",
    "                           for _, v in u.sending_files.items()]\n",
    "        self.n_file_exchanges = len(self.files_info_s)\n",
    "\n",
    "        # The loop\n",
    "        all_files_acknowledged = False\n",
    "        while not all_files_acknowledged:\n",
    "            all_files_acknowledged = all([\n",
    "                finfo['f'].all_acknowledged() \n",
    "                for finfo in self.files_info_s])\n",
    "            \n",
    "            if all_files_acknowledged:\n",
    "                break\n",
    "            \n",
    "            # Progression text\n",
    "            completion = [None] * self.n_file_exchanges\n",
    "            n_chunks = 0\n",
    "            for i, finfo in enumerate(self.files_info_s):\n",
    "                completion[i] = sum(finfo['f'].acked_chunks)\n",
    "                n_chunks += finfo['f'].n_chunks\n",
    "#                 print(\"[{}] File {} completed at {:.0%}.\".format(\n",
    "#                     self.conf['experiment_name'], finfo['f'].id, completion[i]))\n",
    "            print(\"[{}] Files transfer at {:.0%} overall.\".format(\n",
    "                self.conf['experiment_name'], sum(completion) / n_chunks))\n",
    "            \n",
    "            # Sleep\n",
    "            if not all_files_acknowledged:\n",
    "                gevent.sleep(self.conf['period'].total_seconds())\n",
    "        \n",
    "        print(\"[{}] All files were acknowledged.\".format(self.conf['experiment_name']))\n",
    "        \n",
    "        # Request for users to die\n",
    "        for u in self.users:\n",
    "            u.please_die()\n",
    "        gevent.joinall(self.users)\n",
    "        \n",
    "        # Save config\n",
    "        if self.conf['output_dir'] is not None:\n",
    "            save_conf(self.conf)\n",
    "            with open(self.conf['output_dir']+\"files_info.bin\", 'wb') as f:\n",
    "                pickle.dump(self.files_info_s, f)\n",
    "\n",
    "        print(\"[{}] Done in {:.0f}s.\".format(\n",
    "            self.conf['experiment_name'],\n",
    "            time.perf_counter() - t_start))"
   ]
  },
  {
   "cell_type": "markdown",
   "metadata": {},
   "source": [
    "# File sharing\n",
    "\n",
    "Le temps d'échange des fichiers est proportionnel au nombre d'utilisateurs..."
   ]
  },
  {
   "cell_type": "code",
   "execution_count": null,
   "metadata": {
    "scrolled": true
   },
   "outputs": [
    {
     "name": "stdout",
     "output_type": "stream",
     "text": [
      "Ready?\n",
      "min_file_size: 51200, max_file_size: 51200\n",
      "[experiment0_5users] Stephany will send a file to Maxwell.\n",
      "min_file_size: 51200, max_file_size: 51200\n",
      "[experiment0_5users] Maxwell will send a file to Queen.\n",
      "min_file_size: 51200, max_file_size: 51200\n"
     ]
    }
   ],
   "source": [
    "def run_experiment_varying_users(experiment_id, n_users):\n",
    "    conf = config.default\n",
    "    conf['n_users'] = n_users\n",
    "    conf['n_rounds'] = 200\n",
    "    conf['period'] = timedelta(seconds=10)\n",
    "    conf['do_monitor'] = True\n",
    "    conf['experiment_id'] = experiment_id\n",
    "    conf['experiment_name'] = \"experiment\"+str(experiment_id)+\"_\"+str(n_users)+\"users\"\n",
    "    conf['output_dir'] = 'data/'+experiment_set_name+'/'+conf['experiment_name']+'/'\n",
    "    conf['send_strategy'] = 'random_connected'\n",
    "    conf['n_file_exchanges'] = 10\n",
    "    \n",
    "    experiment = Experiment(conf)\n",
    "    experiment.run()\n",
    "\n",
    "experiment_set_name = \"users_number\"\n",
    "experiment_set = True\n",
    "#N_EXPERIMENTS = 100\n",
    "# couple (experiment_id, n_users) such that n_users in [5, 10, ..., 25] \n",
    "# and 100 experiments per n_users\n",
    "EXPERIMENTS_PER_N_USERS = 10\n",
    "N_USERS_STEP = 5\n",
    "N_USERS_BINS = 10\n",
    "experiment_id_n_users = [(i, N_USERS_STEP * (i % N_USERS_BINS + 1)) \\\n",
    "     for i in range(N_USERS_BINS*EXPERIMENTS_PER_N_USERS)]\n",
    "\n",
    "input('Ready?')\n",
    "if os.path.isdir('data/'+experiment_set_name+'/'):\n",
    "    shutil.rmtree('data/'+experiment_set_name+'/')\n",
    "with multiprocessing.Pool(multiprocessing.cpu_count()) as p:\n",
    "    #p.map(run_experiment, range(1, N_EXPERIMENTS+1))\n",
    "    p.starmap(run_experiment_varying_users, experiment_id_n_users)"
   ]
  },
  {
   "cell_type": "code",
   "execution_count": null,
   "metadata": {},
   "outputs": [
    {
     "name": "stdout",
     "output_type": "stream",
     "text": [
      "Ready?\n",
      "Starting experiment experiment21 ...\n",
      "Starting experiment experiment0 ...\n",
      "Starting experiment experiment7 ...\n",
      "Starting experiment experiment14 ...\n"
     ]
    }
   ],
   "source": [
    "experiment_set_name = \"random_file_size\"\n",
    "experiment_set = True\n",
    "\n",
    "count_finished = multiprocessing.Value('I')\n",
    "def run_experiments(experiment_id):\n",
    "    conf = config.default\n",
    "    conf['n_users'] = 20\n",
    "    conf['n_rounds'] = 200\n",
    "    conf['period'] = timedelta(seconds=10)\n",
    "    conf['do_monitor'] = True\n",
    "    conf['experiment_id'] = experiment_id\n",
    "    conf['min_file_size']= 5120  # kB\n",
    "    conf['max_file_size']= 512000  # kB']\n",
    "    conf['experiment_name'] = \"experiment\"+str(experiment_id)\n",
    "    conf['output_dir'] = 'data/'+experiment_set_name+'/'+conf['experiment_name']+'/'\n",
    "    conf['send_strategy'] = 'random_connected'\n",
    "    conf['n_file_exchanges'] = 10\n",
    "    \n",
    "    experiment = Experiment(conf)\n",
    "    experiment.run()\n",
    "    with count_finished.get_lock():\n",
    "        count_finished.value += 1\n",
    "        print(\"[{:.0%}] done overall!\".format(count_finished.value/N_EXPERIMENTS))\n",
    "\n",
    "N_EXPERIMENTS = 100\n",
    "input('Ready?')\n",
    "if os.path.isdir('data/'+experiment_set_name+'/'):\n",
    "    shutil.rmtree('data/'+experiment_set_name+'/')\n",
    "with multiprocessing.Pool(multiprocessing.cpu_count()) as p:\n",
    "    p.map(run_experiments, range(N_EXPERIMENTS))"
   ]
  },
  {
   "cell_type": "code",
   "execution_count": 2,
   "metadata": {
    "scrolled": true
   },
   "outputs": [
    {
     "name": "stdout",
     "output_type": "stream",
     "text": [
      "{'max_file_size': 102400, 'layer_threshold': 0.001, 'do_monitor': False, 'n_file_chunks': 10, 'period': datetime.timedelta(0, 10), 'n_rounds': 100, 'ack_size': 0, 'header_size': 100, 'bandwidth': 200, 'experiment_name': 'random_connected_1M_chunks_send_greenlets', 'output_dir': 'data/random_connected_1M_chunks_send_greenlets/', 'gossip_size': 20, 'n_users': 10, 'send_strategy': 'random_connected', 'min_file_size': 10240, 'chunk_max_size': 512, 'ping_time': 0.1, 'n_file_exchanges': 10, 'minimum_node_availability': 0, 'n_layers': 3}\n",
      "[random_connected_1M_chunks_send_greenlets] Kaci will send a file to Evelyne.\n",
      "[random_connected_1M_chunks_send_greenlets] Vonnie will send a file to Cristina.\n",
      "[random_connected_1M_chunks_send_greenlets] Sandie will send a file to Kaci.\n",
      "[random_connected_1M_chunks_send_greenlets] Cristina will send a file to Reita.\n",
      "[random_connected_1M_chunks_send_greenlets] Evelyne will send a file to Vonnie.\n",
      "[random_connected_1M_chunks_send_greenlets] Sandie will send a file to Reita.\n",
      "[random_connected_1M_chunks_send_greenlets] Reita will send a file to Vonnie.\n",
      "[random_connected_1M_chunks_send_greenlets] Kaci will send a file to Vonnie.\n",
      "[random_connected_1M_chunks_send_greenlets] Sandie will send a file to Cristina.\n",
      "[random_connected_1M_chunks_send_greenlets] Cristina will send a file to Newton.\n",
      "[random_connected_1M_chunks_send_greenlets] Files transfer at 0% overall.\n",
      "Done receiving file tpjuzz!\n",
      "[random_connected_1M_chunks_send_greenlets] Files transfer at 48% overall.\n",
      "Done receiving file qhdpsp!\n",
      "Done receiving file fhah09!\n",
      "Done receiving file 8wx0bt!\n",
      "Done receiving file j37w0c!\n",
      "Done receiving file jpygf6!\n",
      "[random_connected_1M_chunks_send_greenlets] Files transfer at 93% overall.\n",
      "Done receiving file msbfb3!\n",
      "Done receiving file cbd4f5!\n",
      "Done receiving file k417fk!\n",
      "Done receiving file ea8m66!\n",
      "[random_connected_1M_chunks_send_greenlets] Files transfer at 100% overall.\n",
      "[random_connected_1M_chunks_send_greenlets] All files were acknowledged\n",
      "User Evelyne is done.\n",
      "User Reita is done.\n",
      "User Kaci is done.\n",
      "User Annelle is done.\n",
      "User Cristina is done.\n",
      "User Newton is done.\n",
      "User Vonnie is done.\n",
      "User Karlene is done.\n",
      "User Newton is done.\n",
      "User Sandie is done.\n",
      "[random_connected_1M_chunks_send_greenlets] Done in 41s\n"
     ]
    }
   ],
   "source": [
    "experiment_set = False\n",
    "conf = config.default\n",
    "conf['n_users'] = 10\n",
    "conf['n_rounds'] = 100\n",
    "conf['period'] = timedelta(seconds=10)\n",
    "conf['do_monitor'] = False\n",
    "conf['experiment_name'] = \"random_connected_1M_chunks_send_greenlets\"\n",
    "conf['output_dir'] = 'data/'+conf['experiment_name']+'/'\n",
    "conf['send_strategy'] = 'random_connected'\n",
    "conf['n_file_exchanges'] = 10\n",
    "print(conf)\n",
    "\n",
    "\n",
    "experiment = Experiment(conf)\n",
    "experiment.run()"
   ]
  },
  {
   "cell_type": "code",
   "execution_count": 39,
   "metadata": {
    "scrolled": true
   },
   "outputs": [
    {
     "data": {
      "text/plain": [
       "[array([2, 1, 2, 1, 2, 3, 6, 1, 1, 1], dtype=uint64),\n",
       " array([4, 1, 1, 1, 1, 1, 1, 1, 1, 1], dtype=uint64),\n",
       " array([1, 2, 1, 1, 1, 1, 3, 1, 1, 1], dtype=uint64),\n",
       " array([1, 1, 1, 1, 2, 1, 2, 1, 1, 1], dtype=uint64),\n",
       " array([1, 1, 1, 1, 1, 1, 1, 1, 1, 1], dtype=uint64),\n",
       " array([1, 1, 1, 1, 1, 1, 1, 1, 1, 1], dtype=uint64),\n",
       " array([1, 3, 1, 4, 1, 1, 2, 1, 2, 1], dtype=uint64),\n",
       " array([1, 1, 1, 1, 1, 1, 3, 3, 5, 1], dtype=uint64),\n",
       " array([3, 1, 1, 1, 1, 3, 8, 1, 1, 1], dtype=uint64),\n",
       " array([2, 1, 2, 1, 1, 1, 2, 1, 1, 2], dtype=uint64)]"
      ]
     },
     "execution_count": 39,
     "metadata": {},
     "output_type": "execute_result"
    }
   ],
   "source": [
    "files_info = [v  for u in experiment.users for _, v in u.sending_files.items()]\n",
    "[file_info['f'].shared_chunks for file_info in files_info]"
   ]
  },
  {
   "cell_type": "markdown",
   "metadata": {},
   "source": [
    "# Interpretation"
   ]
  },
  {
   "cell_type": "code",
   "execution_count": 3,
   "metadata": {
    "scrolled": true
   },
   "outputs": [],
   "source": [
    "def fetch_dataframes(conf):\n",
    "    devices_df = pd.DataFrame()\n",
    "    users_df = pd.DataFrame()\n",
    "    for fn in os.listdir(conf['output_dir']):\n",
    "        if not fn.endswith(\".csv\"):\n",
    "            continue\n",
    "            \n",
    "        filepath = conf['output_dir']+fn\n",
    "        if re.search(\"device\", fn):\n",
    "            devices_df = append_to_df(filepath, devices_df)\n",
    "        elif re.search(\"user\", fn):\n",
    "            users_df = append_to_df(filepath, users_df)\n",
    "\n",
    "    devices_df['t'] -= min(devices_df['t'])\n",
    "    devices_df = devices_df.sort_values('t')\n",
    "    users_df['t'] -= min(users_df['t'])\n",
    "    users_df = users_df.sort_values('t')\n",
    "    return devices_df, users_df\n",
    "\n",
    "def fetch_experiment_data(path):\n",
    "    conf = load_conf(path)\n",
    "    with open(conf['output_dir']+\"files_info.bin\", 'rb') as f:\n",
    "        files_info = pickle.load(f)\n",
    "    devices_df, users_df = fetch_dataframes(conf)  \n",
    "    return conf, files_info, devices_df, users_df\n",
    "\n",
    "def append_to_df(filepath, df):\n",
    "    try:\n",
    "        df2 = pd.read_csv(filepath)\n",
    "    except:\n",
    "        print(\"Failed loading {}: {}\".format(fn, sys.exc_info()))\n",
    "        pass\n",
    "    else:\n",
    "        if(df.empty):\n",
    "            df = df2\n",
    "        else:\n",
    "            df = df.append(df2,)\n",
    "    return df\n",
    "\n",
    "if experiment_set:\n",
    "    data_dir = 'data/'+experiment_set_name+''/'+conf['experiment_name']+'/'\n",
    "else:\n",
    "    data_dir = \"data/\"+conf['experiment_name']+'/'\n",
    "#data_dir=\"data/experiment_set/experiment_1/\"\n",
    "conf, files_info, devices_df, users_df = fetch_experiment_data(data_dir)"
   ]
  },
  {
   "cell_type": "markdown",
   "metadata": {},
   "source": [
    "## Plot traffic"
   ]
  },
  {
   "cell_type": "code",
   "execution_count": 5,
   "metadata": {},
   "outputs": [
    {
     "name": "stdout",
     "output_type": "stream",
     "text": [
      "Plot dir: outputs/random_connected_1M_chunks_send_greenlets/\n"
     ]
    }
   ],
   "source": [
    "if experiment_set:\n",
    "    plot_dir = \"outputs/\"+experiment_set_name+\"/\"+conf['experiment_name']+'/'\n",
    "else:\n",
    "    plot_dir = \"outputs/\"+conf['experiment_name']+'/'\n",
    "print(\"Plot dir:\", plot_dir)\n",
    "if not os.path.isdir(plot_dir):\n",
    "    os.makedirs(plot_dir)"
   ]
  },
  {
   "cell_type": "code",
   "execution_count": 6,
   "metadata": {
    "scrolled": true
   },
   "outputs": [
    {
     "data": {
      "text/plain": [
       "array([[    0.,     0.,     0.,     0.,     0.,     0.,     0.,     0.,\n",
       "            0.,     0.,     0.,     0.,     0.,     0.,     0.,     0.,\n",
       "            0.,     0.,     0.,     0.,     0.,     0.,     0.,     0.,\n",
       "            0.,     0.,     0., 11240.,     0.,     0.,     0., 11240.,\n",
       "            0.,     0.,     0., 13488., 22480., 23604.,     0.,     0.,\n",
       "            0.,  3372.,  6744.,  3372., 13488.,     0.,     0.,     0.,\n",
       "            0.,     0.,     0., 26976.,  5620., 10116.,     0.,     0.,\n",
       "            0.,  8992.,  4696.,     0.,     0.,     0., 12340., 12364.,\n",
       "        11740.,     0.,  2248.,  2600.,  4100.,  1100.,  7868.,  8544.,\n",
       "         2000.,     0.],\n",
       "       [    0.,     0.,     0.,     0.,  3372.,     0.,  4496.,     0.,\n",
       "        14612.,     0.,  2248.,  5620.,     0.,  8992.,     0.,     0.,\n",
       "            0., 10116.,     0.,     0.,     0.,  5620.,     0.,     0.,\n",
       "        13488.,  1124.,     0.,     0.,     0.,  3372.,   100.,  2348.,\n",
       "            0.,  4496.,   300.,     0.,  3472.,     0.,  3372.,  5720.,\n",
       "         5620.,  2124.,  2248.,  4496., 13688.,     0.,     0.,   400.,\n",
       "         1224., 22480.,  4496., 16960.,   200.,   100.,     0.,   200.,\n",
       "          300.,   500.,  1124.,     0.,  6744.,     0.,  1400.,   800.,\n",
       "            0.,  3572.,     0.,  1200.,   200.,     0.,     0.,  2700.,\n",
       "          300.,     0.],\n",
       "       [    0.,     0.,     0.,     0.,     0.,     0.,     0.,     0.,\n",
       "            0.,     0.,     0.,     0.,     0.,     0.,     0.,     0.,\n",
       "            0.,     0.,     0.,     0.,     0.,     0.,     0.,     0.,\n",
       "            0.,     0.,  1124.,  4496.,     0.,     0., 12364.,  4496.,\n",
       "            0.,     0., 29224.,     0., 26976.,     0.,     0.,     0.,\n",
       "            0., 13488.,     0.,  7868.,  6744.,     0.,     0.,     0.,\n",
       "            0.,     0., 24728., 20232.,     0., 21356.,     0.,     0.,\n",
       "            0.,  2248.,   100.,   100.,     0.,     0.,  1724.,     0.,\n",
       "         1200.,     0.,     0.,  1800.,  3500.,   500.,  1124.,  1300.,\n",
       "         4400.,     0.],\n",
       "       [    0.,     0.,     0.,     0.,     0.,     0.,     0.,     0.,\n",
       "            0.,     0.,     0.,     0.,     0.,     0.,     0.,  8992.,\n",
       "         8992.,     0.,     0.,     0.,     0.,     0.,  3372.,  6744.,\n",
       "            0.,     0.,     0.,  2848.,  4496.,  1124.,     0.,  6744.,\n",
       "        22480.,     0.,     0.,   400.,     0., 17984.,  6744.,  8992.,\n",
       "         1124.,   300.,  7868., 10116.,  4996.,  3372.,  1200.,   100.,\n",
       "            0., 12364.,     0.,  1000., 19108.,  1224.,     0.,     0.,\n",
       "          600.,   200.,     0.,   300., 15736.,     0.,  2748.,  4272.,\n",
       "            0.,  3372.,   200.,     0.,  3500.,     0.,     0.,  2300.,\n",
       "          800.,   300.],\n",
       "       [    0.,     0.,     0.,     0., 10116.,     0., 11240.,     0.,\n",
       "        29224.,     0.,  8992.,  6744.,     0.,  9192.,     0.,     0.,\n",
       "            0.,  8168.,     0.,     0.,   500.,  8992.,     0.,     0.,\n",
       "         8068.,  1124.,     0.,  1124.,     0.,  8568.,     0.,  2248.,\n",
       "          100.,  6420.,     0.,     0.,  2248.,     0.,  3572., 10116.,\n",
       "         8968.,  4496.,   500.,  2948.,  9292.,   500.,   500.,  1200.,\n",
       "         1124., 10216.,  2248.,     0.,     0.,     0.,  1000.,     0.,\n",
       "         2848.,   600.,   300.,     0.,  2448.,  5620.,  2748.,     0.,\n",
       "         2248.,  3372.,   800.,   300.,   800.,     0.,   100.,     0.,\n",
       "            0.,     0.],\n",
       "       [    0.,     0.,     0.,     0.,     0.,  2248.,  3372.,     0.,\n",
       "            0., 10116.,     0.,  2248.,     0.,     0., 13488.,     0.,\n",
       "            0.,     0.,     0., 22480.,     0.,     0.,  6744.,     0.,\n",
       "            0.,     0.,  8992.,  5620.,     0.,   200.,  8992.,  7868.,\n",
       "            0.,     0., 13488.,     0., 16860.,     0.,   300.,     0.,\n",
       "            0.,  7868.,     0.,  3372.,  2248.,     0.,   900.,     0.,\n",
       "          800.,     0., 14812., 10116.,   800.,     0.,     0.,  5396.,\n",
       "          600.,  7544.,  2548.,   400.,     0.,   500.,  4496.,   600.,\n",
       "            0.,  2248.,  1300.,     0.,  1100.,     0.,  1124.,     0.,\n",
       "            0.,     0.],\n",
       "       [    0.,     0.,     0.,     0.,     0.,     0.,     0.,     0.,\n",
       "            0.,     0.,     0.,     0.,     0.,     0.,     0.,     0.,\n",
       "            0.,     0.,     0.,     0.,     0.,     0.,     0.,     0.,\n",
       "            0.,     0.,  3372., 10116.,     0.,     0., 21356.,  1124.,\n",
       "            0.,     0.,     0., 48332.,     0.,     0.,     0.,     0.,\n",
       "            0.,  5620.,     0.,     0.,     0.,     0.,     0.,     0.,\n",
       "          700.,     0.,     0.,     0.,     0.,     0.,     0.,     0.,\n",
       "            0.,     0.,     0.,     0.,     0.,     0.,  1300.,   600.,\n",
       "            0.,     0.,     0.,  3500.,     0.,     0.,  2248.,  3372.,\n",
       "          300.,     0.],\n",
       "       [    0.,     0.,     0.,     0.,     0.,     0.,     0.,     0.,\n",
       "            0.,     0.,     0.,     0.,     0.,     0.,     0.,     0.,\n",
       "            0.,     0.,     0.,  2248.,     0.,     0.,  2248.,     0.,\n",
       "            0.,     0., 19108.,     0.,     0.,     0.,  8992.,     0.,\n",
       "            0.,     0.,  3972., 15736., 21356.,     0.,     0.,  4496.,\n",
       "          400.,  8992., 10116.,  6744., 15736.,  5620.,  1700.,     0.,\n",
       "            0.,     0.,   300., 19108., 23604., 11240.,     0.,  1700.,\n",
       "          200., 12364.,  2800.,     0.,   100.,   800.,     0.,  3772.,\n",
       "            0.,  4172., 12764.,   500.,   600.,  1400., 30448.,     0.,\n",
       "            0.,     0.],\n",
       "       [    0.,     0.,     0.,     0.,     0.,     0.,     0.,     0.,\n",
       "            0.,     0.,     0.,     0.,     0.,     0.,     0.,     0.,\n",
       "            0.,     0.,     0.,     0.,     0.,     0.,     0.,  7868.,\n",
       "            0.,     0.,     0.,  1124.,  3372.,  5620.,     0.,  6744.,\n",
       "        21656.,   200.,     0.,     0.,     0., 20232., 13488., 10116.,\n",
       "         4996.,     0.,  3572.,  6944.,  8168.,  4672.,   300.,  1200.,\n",
       "            0.,  9792.,     0.,     0., 29224.,  2248.,  1500.,     0.,\n",
       "          300.,     0.,  1224.,     0., 17160.,     0.,   100.,   200.,\n",
       "         1300.,  5620.,   100.,   200.,   400.,     0.,   200.,     0.,\n",
       "            0.,     0.],\n",
       "       [    0.,     0.,     0.,     0.,     0.,  8992.,  6744.,     0.,\n",
       "        16136.,     0.,     0.,  9192.,     0.,  2748.,  6744.,     0.,\n",
       "            0.,  3472.,  8992.,     0.,     0.,  8168.,     0.,     0.,\n",
       "          200.,  5620.,     0.,     0.,  1124.,  1524.,     0.,  2248.,\n",
       "            0., 14188.,     0.,     0.,     0.,  4496.,     0., 22780.,\n",
       "         4896.,     0.,  4596.,  1224.,  2648.,  4496.,   500.,  1300.,\n",
       "          400.,   200.,  4496.,     0.,     0.,  6744.,  1300.,     0.,\n",
       "          600.,  3472.,   300.,   200.,  3372.,   900.,   200.,  4496.,\n",
       "          200.,     0.,  2848.,   100.,   100.,   200.,     0.,     0.,\n",
       "            0.,     0.]])"
      ]
     },
     "execution_count": 6,
     "metadata": {},
     "output_type": "execute_result"
    }
   ],
   "source": [
    "files_id = np.unique(devices_df['file_id'])\n",
    "n_files = len(files_id)\n",
    "#BINS = 4 *  devices_df['current_round'].max()\n",
    "BINS = math.ceil(max(devices_df['t']))\n",
    "x = np.linspace(0, math.ceil(max(devices_df['t'])), num=BINS)\n",
    "#MAX_TIME = math.ceil(max(devices_df['t']))\n",
    "\n",
    "y = np.zeros((n_files, len(x) - 1), dtype=np.float64)\n",
    "for i, f_id in enumerate(files_id):\n",
    "    df = devices_df[devices_df['file_id'] == f_id]\n",
    "    for t in range(0, len(x) - 1):\n",
    "        df2 = df[(df['t'] >= t) & (df['t'] < t+1)]\n",
    "        #y[i, t] = df2['sent'].sum() + df2['forwarded'].sum()\n",
    "        y[i, t] = df2['received'].sum() "
   ]
  },
  {
   "cell_type": "code",
   "execution_count": 7,
   "metadata": {
    "scrolled": true
   },
   "outputs": [
    {
     "data": {
      "image/png": "[encoded data removed]",
      "text/plain": [
       "<matplotlib.figure.Figure at 0x7fbd5a12b198>"
      ]
     },
     "metadata": {},
     "output_type": "display_data"
    }
   ],
   "source": [
    "sns.set_style('whitegrid')\n",
    "f, ax = plt.subplots()\n",
    "\n",
    "ax.stackplot(x[1:], y, colors=sns.color_palette(\"husl\", n_colors=n_files))\n",
    "\n",
    "ax.set_xlabel('time (s)')\n",
    "ax.set_ylabel('traffic (kB/s)')\n",
    "ax.set_xlim(0, )\n",
    "ax.set_ylim(0, )\n",
    "plt.suptitle(\"Traffic per file\")\n",
    "\n",
    "sns.despine()\n",
    "plt.savefig(\"outputs/\"+conf['experiment_name']+'/traffic_per_file.svg')\n",
    "plt.show()"
   ]
  },
  {
   "cell_type": "markdown",
   "metadata": {},
   "source": [
    "### Messages' RTT"
   ]
  },
  {
   "cell_type": "code",
   "execution_count": 8,
   "metadata": {},
   "outputs": [],
   "source": [
    "messages_id = np.unique(devices_df['mess_id'])\n",
    "transfer_times = pd.DataFrame()\n",
    "#transfer_times = np.zeros(len(messages_id), dtype=np.float64)\n",
    "\n",
    "for i, m_id in enumerate(messages_id):\n",
    "    times = [None] * 2\n",
    "    for typ in [1, 2]:\n",
    "        data = devices_df[(devices_df['mess_id'] == m_id) &\n",
    "                          (devices_df['type'] == typ)]['t']\n",
    "        \n",
    "        if len(data) != 0:\n",
    "            times[typ - 1] = max(data) - min(data)\n",
    "            transfer_times = transfer_times.append(pd.Series({\n",
    "                't': times[typ - 1], \n",
    "                'type': typ}), ignore_index=True)\n",
    "            \n",
    "    if times[0] is not None and times[1] is not None:\n",
    "        transfer_times = transfer_times.append(pd.Series({\n",
    "                't': sum(times), \n",
    "                'type': 3}), ignore_index=True)\n",
    "\n",
    "\n",
    "def to_cdf(data):\n",
    "    data_size = len(data)\n",
    "    data_set=sorted(set(data))\n",
    "    bins=np.append(data_set, data_set[-1]+1)\n",
    "    counts, bin_edges = np.histogram(data, bins=bins, density=False)\n",
    "\n",
    "    counts=counts.astype(float)/data_size\n",
    "\n",
    "    # Find the cdf\n",
    "    cdf = np.cumsum(counts)\n",
    "    \n",
    "    return cdf, bins"
   ]
  },
  {
   "cell_type": "code",
   "execution_count": 9,
   "metadata": {},
   "outputs": [
    {
     "data": {
      "image/png": "[encoded data removed]",
      "text/plain": [
       "<matplotlib.figure.Figure at 0x7fbd5a0af940>"
      ]
     },
     "metadata": {},
     "output_type": "display_data"
    }
   ],
   "source": [
    "f, ax = plt.subplots()\n",
    "\n",
    "# Plot the cdf\n",
    "cdf, bins = to_cdf(transfer_times[transfer_times['type'] == 1]['t'])\n",
    "ax.plot(bins[0:-1], cdf, label=\"Chunks\")\n",
    "cdf, bins = to_cdf(transfer_times[transfer_times['type'] == 2]['t'])\n",
    "ax.plot(bins[0:-1], cdf, label=\"Acks\")\n",
    "cdf, bins = to_cdf(transfer_times[transfer_times['type'] == 3]['t'])\n",
    "ax.plot(bins[0:-1], cdf, label=\"RTT\")\n",
    "\n",
    "ax.set_xlabel('Time (s)')\n",
    "ax.set_xlim(0,)\n",
    "ax.set_ylabel('CDF (%)')\n",
    "ax.yaxis.set_major_formatter(mpl.ticker.FuncFormatter(lambda y, _: '{:.0%}'.format(y))) \n",
    "ax.set_ylim(0,)\n",
    "ax.legend()\n",
    "plt.suptitle('Cumulative distribution function of messages transmission time')\n",
    "\n",
    "\n",
    "sns.despine()\n",
    "plt.savefig('/messages_rtt_cdf.svg')\n",
    "plt.show()"
   ]
  },
  {
   "cell_type": "code",
   "execution_count": 53,
   "metadata": {},
   "outputs": [
    {
     "data": {
      "image/png": "[encoded data removed]",
      "text/plain": [
       "<matplotlib.figure.Figure at 0x7f5e9b9f5278>"
      ]
     },
     "metadata": {},
     "output_type": "display_data"
    }
   ],
   "source": [
    "f, ax = plt.subplots()\n",
    "\n",
    "ax.hist(transfer_times, bins=range(1, math.ceil(max(transfer_times))+1))\n",
    "\n",
    "ax.set_xlabel('Time (s)')\n",
    "ax.set_xlim(0,)\n",
    "ax.set_ylabel('Number of messages')\n",
    "ax.set_yscale('log')\n",
    "plt.suptitle('Histogram of messages round trip time')\n",
    "\n",
    "plt.savefig(\"outputs/\"+conf['experiment_name']+'/messages_rtt_hist.svg')\n",
    "plt.show()"
   ]
  },
  {
   "cell_type": "markdown",
   "metadata": {},
   "source": [
    "### File reception time"
   ]
  },
  {
   "cell_type": "code",
   "execution_count": 78,
   "metadata": {},
   "outputs": [
    {
     "data": {
      "text/plain": [
       "(148,)"
      ]
     },
     "execution_count": 78,
     "metadata": {},
     "output_type": "execute_result"
    }
   ],
   "source": [
    "messages_id.shape"
   ]
  },
  {
   "cell_type": "code",
   "execution_count": 10,
   "metadata": {},
   "outputs": [],
   "source": [
    "files_id = np.unique(devices_df['file_id'])\n",
    "\n",
    "file_transfer_time = []\n",
    "for f_id in files_id:\n",
    "    beginning_time = devices_df[(devices_df['file_id'] == f_id) & (devices_df['type'] == 1) & (devices_df['sent'] != 0)]['t'].min()\n",
    "    completion_time = devices_df[(devices_df['file_id'] == f_id) & (devices_df['type'] == 2) & (devices_df['received'] != 0)]['t'].max()\n",
    "    \n",
    "    file_transfer_time.append(completion_time - beginning_time)"
   ]
  },
  {
   "cell_type": "code",
   "execution_count": 12,
   "metadata": {},
   "outputs": [
    {
     "data": {
      "image/png": "[encoded data removed]",
      "text/plain": [
       "<matplotlib.figure.Figure at 0x7fbd913d4fd0>"
      ]
     },
     "metadata": {},
     "output_type": "display_data"
    }
   ],
   "source": [
    "f, ax = plt.subplots()\n",
    "\n",
    "ax.hist(file_transfer_time, bins=10)\n",
    "\n",
    "ax.set_xlabel('Time (s)')\n",
    "ax.set_ylabel('Number of files')\n",
    "plt.suptitle('Histogram of file transfer time')\n",
    "\n",
    "plt.savefig(\"outputs/\"+conf['experiment_name']+'/files_time_hist.svg')\n",
    "plt.show()"
   ]
  },
  {
   "cell_type": "code",
   "execution_count": null,
   "metadata": {},
   "outputs": [],
   "source": []
  }
 ],
 "metadata": {
  "kernelspec": {
   "display_name": "Python 3",
   "language": "python",
   "name": "python3"
  },
  "language_info": {
   "codemirror_mode": {
    "name": "ipython",
    "version": 3
   },
   "file_extension": ".py",
   "mimetype": "text/x-python",
   "name": "python",
   "nbconvert_exporter": "python",
   "pygments_lexer": "ipython3",
   "version": "3.5.2"
  }
 },
 "nbformat": 4,
 "nbformat_minor": 2
}
