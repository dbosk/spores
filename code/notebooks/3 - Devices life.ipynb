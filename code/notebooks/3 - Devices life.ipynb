{
 "cells": [
  {
   "cell_type": "code",
   "execution_count": 112,
   "metadata": {},
   "outputs": [],
   "source": [
    "%reload_ext autoreload\n",
    "%autoreload 2\n",
    "\n",
    "import pandas as pd\n",
    "from datetime import datetime, timedelta\n",
    "import time\n",
    "import random\n",
    "from modules.peers_view import PeersView\n",
    "from modules.user import User\n",
    "from modules.network import Network\n",
    "import numpy as np"
   ]
  },
  {
   "cell_type": "markdown",
   "metadata": {},
   "source": [
    "# Building routes\n",
    "\n",
    "We consider 3-layers routes:\n",
    "\n",
    "    A - L1 - RV - L2 - B\n",
    "\n",
    "Such that RV and L2 are chosen by B, while L1 is chosen by A.\n",
    "\n",
    "A layer consists of several candidate nodes to route a packet: only one of these candidates will route a packet at once.\n",
    "\n",
    "We fill layers incrementally: while not satisfied, add another node to one of the layers.\n",
    "\n",
    "Our problem is to find a stopping criterion.\n",
    "\n",
    "$o_d$: probability for device $d$ to be online\n",
    "\n",
    "$$ P[A \\rightarrow B] \\propto \\sum\\limits_{r \\in L1}o_r * \\sum\\limits_{r \\in RV}o_r * \\sum\\limits_{r \\in L2}o_r $$ "
   ]
  },
  {
   "cell_type": "markdown",
   "metadata": {},
   "source": [
    "## Perform experiment"
   ]
  },
  {
   "cell_type": "code",
   "execution_count": 119,
   "metadata": {
    "scrolled": true
   },
   "outputs": [
    {
     "name": "stdout",
     "output_type": "stream",
     "text": [
      "20 users and 117 devices\n",
      "Round #1/1 at 00:02:16.659468\n",
      "All done!\n"
     ]
    }
   ],
   "source": [
    "N_USERS = 20\n",
    "N_ROUNDS = 1\n",
    "GOSSIP_SIZE = 20\n",
    "PERIOD = timedelta(seconds=7)\n",
    "n_devices = 0\n",
    "\n",
    "address_book = PeersView(expiration_period=PERIOD)\n",
    "net = Network()\n",
    "\n",
    "\n",
    "users = [None] * N_USERS\n",
    "for i in range(N_USERS):\n",
    "    users[i] = User(address_book, net, GOSSIP_SIZE)\n",
    "    n_devices += users[i].n_devices\n",
    "    \n",
    "#     print(\"User #{} has {} devices: {}\".format(\n",
    "#         i+1, users[i].n_devices,\n",
    "#         [d.addr for d in users[i].devices]))\n",
    "print(\"{} users and {} devices\".format(N_USERS, n_devices))\n",
    "\n",
    "# Perform experiment\n",
    "address_book_df = pd.DataFrame()\n",
    "devices_view_df = pd.DataFrame()\n",
    "for t in range(N_ROUNDS):\n",
    "    t_start = datetime.now()\n",
    "    print(\"Round #{}/{} at {}\".format(t+1, N_ROUNDS, datetime.now().time()))\n",
    "    for i in range(N_USERS):\n",
    "        users[i].act()\n",
    "        \n",
    "        for d in users[i].devices:\n",
    "            devices_view_df = devices_view_df.append(\n",
    "                d.peers_view.snapshot({'round': t}))\n",
    "            \n",
    "    address_book_df = address_book_df.append(\n",
    "        address_book.snapshot({'round': t}))\n",
    "    \n",
    "    elapsed = datetime.now() - t_start\n",
    "    if elapsed > PERIOD:\n",
    "        print(\"We are running overtime (took {})! You should increase PERIOD.\".format(elapsed))\n",
    "    elif t != N_ROUNDS - 1:\n",
    "        print(\"Sleeping\", PERIOD - elapsed)\n",
    "        time.sleep((PERIOD - elapsed).total_seconds())\n",
    "print(\"All done!\")"
   ]
  },
  {
   "cell_type": "code",
   "execution_count": 122,
   "metadata": {},
   "outputs": [
    {
     "data": {
      "text/plain": [
       "[                                    addr         p                          t  \\\n",
       " 2018-04-20 00:02:18.998508  csox5d1ng2wl  0.902692 2018-04-20 00:02:18.998508   \n",
       " 2018-04-20 00:02:18.880809  7h7aufsrihlr  0.800093 2018-04-20 00:02:18.880809   \n",
       " \n",
       "                               type  \n",
       " 2018-04-20 00:02:18.998508  server  \n",
       " 2018-04-20 00:02:18.880809  mobile  ,\n",
       "                                     addr         p                          t  \\\n",
       " 2018-04-20 00:02:16.933173  c8xwfkj6qu9u  0.414531 2018-04-20 00:02:16.933173   \n",
       " 2018-04-20 00:02:16.719237  bjruhaayonuh  0.963943 2018-04-20 00:02:16.719237   \n",
       " \n",
       "                                 type  \n",
       " 2018-04-20 00:02:16.933173  portable  \n",
       " 2018-04-20 00:02:16.719237    server  ,\n",
       "                                     addr         p                          t  \\\n",
       " 2018-04-20 00:02:17.427092  vedr9m6amj8t  0.855990 2018-04-20 00:02:17.427092   \n",
       " 2018-04-20 00:02:16.756900  525d7bfz36hd  0.865488 2018-04-20 00:02:16.756900   \n",
       " \n",
       "                               type  \n",
       " 2018-04-20 00:02:17.427092  mobile  \n",
       " 2018-04-20 00:02:16.756900  mobile  ]"
      ]
     },
     "execution_count": 122,
     "metadata": {},
     "output_type": "execute_result"
    }
   ],
   "source": [
    "def get_online_device(users):\n",
    "    user = random.choice(users)\n",
    "    while not user.has_online_devices():\n",
    "        user = random.choice(users)\n",
    "    return user.get_online_device()\n",
    "def get_devices_pair(users):\n",
    "    d1, d2 = get_online_device(users), get_online_device(users)\n",
    "    while d1.owner == d2.owner:\n",
    "        d2 = get_online_device(users)\n",
    "    return d1, d2\n",
    "\n",
    "# d1_status = address_book_df[address_book_df['addr'] == d1.addr]\n",
    "# d2_status = address_book_df[address_book_df['addr'] == d2.addr]\n",
    "\n",
    "def make_route(d1, d2):\n",
    "    layers = [None] * 3\n",
    "    layers[0] = d1.pick_devices(1)[0]\n",
    "    layers[1:] = d2.pick_devices(2)\n",
    "    return layers\n",
    "\n",
    "make_route(*get_devices_pair(users))"
   ]
  },
  {
   "cell_type": "code",
   "execution_count": 124,
   "metadata": {},
   "outputs": [],
   "source": [
    "a={'e': 2}\n",
    "a.get('a')"
   ]
  },
  {
   "cell_type": "code",
   "execution_count": 88,
   "metadata": {},
   "outputs": [
    {
     "data": {
      "text/plain": [
       "[                                    addr         p                          t  \\\n",
       " 2018-04-19 23:45:02.865481  0mbynzo8zxxe  0.786355 2018-04-19 23:45:02.865481   \n",
       " 2018-04-19 23:45:02.884169  2jo7pzlyzxvi  0.366454 2018-04-19 23:45:02.884169   \n",
       " \n",
       "                                 type  \n",
       " 2018-04-19 23:45:02.865481    mobile  \n",
       " 2018-04-19 23:45:02.884169  portable  ,\n",
       "                                     addr         p                          t  \\\n",
       " 2018-04-19 23:45:02.873565  5cmkukdhghcz  0.884124 2018-04-19 23:45:02.873565   \n",
       " 2018-04-19 23:45:02.861023  d9dtn5fnshv4  0.912566 2018-04-19 23:45:02.861023   \n",
       " \n",
       "                               type  \n",
       " 2018-04-19 23:45:02.873565  mobile  \n",
       " 2018-04-19 23:45:02.861023  mobile  ]"
      ]
     },
     "execution_count": 88,
     "metadata": {},
     "output_type": "execute_result"
    }
   ],
   "source": [
    "d.pick_devices(2)"
   ]
  },
  {
   "cell_type": "code",
   "execution_count": 45,
   "metadata": {},
   "outputs": [
    {
     "name": "stdout",
     "output_type": "stream",
     "text": [
      "receiver:                                     addr         p                          t  \\\n",
      "2018-04-19 23:15:05.981688  qw4n8e0kcy2x  0.358668 2018-04-19 23:15:05.981688   \n",
      "\n",
      "                             type  round  \n",
      "2018-04-19 23:15:05.981688  fixed      2  \n"
     ]
    }
   ],
   "source": [
    "r = 2 # round\n",
    "\n",
    "def get_online_device(users):\n",
    "    user = random.choice(users)\n",
    "    return user.get_online_device()\n",
    "u1, u2 = 0, 0\n",
    "u1_devices, u2_devices = None, None\n",
    "selected = False\n",
    "while not selected:\n",
    "    u1, u2 = np.random.choice(users, 2, replace=False)\n",
    "    u1_devices = address_book_df[\n",
    "            (address_book_df['round'] == r) &\n",
    "            (address_book_df['addr'].isin(u1.devices_addr))]\n",
    "    u2_devices = address_book_df[\n",
    "            (address_book_df['round'] == r) &\n",
    "            (address_book_df['addr'].isin(u2.devices_addr))]\n",
    "\n",
    "    selected = not (u1_devices.empty or u2_devices.empty)\n",
    "\n",
    "receiver = u2_devices.sample(1)\n",
    "print(\"receiver:\", receiver)\n",
    "\n",
    "\n",
    "    "
   ]
  },
  {
   "cell_type": "code",
   "execution_count": 104,
   "metadata": {},
   "outputs": [
    {
     "data": {
      "text/plain": [
       "0"
      ]
     },
     "execution_count": 104,
     "metadata": {},
     "output_type": "execute_result"
    }
   ],
   "source": [
    "x=np.array([False, False])\n",
    "x.prod()"
   ]
  },
  {
   "cell_type": "code",
   "execution_count": 97,
   "metadata": {},
   "outputs": [
    {
     "ename": "AttributeError",
     "evalue": "'numpy.ndarray' object has no attribute 'empty'",
     "output_type": "error",
     "traceback": [
      "\u001b[0;31m---------------------------------------------------------------------------\u001b[0m",
      "\u001b[0;31mAttributeError\u001b[0m                            Traceback (most recent call last)",
      "\u001b[0;32m<ipython-input-97-bb64641ccc9a>\u001b[0m in \u001b[0;36m<module>\u001b[0;34m()\u001b[0m\n\u001b[0;32m----> 1\u001b[0;31m \u001b[0mnp\u001b[0m\u001b[0;34m.\u001b[0m\u001b[0mwhere\u001b[0m\u001b[0;34m(\u001b[0m\u001b[0;34m[\u001b[0m\u001b[0;32mTrue\u001b[0m\u001b[0;34m,\u001b[0m \u001b[0;32mFalse\u001b[0m\u001b[0;34m,\u001b[0m \u001b[0;32mTrue\u001b[0m\u001b[0;34m]\u001b[0m\u001b[0;34m)\u001b[0m\u001b[0;34m[\u001b[0m\u001b[0;36m0\u001b[0m\u001b[0;34m]\u001b[0m\u001b[0;34m.\u001b[0m\u001b[0mempty\u001b[0m\u001b[0;34m(\u001b[0m\u001b[0;34m)\u001b[0m\u001b[0;34m\u001b[0m\u001b[0m\n\u001b[0m",
      "\u001b[0;31mAttributeError\u001b[0m: 'numpy.ndarray' object has no attribute 'empty'"
     ]
    }
   ],
   "source": [
    "np.where([True, False, True])[0]"
   ]
  },
  {
   "cell_type": "code",
   "execution_count": 55,
   "metadata": {},
   "outputs": [
    {
     "data": {
      "text/plain": [
       "0"
      ]
     },
     "execution_count": 55,
     "metadata": {},
     "output_type": "execute_result"
    }
   ],
   "source": [
    "np.random.choice(np.where([True, False, True])[0])"
   ]
  },
  {
   "cell_type": "markdown",
   "metadata": {},
   "source": [
    "# Test of PeersView"
   ]
  },
  {
   "cell_type": "code",
   "execution_count": 116,
   "metadata": {
    "scrolled": true
   },
   "outputs": [
    {
     "name": "stdout",
     "output_type": "stream",
     "text": [
      "Expiration period: 0:00:01\n",
      "Time 00:01:59.105652: connected = ['g']\n"
     ]
    },
    {
     "ename": "TypeError",
     "evalue": "put() missing 1 required positional argument: 'p'",
     "output_type": "error",
     "traceback": [
      "\u001b[0;31m---------------------------------------------------------------------------\u001b[0m",
      "\u001b[0;31mTypeError\u001b[0m                                 Traceback (most recent call last)",
      "\u001b[0;32m<ipython-input-116-2e2e0bcc8f3a>\u001b[0m in \u001b[0;36m<module>\u001b[0;34m()\u001b[0m\n\u001b[1;32m     11\u001b[0m \u001b[0;34m\u001b[0m\u001b[0m\n\u001b[1;32m     12\u001b[0m     \u001b[0;32mfor\u001b[0m \u001b[0md\u001b[0m \u001b[0;32min\u001b[0m \u001b[0mconnected\u001b[0m\u001b[0;34m:\u001b[0m\u001b[0;34m\u001b[0m\u001b[0m\n\u001b[0;32m---> 13\u001b[0;31m         \u001b[0maddress_book\u001b[0m\u001b[0;34m.\u001b[0m\u001b[0mput\u001b[0m\u001b[0;34m(\u001b[0m\u001b[0mdatetime\u001b[0m\u001b[0;34m.\u001b[0m\u001b[0mnow\u001b[0m\u001b[0;34m(\u001b[0m\u001b[0;34m)\u001b[0m\u001b[0;34m,\u001b[0m \u001b[0md\u001b[0m\u001b[0;34m,\u001b[0m \u001b[0;36m0.8\u001b[0m\u001b[0;34m)\u001b[0m\u001b[0;34m\u001b[0m\u001b[0m\n\u001b[0m\u001b[1;32m     14\u001b[0m         \u001b[0mtime\u001b[0m\u001b[0;34m.\u001b[0m\u001b[0msleep\u001b[0m\u001b[0;34m(\u001b[0m\u001b[0;36m0.1\u001b[0m\u001b[0;34m)\u001b[0m\u001b[0;34m\u001b[0m\u001b[0m\n\u001b[1;32m     15\u001b[0m \u001b[0;34m\u001b[0m\u001b[0m\n",
      "\u001b[0;31mTypeError\u001b[0m: put() missing 1 required positional argument: 'p'"
     ]
    }
   ],
   "source": [
    "addresses = ['a', 'b', 'c', 'd', 'e', 'f', 'g', 'h', 'i', 'j']\n",
    "N = 20\n",
    "EXPIRATION_PERIOD = timedelta(seconds=1)\n",
    "print(\"Expiration period:\", EXPIRATION_PERIOD)\n",
    "\n",
    "address_book = PeersView(expiration_period=EXPIRATION_PERIOD)\n",
    "\n",
    "for _ in range(N):\n",
    "    connected = random.sample(addresses, k=random.randint(1, int(2 * len(addresses) / 3)))\n",
    "    print(\"Time {}: connected = {}\".format(datetime.now().time(), connected))\n",
    "    \n",
    "    for d in connected:\n",
    "        address_book.put(datetime.now(), d, 0.8)\n",
    "        time.sleep(0.1)\n",
    "    \n",
    "    print(\"Address book:\")\n",
    "    print(address_book.view)\n",
    "    print()"
   ]
  },
  {
   "cell_type": "code",
   "execution_count": null,
   "metadata": {},
   "outputs": [],
   "source": []
  }
 ],
 "metadata": {
  "kernelspec": {
   "display_name": "Python 3",
   "language": "python",
   "name": "python3"
  },
  "language_info": {
   "codemirror_mode": {
    "name": "ipython",
    "version": 3
   },
   "file_extension": ".py",
   "mimetype": "text/x-python",
   "name": "python",
   "nbconvert_exporter": "python",
   "pygments_lexer": "ipython3",
   "version": "3.5.2"
  }
 },
 "nbformat": 4,
 "nbformat_minor": 2
}
