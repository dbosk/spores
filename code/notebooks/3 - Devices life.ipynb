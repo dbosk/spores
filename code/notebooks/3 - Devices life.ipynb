{
 "cells": [
  {
   "cell_type": "code",
   "execution_count": 44,
   "metadata": {},
   "outputs": [],
   "source": [
    "%reload_ext autoreload\n",
    "%autoreload 2\n",
    "\n",
    "import pandas as pd\n",
    "from datetime import datetime, timedelta\n",
    "import time\n",
    "import random\n",
    "from modules.peers_view import PeersView\n",
    "from modules.user import User\n",
    "from modules.network import Network\n",
    "from modules import config\n",
    "import numpy as np"
   ]
  },
  {
   "cell_type": "markdown",
   "metadata": {},
   "source": [
    "# Building routes\n",
    "\n",
    "We consider 3-layers routes:\n",
    "\n",
    "    A - L1 - RV - L2 - B\n",
    "\n",
    "Such that RV and L2 are chosen by B, while L1 is chosen by A.\n",
    "\n",
    "A layer consists of several candidate nodes to route a packet: only one of these candidates will route a packet at once.\n",
    "\n",
    "We fill layers incrementally: while not satisfied, add another node to one of the layers.\n",
    "\n",
    "Our problem is to find a stopping criterion.\n",
    "\n",
    "$o_d$: probability for device $d$ to be online\n",
    "\n",
    "$$ P[A \\rightarrow B] \\propto \\sum\\limits_{r \\in L1}o_r * \\sum\\limits_{r \\in RV}o_r * \\sum\\limits_{r \\in L2}o_r $$ "
   ]
  },
  {
   "cell_type": "markdown",
   "metadata": {},
   "source": [
    "## Perform experiment"
   ]
  },
  {
   "cell_type": "code",
   "execution_count": 65,
   "metadata": {
    "scrolled": false
   },
   "outputs": [],
   "source": [
    "def init_experiment(conf=config.default):\n",
    "    address_book = PeersView(conf)\n",
    "    net = Network()\n",
    "\n",
    "    n_devices = 0\n",
    "    users = [None] * conf['n_users']\n",
    "    for i in range(conf['n_users']):\n",
    "        users[i] = User(address_book, net, conf)\n",
    "        n_devices += users[i].n_devices\n",
    "\n",
    "    #     print(\"User #{} has {} devices: {}\".format(\n",
    "    #         i+1, users[i].n_devices,\n",
    "    #         [d.addr for d in users[i].devices]))\n",
    "    print(\"initialized {} users and {} devices\".format(conf['n_users'], n_devices))\n",
    "    return users, net, address_book\n",
    "\n",
    "def perform_round(conf, users, address_book_df=None, devices_view_df=None,\n",
    "                  current_round=None, sleep=False):\n",
    "    t_start = datetime.now()\n",
    "    #print(\"Round #{}/{} at {}\".format(t+1, conf['n_rounds'], datetime.now().time()))\n",
    "    for i in range(conf['n_users']):\n",
    "        users[i].act()\n",
    "        \n",
    "        if devices_view_df is not None:\n",
    "            for d in users[i].devices:\n",
    "                devices_view_df = devices_view_df.append(\n",
    "                    d.peers_view.snapshot({'round': t}))\n",
    "    if address_book_df is not None:\n",
    "        address_book_df = address_book_df.append(\n",
    "            address_book.snapshot({'round': t}))\n",
    "    \n",
    "    if sleep:\n",
    "        elapsed = datetime.now() - t_start\n",
    "        if elapsed > PERIOD:\n",
    "            print(\"We are running overtime (took {})! You should increase conf['period'].\".format(elapsed))\n",
    "        elif t != conf['n_rounds'] - 1:\n",
    "            #print(\"Sleeping\", conf['period'] - elapsed)\n",
    "            time.sleep((conf['period'] - elapsed).total_seconds())\n",
    "    \n",
    "    if current_round is None:\n",
    "        current_round = 0\n",
    "    else:\n",
    "        current_round += 1\n",
    "        \n",
    "    return current_round, address_book_df, devices_view_df\n",
    "\n",
    "def get_online_device(users):\n",
    "    user = random.choice(users)\n",
    "    while not user.has_online_devices():\n",
    "        user = random.choice(users)\n",
    "    return user.get_online_device()\n",
    "def get_devices_pair(users):\n",
    "    d1, d2 = get_online_device(users), get_online_device(users)\n",
    "    while d1.owner == d2.owner:\n",
    "        d2 = get_online_device(users)\n",
    "    return d1, d2\n",
    "\n",
    "# d1_status = address_book_df[address_book_df['addr'] == d1.addr]\n",
    "# d2_status = address_book_df[address_book_df['addr'] == d2.addr]\n",
    "\n",
    "def make_route(d1, d2):\n",
    "    layers = [None] * 3\n",
    "    layers[0] = d1.pick_devices(1)[0]\n",
    "    layers[1:] = d2.pick_devices(2)\n",
    "    return layers"
   ]
  },
  {
   "cell_type": "code",
   "execution_count": 66,
   "metadata": {},
   "outputs": [
    {
     "name": "stdout",
     "output_type": "stream",
     "text": [
      "initialized 20 users and 125 devices\n"
     ]
    }
   ],
   "source": [
    "conf = {\n",
    "    'gossip_size': 20,\n",
    "    'layer_threshold': 0.001,\n",
    "    'minimum_node_availability': 0,\n",
    "    'n_layers': 3,  # must be odd\n",
    "    'n_rounds': 20,\n",
    "    'n_users': 20,\n",
    "    'period': timedelta(seconds=1),\n",
    "}\n",
    "address_book_df = pd.DataFrame()\n",
    "devices_view_df = pd.DataFrame()\n",
    "users, net, address_book = init_experiment(conf)\n",
    "\n",
    "current_round, address_book_df, devices_view_df = perform_round(\n",
    "    conf, users, address_book_df, devices_view_df)"
   ]
  },
  {
   "cell_type": "code",
   "execution_count": 67,
   "metadata": {
    "scrolled": true
   },
   "outputs": [
    {
     "name": "stdout",
     "output_type": "stream",
     "text": [
      "[build_layer] Starting with view of size 20 and layer_threshold of 0.001.\n",
      "[build_layer it. 0] Selected device having proba of 0.99. Now view has size 19 and p=0.0066\n",
      "[build_layer it. 1] Selected device having proba of 0.85. Now view has size 18 and p=0.0010\n",
      "[build_layer it. 2] Selected device having proba of 0.94. Now view has size 17 and p=0.0001\n",
      "\n",
      "[build_layer] Starting with view of size 20 and layer_threshold of 0.001.\n",
      "[build_layer it. 0] Selected device having proba of 0.45. Now view has size 19 and p=0.5460\n",
      "[build_layer it. 1] Selected device having proba of 0.68. Now view has size 18 and p=0.1767\n",
      "[build_layer it. 2] Selected device having proba of 0.91. Now view has size 17 and p=0.0160\n",
      "[build_layer it. 3] Selected device having proba of 0.84. Now view has size 16 and p=0.0026\n",
      "[build_layer it. 4] Selected device having proba of 0.93. Now view has size 15 and p=0.0002\n",
      "\n",
      "[build_layer] Starting with view of size 15 and layer_threshold of 0.001.\n",
      "[build_layer it. 0] Selected device having proba of 0.76. Now view has size 14 and p=0.2419\n",
      "[build_layer it. 1] Selected device having proba of 0.88. Now view has size 13 and p=0.0298\n",
      "[build_layer it. 2] Selected device having proba of 0.86. Now view has size 12 and p=0.0042\n",
      "[build_layer it. 3] Selected device having proba of 0.64. Now view has size 11 and p=0.0015\n",
      "[build_layer it. 4] Selected device having proba of 0.94. Now view has size 10 and p=0.0001\n",
      "\n"
     ]
    },
    {
     "data": {
      "text/plain": [
       "[                                    addr         p                          t  \\\n",
       " 2018-04-21 19:22:58.861924  u0d226psrju3  0.993390 2018-04-21 19:22:58.861924   \n",
       " 2018-04-21 19:22:58.729082  6e7n8hneliwq  0.845904 2018-04-21 19:22:58.729082   \n",
       " 2018-04-21 19:22:58.774425  u0wy6ewp07tj  0.940406 2018-04-21 19:22:58.774425   \n",
       " \n",
       "                               type  \n",
       " 2018-04-21 19:22:58.861924  server  \n",
       " 2018-04-21 19:22:58.729082  mobile  \n",
       " 2018-04-21 19:22:58.774425  server  ,\n",
       "                                     addr         p                          t  \\\n",
       " 2018-04-21 19:22:58.601347  j66b3uja66hd  0.454049 2018-04-21 19:22:58.601347   \n",
       " 2018-04-21 19:22:58.671133  00tyj1vto5md  0.676372 2018-04-21 19:22:58.671133   \n",
       " 2018-04-21 19:22:58.560865  f9slmexqp8ss  0.909387 2018-04-21 19:22:58.560865   \n",
       " 2018-04-21 19:22:58.887245  beenzqwq42nk  0.836468 2018-04-21 19:22:58.887245   \n",
       " 2018-04-21 19:22:58.784506  5mib98p8vq09  0.929194 2018-04-21 19:22:58.784506   \n",
       " \n",
       "                               type  \n",
       " 2018-04-21 19:22:58.601347   fixed  \n",
       " 2018-04-21 19:22:58.671133  mobile  \n",
       " 2018-04-21 19:22:58.560865  server  \n",
       " 2018-04-21 19:22:58.887245  mobile  \n",
       " 2018-04-21 19:22:58.784506  mobile  ,\n",
       "                                     addr         p                          t  \\\n",
       " 2018-04-21 19:22:58.554541  lsygi7ycu6eq  0.758073 2018-04-21 19:22:58.554541   \n",
       " 2018-04-21 19:22:58.680096  pejweubdyu4s  0.876653 2018-04-21 19:22:58.680096   \n",
       " 2018-04-21 19:22:58.912206  q8nqb6sh8z9i  0.858369 2018-04-21 19:22:58.912206   \n",
       " 2018-04-21 19:22:58.617852  bzgu2cc036pm  0.641622 2018-04-21 19:22:58.617852   \n",
       " 2018-04-21 19:22:58.774425  u0wy6ewp07tj  0.940406 2018-04-21 19:22:58.774425   \n",
       " \n",
       "                               type  \n",
       " 2018-04-21 19:22:58.554541  mobile  \n",
       " 2018-04-21 19:22:58.680096  mobile  \n",
       " 2018-04-21 19:22:58.912206  mobile  \n",
       " 2018-04-21 19:22:58.617852  mobile  \n",
       " 2018-04-21 19:22:58.774425  server  ]"
      ]
     },
     "execution_count": 67,
     "metadata": {},
     "output_type": "execute_result"
    }
   ],
   "source": [
    "d1, d2 = get_devices_pair(users)\n",
    "\n",
    "route = [None] * conf['n_layers']\n",
    "route[:conf['n_layers']//2] = d1.build_route(role='sender')\n",
    "route[conf['n_layers']//2:] = d1.build_route(role='receiver')\n",
    "route"
   ]
  },
  {
   "cell_type": "code",
   "execution_count": 64,
   "metadata": {},
   "outputs": [
    {
     "name": "stdout",
     "output_type": "stream",
     "text": [
      "4/4 online devices in layer 1.\n",
      "5/5 online devices in layer 2.\n",
      "5/5 online devices in layer 3.\n",
      "The route is still opened!\n"
     ]
    }
   ],
   "source": [
    "current_round, address_book_df, devices_view_df = perform_round(\n",
    "    conf, users, address_book_df, devices_view_df)\n",
    "\n",
    "# Check if the route is still available (not the two ends)\n",
    "opened = True\n",
    "for l_id, layer in enumerate(route):\n",
    "    are_devices_online = [net.get_device(addr).is_online for addr in layer['addr']]\n",
    "    print(\"{}/{} online devices in layer {}.\".format(\n",
    "        sum(are_devices_online), len(layer), l_id + 1))\n",
    "    opened = opened and any(are_devices_online)\n",
    "\n",
    "    if not opened:\n",
    "        break\n",
    "if opened:\n",
    "    print(\"The route is still opened!\")\n",
    "else:\n",
    "    print(\"The route is closed.\")"
   ]
  },
  {
   "cell_type": "markdown",
   "metadata": {},
   "source": [
    "## Routes statistics"
   ]
  },
  {
   "cell_type": "code",
   "execution_count": null,
   "metadata": {},
   "outputs": [],
   "source": [
    "N_EXPERIMENTS = 100\n",
    "N_ROUTES_PER_EXPERIMENT = 10\n",
    "N_ROUNDS_SINCE_ROUTE = 10\n",
    "for n_layers in [3, 5, 7]:\n",
    "    for layer_threshold in [0.1, 0.01, 0.001, 0.0001]:\n",
    "        for _ in range(N_EXPERIMENTS):\n",
    "            n_users = n_layers * 5\n",
    "            conf = {\n",
    "                'gossip_size': 20,\n",
    "                'layer_threshold': 0.001,\n",
    "                'minimum_node_availability': 0,\n",
    "                'n_layers': 3,  # must be odd\n",
    "                'n_rounds': N_ROUNDS_SINCE_ROUTE + 1,\n",
    "                'n_users': n_users,\n",
    "                'period': timedelta(seconds=1),\n",
    "            }"
   ]
  },
  {
   "cell_type": "markdown",
   "metadata": {},
   "source": [
    "# Test of PeersView"
   ]
  },
  {
   "cell_type": "code",
   "execution_count": 116,
   "metadata": {
    "scrolled": true
   },
   "outputs": [
    {
     "name": "stdout",
     "output_type": "stream",
     "text": [
      "Expiration period: 0:00:01\n",
      "Time 00:01:59.105652: connected = ['g']\n"
     ]
    },
    {
     "ename": "TypeError",
     "evalue": "put() missing 1 required positional argument: 'p'",
     "output_type": "error",
     "traceback": [
      "\u001b[0;31m---------------------------------------------------------------------------\u001b[0m",
      "\u001b[0;31mTypeError\u001b[0m                                 Traceback (most recent call last)",
      "\u001b[0;32m<ipython-input-116-2e2e0bcc8f3a>\u001b[0m in \u001b[0;36m<module>\u001b[0;34m()\u001b[0m\n\u001b[1;32m     11\u001b[0m \u001b[0;34m\u001b[0m\u001b[0m\n\u001b[1;32m     12\u001b[0m     \u001b[0;32mfor\u001b[0m \u001b[0md\u001b[0m \u001b[0;32min\u001b[0m \u001b[0mconnected\u001b[0m\u001b[0;34m:\u001b[0m\u001b[0;34m\u001b[0m\u001b[0m\n\u001b[0;32m---> 13\u001b[0;31m         \u001b[0maddress_book\u001b[0m\u001b[0;34m.\u001b[0m\u001b[0mput\u001b[0m\u001b[0;34m(\u001b[0m\u001b[0mdatetime\u001b[0m\u001b[0;34m.\u001b[0m\u001b[0mnow\u001b[0m\u001b[0;34m(\u001b[0m\u001b[0;34m)\u001b[0m\u001b[0;34m,\u001b[0m \u001b[0md\u001b[0m\u001b[0;34m,\u001b[0m \u001b[0;36m0.8\u001b[0m\u001b[0;34m)\u001b[0m\u001b[0;34m\u001b[0m\u001b[0m\n\u001b[0m\u001b[1;32m     14\u001b[0m         \u001b[0mtime\u001b[0m\u001b[0;34m.\u001b[0m\u001b[0msleep\u001b[0m\u001b[0;34m(\u001b[0m\u001b[0;36m0.1\u001b[0m\u001b[0;34m)\u001b[0m\u001b[0;34m\u001b[0m\u001b[0m\n\u001b[1;32m     15\u001b[0m \u001b[0;34m\u001b[0m\u001b[0m\n",
      "\u001b[0;31mTypeError\u001b[0m: put() missing 1 required positional argument: 'p'"
     ]
    }
   ],
   "source": [
    "addresses = ['a', 'b', 'c', 'd', 'e', 'f', 'g', 'h', 'i', 'j']\n",
    "N = 20\n",
    "EXPIRATION_PERIOD = timedelta(seconds=1)\n",
    "print(\"Expiration period:\", EXPIRATION_PERIOD)\n",
    "\n",
    "address_book = PeersView(expiration_period=EXPIRATION_PERIOD)\n",
    "\n",
    "for _ in range(N):\n",
    "    connected = random.sample(addresses, k=random.randint(1, int(2 * len(addresses) / 3)))\n",
    "    print(\"Time {}: connected = {}\".format(datetime.now().time(), connected))\n",
    "    \n",
    "    for d in connected:\n",
    "        address_book.put(datetime.now(), d, 0.8)\n",
    "        time.sleep(0.1)\n",
    "    \n",
    "    print(\"Address book:\")\n",
    "    print(address_book.view)\n",
    "    print()"
   ]
  },
  {
   "cell_type": "code",
   "execution_count": null,
   "metadata": {},
   "outputs": [],
   "source": []
  }
 ],
 "metadata": {
  "kernelspec": {
   "display_name": "Python 3",
   "language": "python",
   "name": "python3"
  },
  "language_info": {
   "codemirror_mode": {
    "name": "ipython",
    "version": 3
   },
   "file_extension": ".py",
   "mimetype": "text/x-python",
   "name": "python",
   "nbconvert_exporter": "python",
   "pygments_lexer": "ipython3",
   "version": "3.5.2"
  }
 },
 "nbformat": 4,
 "nbformat_minor": 2
}
