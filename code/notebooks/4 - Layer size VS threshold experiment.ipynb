{
 "cells": [
  {
   "cell_type": "code",
   "execution_count": 1,
   "metadata": {},
   "outputs": [],
   "source": [
    "%reload_ext autoreload\n",
    "%autoreload 2\n",
    "\n",
    "from routes import experiment\n",
    "import numpy as np\n",
    "from datetime import timedelta\n",
    "import matplotlib as mpl\n",
    "import matplotlib.pyplot as plt\n",
    "import seaborn as sns"
   ]
  },
  {
   "cell_type": "code",
   "execution_count": null,
   "metadata": {},
   "outputs": [
    {
     "name": "stdout",
     "output_type": "stream",
     "text": [
      "[0:00:28.461088] Experiment 1/10 done.\n",
      "[0:01:00.686745] Experiment 2/10 done.\n",
      "[0:01:30.789392] Experiment 3/10 done.\n"
     ]
    }
   ],
   "source": [
    "LAYER_THRESHOLD = np.logspace(-1, -4, num=10)\n",
    "N_LAYERS = [3]\n",
    "N_ROUNDS_SINCE_ROUTE = 1\n",
    "N_ROUTES = 10\n",
    "N_EXPERIMENTS = 10\n",
    "PERIOD = timedelta(seconds=12)\n",
    "\n",
    "layers_df, routes_df = experiment.run_experiments_set(N_LAYERS, LAYER_THRESHOLD,\n",
    "                                                      N_ROUNDS_SINCE_ROUTE, N_ROUTES,\n",
    "                                                      N_EXPERIMENTS, PERIOD)"
   ]
  },
  {
   "cell_type": "code",
   "execution_count": 17,
   "metadata": {},
   "outputs": [
    {
     "name": "stdout",
     "output_type": "stream",
     "text": [
      "[[  1.00000000e-01   2.00000000e+00   0.00000000e+00]\n",
      " [  4.64158883e-02   2.00000000e+00   0.00000000e+00]\n",
      " [  2.15443469e-02   3.00000000e+00   1.00000000e+00]\n",
      " [  1.00000000e-02   3.50000000e+00   5.00000000e-01]\n",
      " [  4.64158883e-03   4.00000000e+00   1.00000000e+00]\n",
      " [  2.15443469e-03   4.00000000e+00   1.00000000e+00]\n",
      " [  1.00000000e-03   5.00000000e+00   1.00000000e+00]\n",
      " [  4.64158883e-04   5.00000000e+00   1.00000000e+00]\n",
      " [  2.15443469e-04   6.00000000e+00   1.00000000e+00]\n",
      " [  1.00000000e-04   6.00000000e+00   1.00000000e+00]]\n",
      "[[  1.00000000e-01   2.06333333e+00   7.58004480e-01]\n",
      " [  4.64158883e-02   2.46333333e+00   7.41950486e-01]\n",
      " [  2.15443469e-02   2.84000000e+00   8.96518722e-01]\n",
      " [  1.00000000e-02   3.57666667e+00   1.05886395e+00]\n",
      " [  4.64158883e-03   3.97333333e+00   1.12999048e+00]\n",
      " [  2.15443469e-03   4.43333333e+00   1.19875446e+00]\n",
      " [  1.00000000e-03   4.78000000e+00   1.09952863e+00]\n",
      " [  4.64158883e-04   5.26000000e+00   1.27455153e+00]\n",
      " [  2.15443469e-04   5.82333333e+00   1.32840925e+00]\n",
      " [  1.00000000e-04   6.10333333e+00   1.39252263e+00]]\n"
     ]
    }
   ],
   "source": [
    "# median absolute deviation \n",
    "def mad(x):\n",
    "    return np.median(np.absolute(x - np.median(x)))\n",
    "\n",
    "data_median = np.empty((len(LAYER_THRESHOLD), 3), dtype=np.float64)\n",
    "data_mean = np.empty((len(LAYER_THRESHOLD), 3), dtype=np.float64)\n",
    "for i, layer_threshold in enumerate(LAYER_THRESHOLD):\n",
    "    df = layers_df[layers_df['layer_threshold'] == layer_threshold]\n",
    "    \n",
    "    data_median[i] = [layer_threshold, df['layer_size'].median(), mad(df['layer_size'])]\n",
    "    data_mean[i] = [layer_threshold, df['layer_size'].mean(), df['layer_size'].std()]\n",
    "\n",
    "print(data_median)\n",
    "print(data_mean)"
   ]
  },
  {
   "cell_type": "code",
   "execution_count": 34,
   "metadata": {},
   "outputs": [
    {
     "data": {
      "image/png": "[encoded data removed]",
      "text/plain": [
       "<matplotlib.figure.Figure at 0x7f6b116d9a20>"
      ]
     },
     "metadata": {},
     "output_type": "display_data"
    }
   ],
   "source": [
    "fig, ax = plt.subplots(figsize=(6, 2.6))\n",
    "sns.despine()\n",
    "sns.set_style(\"whitegrid\")\n",
    "\n",
    "#ax.plot(data_mean[:, 0], data_mean[:, 1])\n",
    "ax.errorbar(data_mean[:, 0], data_mean[:, 1], yerr=data_mean[:, 2])\n",
    "\n",
    "#ax.set_xscale('log')\n",
    "ax.semilogx()\n",
    "ax.set_xlabel(\"Maximal probability of layer being offline\")\n",
    "ax.set_ylabel(\"Number of nodes per layer\")\n",
    "\n",
    "\n",
    "plt.suptitle(\"10 experiments with 10 routes of 3 layers\")\n",
    "plt.tight_layout()\n",
    "plt.savefig(\"outputs/number_of_nodes_vs_threshold.svg\")\n",
    "plt.show()"
   ]
  },
  {
   "cell_type": "code",
   "execution_count": null,
   "metadata": {},
   "outputs": [],
   "source": []
  }
 ],
 "metadata": {
  "kernelspec": {
   "display_name": "Python 3",
   "language": "python",
   "name": "python3"
  },
  "language_info": {
   "codemirror_mode": {
    "name": "ipython",
    "version": 3
   },
   "file_extension": ".py",
   "mimetype": "text/x-python",
   "name": "python",
   "nbconvert_exporter": "python",
   "pygments_lexer": "ipython3",
   "version": "3.5.2"
  }
 },
 "nbformat": 4,
 "nbformat_minor": 2
}
