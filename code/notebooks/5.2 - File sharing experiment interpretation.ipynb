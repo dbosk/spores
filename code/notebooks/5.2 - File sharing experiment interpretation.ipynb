{
 "cells": [
  {
   "cell_type": "code",
   "execution_count": 83,
   "metadata": {},
   "outputs": [],
   "source": [
    "%reload_ext Cython"
   ]
  },
  {
   "cell_type": "code",
   "execution_count": 82,
   "metadata": {},
   "outputs": [],
   "source": [
    "%reload_ext autoreload\n",
    "%autoreload 2\n",
    "\n",
    "from copy import deepcopy\n",
    "from datetime import datetime, timedelta\n",
    "from file_exchange import config, network\n",
    "from file_exchange.network import Network\n",
    "from file_exchange.peers_view import PeersView\n",
    "from file_exchange.user import User\n",
    "from gevent.event import AsyncResult\n",
    "from gevent.pool import Group\n",
    "from gevent.select import select\n",
    "import gevent\n",
    "import json\n",
    "import matplotlib as mpl\n",
    "import matplotlib.pyplot as plt\n",
    "import math\n",
    "import multiprocessing\n",
    "import numpy as np\n",
    "import pandas as pd\n",
    "import os\n",
    "import pickle\n",
    "import random\n",
    "import re\n",
    "import seaborn as sns\n",
    "import shutil\n",
    "import sys\n",
    "import time\n",
    "import traceback\n",
    "\n",
    "def load_conf(path):\n",
    "    f = open(path+'conf.json', 'r')\n",
    "    conf = json.load(f)\n",
    "    conf['period'] = datetime.strptime(conf['period'], \"%H:%M:%S\") - \\\n",
    "                      datetime.strptime(\"00:00\", \"%H:%M\")\n",
    "    return conf \n",
    "\n",
    "def fetch_dataframes(conf):\n",
    "    devices_df = pd.DataFrame()\n",
    "    users_df = pd.DataFrame()\n",
    "    for fn in os.listdir(conf['output_dir']):\n",
    "        if not fn.endswith(\".csv\"):\n",
    "            continue\n",
    "            \n",
    "        filepath = conf['output_dir']+fn\n",
    "        if re.search(\"device\", fn):\n",
    "            devices_df = append_to_df(filepath, devices_df)\n",
    "        elif re.search(\"user\", fn):\n",
    "            users_df = append_to_df(filepath, users_df)\n",
    "\n",
    "    devices_df['t'] -= min(devices_df['t'])\n",
    "    devices_df = devices_df.sort_values('t')\n",
    "    users_df['t'] -= min(users_df['t'])\n",
    "    users_df = users_df.sort_values('t')\n",
    "    return devices_df, users_df\n",
    "\n",
    "def fetch_experiment_data(path):\n",
    "    conf = load_conf(path)\n",
    "    with open(conf['output_dir']+\"files_info.bin\", 'rb') as f:\n",
    "        files_info = pickle.load(f)\n",
    "    devices_df, users_df = fetch_dataframes(conf)  \n",
    "    return conf, files_info, devices_df, users_df\n",
    "\n",
    "def append_to_df(filepath, df):\n",
    "    try:\n",
    "        df2 = pd.read_csv(filepath)\n",
    "    except:\n",
    "        print(\"Failed loading {}: {}\".format(fn, sys.exc_info()))\n",
    "        pass\n",
    "    else:\n",
    "        if(df.empty):\n",
    "            df = df2\n",
    "        else:\n",
    "            df = df.append(df2,)\n",
    "    return df\n",
    "\n",
    "# if experiment_set:\n",
    "#     data_dir = 'data/'+experiment_set_name+''/'+conf['experiment_name']+'/'\n",
    "# else:\n",
    "#     data_dir = \"data/\"+conf['experiment_name']+'/'\n",
    "# #data_dir=\"data/experiment_set/experiment_1/\"\n",
    "# conf, files_info, devices_df, users_df = fetch_experiment_data(data_dir)"
   ]
  },
  {
   "cell_type": "code",
   "execution_count": 12,
   "metadata": {},
   "outputs": [],
   "source": [
    "def fetch_experiment_set(path):\n",
    "    devices_df = pd.DataFrame()\n",
    "    users_df = pd.DataFrame()\n",
    "    conf = {}\n",
    "    files_info = {}\n",
    "    for experiment_name in os.listdir(path):\n",
    "        conf_, files_info_, devices_df_, users_df_ = \\\n",
    "            fetch_experiment_data(path+experiment_name+\"/\")\n",
    "        \n",
    "        devices_df_['experiment_name'] = experiment_name\n",
    "        users_df_['experiment_name'] = experiment_name\n",
    "        devices_df = devices_df.append(devices_df_, ignore_index=True)\n",
    "        users_df = users_df.append(users_df_, ignore_index=True)\n",
    "        conf[experiment_name] = conf_\n",
    "        files_info[experiment_name] = files_info_\n",
    "    return conf, files_info, devices_df, users_df\n",
    "\n",
    "# Mesage IDs are not unique in the dataset! (experiment_id, mes_id) should be\n",
    "conf, files_info, devices_df, users_df =  fetch_experiment_set(\"data/users_number/\")"
   ]
  },
  {
   "cell_type": "code",
   "execution_count": 33,
   "metadata": {},
   "outputs": [
    {
     "name": "stdout",
     "output_type": "stream",
     "text": [
      "302066\n"
     ]
    },
    {
     "data": {
      "text/plain": [
       "array([[    0,     1],\n",
       "       [    0,    17],\n",
       "       [    0,    23],\n",
       "       ...,\n",
       "       [   99, 65377],\n",
       "       [   99, 65397],\n",
       "       [   99, 65444]], dtype=uint64)"
      ]
     },
     "execution_count": 33,
     "metadata": {},
     "output_type": "execute_result"
    }
   ],
   "source": [
    "a=np.unique(devices_df[['experiment_id', 'mess_id']].values.astype(np.uint), axis=0)\n",
    "print(len(a))\n",
    "a"
   ]
  },
  {
   "cell_type": "markdown",
   "metadata": {},
   "source": [
    "## RTT"
   ]
  },
  {
   "cell_type": "code",
   "execution_count": 87,
   "metadata": {},
   "outputs": [
    {
     "name": "stderr",
     "output_type": "stream",
     "text": [
      "\n",
      "Error compiling Cython file:\n",
      "------------------------------------------------------------\n",
      "...\n",
      "        ][['type', 't', 'mess_id']]\n",
      "        for m_id in np.unique(messages_id[messages_id[:,0] == experiment_id][:, 1]):\n",
      "            data = experiment_data[experiment_data['mess_id'] == m_id][['type', 't']]\n",
      "\n",
      "            if not data.empty:\n",
      "                float chunk = data[data['type'] == 1]['t'].min()\n",
      "                     ^\n",
      "------------------------------------------------------------\n",
      "\n",
      "/home/adrien/.cache/ipython/cython/_cython_magic_52d16d66481aa73bae70923b9096fc97.pyx:25:22: Syntax error in simple statement list\n"
     ]
    },
    {
     "ename": "TypeError",
     "evalue": "object of type 'NoneType' has no len()",
     "output_type": "error",
     "traceback": [
      "\u001b[0;31m---------------------------------------------------------------------------\u001b[0m",
      "\u001b[0;31mTypeError\u001b[0m                                 Traceback (most recent call last)",
      "\u001b[0;32m<ipython-input-87-142f4f39bbe2>\u001b[0m in \u001b[0;36m<module>\u001b[0;34m()\u001b[0m\n\u001b[0;32m----> 1\u001b[0;31m \u001b[0mget_ipython\u001b[0m\u001b[0;34m(\u001b[0m\u001b[0;34m)\u001b[0m\u001b[0;34m.\u001b[0m\u001b[0mrun_cell_magic\u001b[0m\u001b[0;34m(\u001b[0m\u001b[0;34m'cython'\u001b[0m\u001b[0;34m,\u001b[0m \u001b[0;34m''\u001b[0m\u001b[0;34m,\u001b[0m \u001b[0;34m'\\nimport numpy as np\\nimport pandas as pd\\n\\ndef get_transfer_times(devices_df):\\n    messages_id = np.unique(\\n        devices_df[[\\'experiment_id\\', \\'mess_id\\']].values.astype(np.uint), \\n        axis=0)\\n    transfer_times = pd.DataFrame()\\n\\n    cdef int n_messages = messages_id.shape[0]\\n    cdef int i = 0\\n    cdef int experiment_id, m_id\\n    cdef float chunk, ack, rtt\\n    \\n    \\n    for experiment_id in np.unique(messages_id[:, 0]):\\n        experiment_data = devices_df[\\n            devices_df[\\'experiment_id\\'] == experiment_id\\n        ][[\\'type\\', \\'t\\', \\'mess_id\\']]\\n        for m_id in np.unique(messages_id[messages_id[:,0] == experiment_id][:, 1]):\\n            data = experiment_data[experiment_data[\\'mess_id\\'] == m_id][[\\'type\\', \\'t\\']]\\n\\n            if not data.empty:\\n                float chunk = data[data[\\'type\\'] == 1][\\'t\\'].min()\\n                float ack = data[data[\\'type\\'] == 2][\\'t\\'].max()\\n\\n                rtt = -1\\n                if chunk is not None and ack is not None:\\n                    rtt = chunk + ack\\n\\n                transfer_times = transfer_times.append(pd.DataFrame([\\n                    [chunk, 1],\\n                    [ack, 2],\\n                    [rtt if rtt != -1 else None, 3]\\n                ], columns=[\\'t\\', \\'type\\']), ignore_index=True)\\n            else:\\n                print(\"No ({}, {}) in devices_df\".format(experiment_id, m_id))\\n\\n            if i % 10000 == 0:\\n                print(\"{:.1%} done\".format((i+1)/n_messages))\\n            i += 1\\ndef to_cdf(data):\\n    data_size = len(data)\\n    data_set=sorted(set(data))\\n    bins=np.append(data_set, data_set[-1]+1)\\n    counts, bin_edges = np.histogram(data, bins=bins, density=False)\\n\\n    counts=counts.astype(float)/data_size\\n\\n    # Find the cdf\\n    cdf = np.cumsum(counts)\\n    \\n    return cdf, bins'\u001b[0m\u001b[0;34m)\u001b[0m\u001b[0;34m\u001b[0m\u001b[0m\n\u001b[0m",
      "\u001b[0;32m/usr/local/lib/python3.5/dist-packages/IPython/core/interactiveshell.py\u001b[0m in \u001b[0;36mrun_cell_magic\u001b[0;34m(self, magic_name, line, cell)\u001b[0m\n\u001b[1;32m   2165\u001b[0m             \u001b[0mmagic_arg_s\u001b[0m \u001b[0;34m=\u001b[0m \u001b[0mself\u001b[0m\u001b[0;34m.\u001b[0m\u001b[0mvar_expand\u001b[0m\u001b[0;34m(\u001b[0m\u001b[0mline\u001b[0m\u001b[0;34m,\u001b[0m \u001b[0mstack_depth\u001b[0m\u001b[0;34m)\u001b[0m\u001b[0;34m\u001b[0m\u001b[0m\n\u001b[1;32m   2166\u001b[0m             \u001b[0;32mwith\u001b[0m \u001b[0mself\u001b[0m\u001b[0;34m.\u001b[0m\u001b[0mbuiltin_trap\u001b[0m\u001b[0;34m:\u001b[0m\u001b[0;34m\u001b[0m\u001b[0m\n\u001b[0;32m-> 2167\u001b[0;31m                 \u001b[0mresult\u001b[0m \u001b[0;34m=\u001b[0m \u001b[0mfn\u001b[0m\u001b[0;34m(\u001b[0m\u001b[0mmagic_arg_s\u001b[0m\u001b[0;34m,\u001b[0m \u001b[0mcell\u001b[0m\u001b[0;34m)\u001b[0m\u001b[0;34m\u001b[0m\u001b[0m\n\u001b[0m\u001b[1;32m   2168\u001b[0m             \u001b[0;32mreturn\u001b[0m \u001b[0mresult\u001b[0m\u001b[0;34m\u001b[0m\u001b[0m\n\u001b[1;32m   2169\u001b[0m \u001b[0;34m\u001b[0m\u001b[0m\n",
      "\u001b[0;32m<decorator-gen-367>\u001b[0m in \u001b[0;36mcython\u001b[0;34m(self, line, cell)\u001b[0m\n",
      "\u001b[0;32m/usr/local/lib/python3.5/dist-packages/IPython/core/magic.py\u001b[0m in \u001b[0;36m<lambda>\u001b[0;34m(f, *a, **k)\u001b[0m\n\u001b[1;32m    185\u001b[0m     \u001b[0;31m# but it's overkill for just that one bit of state.\u001b[0m\u001b[0;34m\u001b[0m\u001b[0;34m\u001b[0m\u001b[0m\n\u001b[1;32m    186\u001b[0m     \u001b[0;32mdef\u001b[0m \u001b[0mmagic_deco\u001b[0m\u001b[0;34m(\u001b[0m\u001b[0marg\u001b[0m\u001b[0;34m)\u001b[0m\u001b[0;34m:\u001b[0m\u001b[0;34m\u001b[0m\u001b[0m\n\u001b[0;32m--> 187\u001b[0;31m         \u001b[0mcall\u001b[0m \u001b[0;34m=\u001b[0m \u001b[0;32mlambda\u001b[0m \u001b[0mf\u001b[0m\u001b[0;34m,\u001b[0m \u001b[0;34m*\u001b[0m\u001b[0ma\u001b[0m\u001b[0;34m,\u001b[0m \u001b[0;34m**\u001b[0m\u001b[0mk\u001b[0m\u001b[0;34m:\u001b[0m \u001b[0mf\u001b[0m\u001b[0;34m(\u001b[0m\u001b[0;34m*\u001b[0m\u001b[0ma\u001b[0m\u001b[0;34m,\u001b[0m \u001b[0;34m**\u001b[0m\u001b[0mk\u001b[0m\u001b[0;34m)\u001b[0m\u001b[0;34m\u001b[0m\u001b[0m\n\u001b[0m\u001b[1;32m    188\u001b[0m \u001b[0;34m\u001b[0m\u001b[0m\n\u001b[1;32m    189\u001b[0m         \u001b[0;32mif\u001b[0m \u001b[0mcallable\u001b[0m\u001b[0;34m(\u001b[0m\u001b[0marg\u001b[0m\u001b[0;34m)\u001b[0m\u001b[0;34m:\u001b[0m\u001b[0;34m\u001b[0m\u001b[0m\n",
      "\u001b[0;32m/usr/local/lib/python3.5/dist-packages/Cython/Build/IpythonMagic.py\u001b[0m in \u001b[0;36mcython\u001b[0;34m(self, line, cell)\u001b[0m\n\u001b[1;32m    319\u001b[0m         \u001b[0;32mif\u001b[0m \u001b[0mneed_cythonize\u001b[0m\u001b[0;34m:\u001b[0m\u001b[0;34m\u001b[0m\u001b[0m\n\u001b[1;32m    320\u001b[0m             \u001b[0mextensions\u001b[0m \u001b[0;34m=\u001b[0m \u001b[0mself\u001b[0m\u001b[0;34m.\u001b[0m\u001b[0m_cythonize\u001b[0m\u001b[0;34m(\u001b[0m\u001b[0mmodule_name\u001b[0m\u001b[0;34m,\u001b[0m \u001b[0mcode\u001b[0m\u001b[0;34m,\u001b[0m \u001b[0mlib_dir\u001b[0m\u001b[0;34m,\u001b[0m \u001b[0margs\u001b[0m\u001b[0;34m,\u001b[0m \u001b[0mquiet\u001b[0m\u001b[0;34m=\u001b[0m\u001b[0margs\u001b[0m\u001b[0;34m.\u001b[0m\u001b[0mquiet\u001b[0m\u001b[0;34m)\u001b[0m\u001b[0;34m\u001b[0m\u001b[0m\n\u001b[0;32m--> 321\u001b[0;31m             \u001b[0;32massert\u001b[0m \u001b[0mlen\u001b[0m\u001b[0;34m(\u001b[0m\u001b[0mextensions\u001b[0m\u001b[0;34m)\u001b[0m \u001b[0;34m==\u001b[0m \u001b[0;36m1\u001b[0m\u001b[0;34m\u001b[0m\u001b[0m\n\u001b[0m\u001b[1;32m    322\u001b[0m             \u001b[0mextension\u001b[0m \u001b[0;34m=\u001b[0m \u001b[0mextensions\u001b[0m\u001b[0;34m[\u001b[0m\u001b[0;36m0\u001b[0m\u001b[0;34m]\u001b[0m\u001b[0;34m\u001b[0m\u001b[0m\n\u001b[1;32m    323\u001b[0m             \u001b[0mself\u001b[0m\u001b[0;34m.\u001b[0m\u001b[0m_code_cache\u001b[0m\u001b[0;34m[\u001b[0m\u001b[0mkey\u001b[0m\u001b[0;34m]\u001b[0m \u001b[0;34m=\u001b[0m \u001b[0mmodule_name\u001b[0m\u001b[0;34m\u001b[0m\u001b[0m\n",
      "\u001b[0;31mTypeError\u001b[0m: object of type 'NoneType' has no len()"
     ]
    }
   ],
   "source": [
    "%%cython \n",
    "\n",
    "import numpy as np\n",
    "import pandas as pd\n",
    "\n",
    "def get_transfer_times(devices_df):\n",
    "    messages_id = np.unique(\n",
    "        devices_df[['experiment_id', 'mess_id']].values.astype(np.uint), \n",
    "        axis=0)\n",
    "    transfer_times = pd.DataFrame()\n",
    "\n",
    "    cdef int n_messages = messages_id.shape[0]\n",
    "    cdef int i = 0\n",
    "    cdef int experiment_id, m_id\n",
    "    cdef float chunk, ack, rtt\n",
    "    \n",
    "    \n",
    "    for experiment_id in np.unique(messages_id[:, 0]):\n",
    "        experiment_data = devices_df[\n",
    "            devices_df['experiment_id'] == experiment_id\n",
    "        ][['type', 't', 'mess_id']]\n",
    "        for m_id in np.unique(messages_id[messages_id[:,0] == experiment_id][:, 1]):\n",
    "            data = experiment_data[experiment_data['mess_id'] == m_id][['type', 't']]\n",
    "\n",
    "            if not data.empty:\n",
    "                chunk = data[data['type'] == 1]['t'].min()\n",
    "                ack = data[data['type'] == 2]['t'].max()\n",
    "\n",
    "                rtt = -1\n",
    "                if chunk is not None and ack is not None:\n",
    "                    rtt = chunk + ack\n",
    "\n",
    "                transfer_times = transfer_times.append(pd.DataFrame([\n",
    "                    [chunk, 1],\n",
    "                    [ack, 2],\n",
    "                    [rtt if rtt != -1 else None, 3]\n",
    "                ], columns=['t', 'type']), ignore_index=True)\n",
    "            else:\n",
    "                print(\"No ({}, {}) in devices_df\".format(experiment_id, m_id))\n",
    "\n",
    "            if i % 10000 == 0:\n",
    "                print(\"{:.1%} done\".format((i+1)/n_messages))\n",
    "            i += 1\n",
    "def to_cdf(data):\n",
    "    data_size = len(data)\n",
    "    data_set=sorted(set(data))\n",
    "    bins=np.append(data_set, data_set[-1]+1)\n",
    "    counts, bin_edges = np.histogram(data, bins=bins, density=False)\n",
    "\n",
    "    counts=counts.astype(float)/data_size\n",
    "\n",
    "    # Find the cdf\n",
    "    cdf = np.cumsum(counts)\n",
    "    \n",
    "    return cdf, bins"
   ]
  },
  {
   "cell_type": "code",
   "execution_count": null,
   "metadata": {},
   "outputs": [],
   "source": [
    "PLOT_DIR = \"outputs/users_number/\"\n",
    "os.makedirs(PLOT_DIR)"
   ]
  },
  {
   "cell_type": "code",
   "execution_count": null,
   "metadata": {},
   "outputs": [],
   "source": [
    "f, ax = plt.subplots()\n",
    "\n",
    "# Plot the cdf\n",
    "cdf, bins = to_cdf(transfer_times[transfer_times['type'] == 1]['t'])\n",
    "ax.plot(bins[0:-1], cdf, label=\"Chunks\")\n",
    "cdf, bins = to_cdf(transfer_times[transfer_times['type'] == 2]['t'])\n",
    "ax.plot(bins[0:-1], cdf, label=\"Acks\")\n",
    "cdf, bins = to_cdf(transfer_times[transfer_times['type'] == 3]['t'])\n",
    "ax.plot(bins[0:-1], cdf, label=\"RTT\")\n",
    "\n",
    "ax.set_xlabel('Time (s)')\n",
    "ax.set_xlim(0,)\n",
    "ax.set_ylabel('CDF (%)')\n",
    "ax.yaxis.set_major_formatter(mpl.ticker.FuncFormatter(lambda y, _: '{:.0%}'.format(y))) \n",
    "ax.set_ylim(0,)\n",
    "ax.legend()\n",
    "plt.suptitle('Cumulative distribution function of messages transmission time')\n",
    "\n",
    "\n",
    "sns.despine()\n",
    "plt.savefig('outputs/users_number/messages_rtt_cdf.svg')\n",
    "plt.show()"
   ]
  }
 ],
 "metadata": {
  "kernelspec": {
   "display_name": "Python 3",
   "language": "python",
   "name": "python3"
  },
  "language_info": {
   "codemirror_mode": {
    "name": "ipython",
    "version": 3
   },
   "file_extension": ".py",
   "mimetype": "text/x-python",
   "name": "python",
   "nbconvert_exporter": "python",
   "pygments_lexer": "ipython3",
   "version": "3.5.2"
  }
 },
 "nbformat": 4,
 "nbformat_minor": 2
}
