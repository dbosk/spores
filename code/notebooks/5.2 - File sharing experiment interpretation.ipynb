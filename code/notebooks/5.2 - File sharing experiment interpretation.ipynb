{
 "cells": [
  {
   "cell_type": "code",
   "execution_count": 2,
   "metadata": {},
   "outputs": [],
   "source": [
    "%reload_ext autoreload\n",
    "%autoreload 2\n",
    "\n",
    "from copy import deepcopy\n",
    "from datetime import datetime, timedelta\n",
    "from file_exchange import config, network\n",
    "from file_exchange.network import Network\n",
    "from file_exchange.peers_view import PeersView\n",
    "from file_exchange.user import User\n",
    "from gevent.event import AsyncResult\n",
    "from gevent.pool import Group\n",
    "from gevent.select import select\n",
    "import gevent\n",
    "import json\n",
    "import matplotlib as mpl\n",
    "import matplotlib.pyplot as plt\n",
    "import math\n",
    "import multiprocessing\n",
    "import numpy as np\n",
    "import os\n",
    "import pandas as pd\n",
    "import pickle\n",
    "import random\n",
    "import re\n",
    "import seaborn as sns\n",
    "import shutil\n",
    "import sys\n",
    "import time\n",
    "import traceback\n",
    "\n",
    "def fetch_dataframes(conf):\n",
    "    devices_df = pd.DataFrame()\n",
    "    users_df = pd.DataFrame()\n",
    "    for fn in os.listdir(conf['output_dir']):\n",
    "        if not fn.endswith(\".csv\"):\n",
    "            continue\n",
    "            \n",
    "        filepath = conf['output_dir']+fn\n",
    "        if re.search(\"device\", fn):\n",
    "            devices_df = append_to_df(filepath, devices_df)\n",
    "        elif re.search(\"user\", fn):\n",
    "            users_df = append_to_df(filepath, users_df)\n",
    "\n",
    "    devices_df['t'] -= min(devices_df['t'])\n",
    "    devices_df = devices_df.sort_values('t')\n",
    "    users_df['t'] -= min(users_df['t'])\n",
    "    users_df = users_df.sort_values('t')\n",
    "    return devices_df, users_df\n",
    "\n",
    "def fetch_experiment_data(path):\n",
    "    conf = load_conf(path)\n",
    "    with open(conf['output_dir']+\"files_info.bin\", 'rb') as f:\n",
    "        files_info = pickle.load(f)\n",
    "    devices_df, users_df = fetch_dataframes(conf)  \n",
    "    return conf, files_info, devices_df, users_df\n",
    "\n",
    "def append_to_df(filepath, df):\n",
    "    try:\n",
    "        df2 = pd.read_csv(filepath)\n",
    "    except:\n",
    "        print(\"Failed loading {}: {}\".format(fn, sys.exc_info()))\n",
    "        pass\n",
    "    else:\n",
    "        if(df.empty):\n",
    "            df = df2\n",
    "        else:\n",
    "            df = df.append(df2,)\n",
    "    return df\n",
    "\n",
    "# if experiment_set:\n",
    "#     data_dir = 'data/'+experiment_set_name+''/'+conf['experiment_name']+'/'\n",
    "# else:\n",
    "#     data_dir = \"data/\"+conf['experiment_name']+'/'\n",
    "# #data_dir=\"data/experiment_set/experiment_1/\"\n",
    "# conf, files_info, devices_df, users_df = fetch_experiment_data(data_dir)"
   ]
  },
  {
   "cell_type": "code",
   "execution_count": 3,
   "metadata": {},
   "outputs": [
    {
     "ename": "FileNotFoundError",
     "evalue": "[Errno 2] No such file or directory: 'data/users_number/'",
     "output_type": "error",
     "traceback": [
      "\u001b[0;31m---------------------------------------------------------------------------\u001b[0m",
      "\u001b[0;31mFileNotFoundError\u001b[0m                         Traceback (most recent call last)",
      "\u001b[0;32m<ipython-input-3-64df7f0c99ea>\u001b[0m in \u001b[0;36m<module>\u001b[0;34m()\u001b[0m\n\u001b[1;32m      3\u001b[0m     \u001b[0;32mreturn\u001b[0m\u001b[0;34m\u001b[0m\u001b[0m\n\u001b[1;32m      4\u001b[0m \u001b[0;34m\u001b[0m\u001b[0m\n\u001b[0;32m----> 5\u001b[0;31m \u001b[0mfetch_experiment_set\u001b[0m\u001b[0;34m(\u001b[0m\u001b[0;34m\"data/users_number/\"\u001b[0m\u001b[0;34m)\u001b[0m\u001b[0;34m\u001b[0m\u001b[0m\n\u001b[0m",
      "\u001b[0;32m<ipython-input-3-64df7f0c99ea>\u001b[0m in \u001b[0;36mfetch_experiment_set\u001b[0;34m(path)\u001b[0m\n\u001b[1;32m      1\u001b[0m \u001b[0;32mdef\u001b[0m \u001b[0mfetch_experiment_set\u001b[0m\u001b[0;34m(\u001b[0m\u001b[0mpath\u001b[0m\u001b[0;34m)\u001b[0m\u001b[0;34m:\u001b[0m\u001b[0;34m\u001b[0m\u001b[0m\n\u001b[0;32m----> 2\u001b[0;31m     \u001b[0mprint\u001b[0m\u001b[0;34m(\u001b[0m\u001b[0mos\u001b[0m\u001b[0;34m.\u001b[0m\u001b[0mlistdir\u001b[0m\u001b[0;34m(\u001b[0m\u001b[0mpath\u001b[0m\u001b[0;34m)\u001b[0m\u001b[0;34m)\u001b[0m\u001b[0;34m\u001b[0m\u001b[0m\n\u001b[0m\u001b[1;32m      3\u001b[0m     \u001b[0;32mreturn\u001b[0m\u001b[0;34m\u001b[0m\u001b[0m\n\u001b[1;32m      4\u001b[0m \u001b[0;34m\u001b[0m\u001b[0m\n\u001b[1;32m      5\u001b[0m \u001b[0mfetch_experiment_set\u001b[0m\u001b[0;34m(\u001b[0m\u001b[0;34m\"data/users_number/\"\u001b[0m\u001b[0;34m)\u001b[0m\u001b[0;34m\u001b[0m\u001b[0m\n",
      "\u001b[0;31mFileNotFoundError\u001b[0m: [Errno 2] No such file or directory: 'data/users_number/'"
     ]
    }
   ],
   "source": [
    "def fetch_experiment_set(path):\n",
    "    print(os.listdir(path))\n",
    "    return\n",
    "\n",
    "fetch_experiment_set(\"data/users_number/\")"
   ]
  }
 ],
 "metadata": {
  "kernelspec": {
   "display_name": "Python 3",
   "language": "python",
   "name": "python3"
  },
  "language_info": {
   "codemirror_mode": {
    "name": "ipython",
    "version": 3
   },
   "file_extension": ".py",
   "mimetype": "text/x-python",
   "name": "python",
   "nbconvert_exporter": "python",
   "pygments_lexer": "ipython3",
   "version": "3.5.2"
  }
 },
 "nbformat": 4,
 "nbformat_minor": 2
}
