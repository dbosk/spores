{
 "cells": [
  {
   "cell_type": "markdown",
   "metadata": {
    "deletable": true,
    "editable": true
   },
   "source": [
    "# hmmlearn\n",
    "\n",
    "    model=hmm.MultinomialHMM(n_components=3, transmat_prior=transmat, startprob_prior=startprob, params=\"tse\")\n",
    "    model.n_features=4\n",
    "    model.emissionprob_=np.array([[0, 1/2, 1/2, 0], [2/3, 0, 1/3, 0], [0, 0, 1/3, 2/3]])\n",
    "    model.sample()\n",
    "    \n",
    "> NotFittedError: This MultinomialHMM instance is not fitted yet. Call 'fit' with appropriate arguments before using this method. \n",
    "\n",
    "Same with any combination of `init_params` or `params`\n",
    "\n",
    "# [pomegranate](https://pomegranate.readthedocs.io/en/latest/index.html)"
   ]
  },
  {
   "cell_type": "markdown",
   "metadata": {
    "deletable": true,
    "editable": true
   },
   "source": [
    "# Functions and imports"
   ]
  },
  {
   "cell_type": "code",
   "execution_count": 1,
   "metadata": {
    "collapsed": true,
    "deletable": true,
    "editable": true
   },
   "outputs": [],
   "source": [
    "%matplotlib inline\n",
    "from pomegranate import *\n",
    "import numpy as np\n",
    "import matplotlib\n",
    "import matplotlib.pyplot as plt\n",
    "import matplotlib.lines as lines\n",
    "import seaborn as sns\n",
    "from copy import deepcopy\n",
    "\n",
    "matplotlib.rc('font',**{'family':'sans-serif','sans-serif':['Helvetica']})\n",
    "## for Palatino and other serif fonts use:\n",
    "#rc('font',**{'family':'serif','serif':['Palatino']})\n",
    "matplotlib.rc('text', usetex=True)\n",
    "matplotlib.rcParams['text.latex.preamble'] = [r'\\usepackage{amsmath}']\n",
    "\n",
    "def compute_state_seq(pomegranate_sample, observations):\n",
    "    seq = [(st.name, obs) for obs, st in zip(pomegranate_sample[0], pomegranate_sample[1][1:])]\n",
    "    state_seq=[]\n",
    "    \n",
    "    # All devices begin closed (TODO: probabilistic initial state)\n",
    "    current_state = {k: False for k in observations if k is not 'none'}\n",
    "\n",
    "    for s, o in seq:\n",
    "        if o is not 'none':\n",
    "            current_state[o] = not current_state[o]\n",
    "\n",
    "        state_seq.append(\n",
    "            (s, [k for k,v in current_state.items() if v])\n",
    "        )\n",
    "    \n",
    "    return state_seq\n",
    "\n",
    "def from_pomegranate_sample(sample, toggle=True):\n",
    "    sample = {\n",
    "        # An list of (State, Observation) tuples\n",
    "        'state_seq': [(st.name, obs) for obs, st in zip(sample[0], sample[1][1:])],\n",
    "        # The states alphabet\n",
    "        'states': list(np.unique([s.name for s in sample[1][1:]])),\n",
    "        # The observations alphabet\n",
    "        'observations': list(np.unique(sample[0]))\n",
    "    }\n",
    "    \n",
    "    # If the model represents devices toggles and not usages\n",
    "    if toggle:\n",
    "        state_seq=[]\n",
    "        # All devices begin closed (TODO: probabilistic initial state)\n",
    "        current_state = {k: False for k in sample['observations'] if k is not 'none'}\n",
    "\n",
    "        for s, o in sample['state_seq']:\n",
    "            if o is not 'none':\n",
    "                current_state[o] = not current_state[o]\n",
    "\n",
    "            state_seq.append(\n",
    "                (s, [k for k,v in current_state.items() if v])\n",
    "            )\n",
    "        \n",
    "        # In toggle mode, the state_seq is a list of (State, list of opened devices)\n",
    "        # In other words, several devices can be opened simultaneously\n",
    "        sample['state_seq'] = state_seq\n",
    "    \n",
    "    return sample\n",
    "\n",
    "def usage_proba_to_toggle_proba(usage_proba):\n",
    "    toggle_proba={}\n",
    "    for k, v in usage_proba.items():\n",
    "        if k == 'none':\n",
    "            continue\n",
    "        \n",
    "        # P[X(t) = !X(t-1)] = 2 * P[X] * (1 - P[X])\n",
    "        toggle_proba[k] = 2 * v * (1 - v)\n",
    "    \n",
    "    toggle_proba['none'] = 1 - sum(toggle_proba.values())\n",
    "    return toggle_proba\n",
    "\n",
    "def get_observation_probability(model, state_id, obs):\n",
    "    return model.states[state_id].distribution.parameters[0][obs]\n",
    "\n",
    "def predict_next_states(model, sample):\n",
    "    devices=deepcopy(sample['observations'])\n",
    "    if 'none' in devices:\n",
    "        devices.remove('none')\n",
    "    states_id={k:v for v, k in enumerate(sample['states'])}\n",
    "\n",
    "    # states_transition_matrix\n",
    "    A=model.dense_transition_matrix()\n",
    "\n",
    "    predictions=[]\n",
    "    for loc, conn in sample['state_seq']:\n",
    "        prediction={}\n",
    "        for d in devices:\n",
    "            \n",
    "            p_toggle=0\n",
    "            # P[toggle|current_state] = sum_s(P[s|current_state] * P[toggle|s])\n",
    "            for s in sample['states']:\n",
    "                p_next_state_knowing_state=A[states_id[loc], states_id[s]]\n",
    "                p_obs=get_observation_probability(model, states_id[s], d)\n",
    "                p_toggle+=p_next_state_knowing_state*p_obs\n",
    "\n",
    "            if d in conn:\n",
    "                # P[d_will_be_connected] = 1-P[toggle|current_state] if d is connected\n",
    "                prediction[d]=1 - p_toggle\n",
    "            else:\n",
    "                # P[d_will_be_connected] = P[toggle|current_state] if d is not connected\n",
    "                prediction[d]=p_toggle\n",
    "\n",
    "        predictions.append(prediction)\n",
    "    return predictions\n",
    "\n",
    "def plot_device_usage_timeline(sample, toggle=True, prediction=False, figsize=(6,1.5), title=\"\", fn=\"\"):\n",
    "    c_used = matplotlib.colors.hex2color(\"#444444\")\n",
    "    height = 0.4\n",
    "    \n",
    "    fig, ax = plt.subplots(figsize=figsize)\n",
    "    sns.set_style(\"whitegrid\", {'font.family': 'serif'})\n",
    "    \n",
    "    devices = sorted(sample[\"observations\"])\n",
    "    if 'none' in devices:\n",
    "        devices.remove('none')\n",
    "    devices_id={d: i for i, d in enumerate(devices)}\n",
    "    print(devices_id)\n",
    "\n",
    "    states = [None]*len(sample['state_seq'])\n",
    "    for x, (state, d) in enumerate(sample['state_seq']):\n",
    "        states[x] = state\n",
    "        if toggle:\n",
    "            for device in d:\n",
    "                y = devices_id[device]\n",
    "                if prediction:\n",
    "                    ax.barh(left=x, bottom=devices_id[device]-height/2,\n",
    "                        height=height, width=1, color=c_used)\n",
    "                else:\n",
    "                    ax.barh(left=x, bottom=devices_id[device],\n",
    "                        height=height, width=1, color=c_used)\n",
    "        else:\n",
    "            if d == 'none':\n",
    "                continue\n",
    "\n",
    "            ax.barh(left=x, bottom=devices_id[d], \n",
    "                    height=height, width=1, color=c_used)\n",
    "    \n",
    "    sns.despine()\n",
    "    \n",
    "    if prediction:\n",
    "        for x, pred in enumerate(sample['predictions']):\n",
    "            for device in devices:\n",
    "                #print(\"x: {}, y: {} -> p: {:.2f}\".format(x+1, devices_id[device], pred[device]))\n",
    "                ax.text(x=x+1.1, y=devices_id[device]+0.1,\n",
    "                        s=\"{:.2f}\".format(pred[device]))\n",
    "\n",
    "        ax.set_xlim([0, len(sample['state_seq'])+1])\n",
    "        ax.set_xticks(range(len(states)+1))\n",
    "    else:\n",
    "        ax.set_xlim([0, len(sample['state_seq'])])\n",
    "        ax.set_xticks(range(len(states)))\n",
    "    ax.set_xticklabels(states)\n",
    "    #plt.xticks(rotation=-60, ha='left')\n",
    "    \n",
    "    #ax.set_ylabel(\"Device\")\n",
    "    ax.set_ylim([-0.5, len(devices)-0.5])\n",
    "    ax.set_yticks(range(len(devices)))\n",
    "    # \"c_d\" as y label: devices' connections\n",
    "    ax.set_yticklabels(['$c^{(\\mathrm{'+d+'})}$' for d in devices], fontsize=16)\n",
    "    \n",
    "    plt.tight_layout()\n",
    "    if title != \"\":\n",
    "        ax.set_title(title)\n",
    "    if fn != \"\":\n",
    "        plt.savefig(fn)\n",
    "    plt.show()\n",
    "    \n",
    "def plot_device_usage_timeline_and_prediction(sample, toggle=True, figsize=(6,1.5), title=\"\", fn=\"\"):\n",
    "    c_used = matplotlib.colors.hex2color(\"#444444\")\n",
    "    height = 0.4\n",
    "    \n",
    "    fig, ax = plt.subplots(figsize=figsize)\n",
    "    sns.set_style(\"whitegrid\", {'font.family': 'serif'})\n",
    "    \n",
    "    devices = sorted(sample[\"observations\"])\n",
    "    if 'none' in devices:\n",
    "        devices.remove('none')\n",
    "    devices_id={d: i for i, d in enumerate(devices)}\n",
    "    print(devices_id)\n",
    "\n",
    "    states = [None]*len(sample['state_seq'])\n",
    "    for x, (state, d) in enumerate(sample['state_seq']):\n",
    "        states[x] = state\n",
    "        if toggle:\n",
    "            for device in d:\n",
    "                y = devices_id[device]\n",
    "                ax.barh(left=x, bottom=devices_id[device]-height/2,\n",
    "                        height=height, width=1, color=c_used)\n",
    "        else:\n",
    "            if d == 'none':\n",
    "                continue\n",
    "\n",
    "            ax.barh(left=x, bottom=devices_id[d], \n",
    "                    height=height, width=1, color=c_used)\n",
    "    \n",
    "    for x, pred in enumerate(sample['predictions']):\n",
    "        for device in devices:\n",
    "            #print(\"x: {}, y: {} -> p: {:.2f}\".format(x+1, devices_id[device], pred[device]))\n",
    "            ax.text(x=x+1.1, y=devices_id[device]+0.1,\n",
    "                    s=\"{:.2f}\".format(pred[device]))\n",
    "    sns.despine()\n",
    "    \n",
    "    ax.set_xlim([0, len(sample['state_seq'])+1])\n",
    "    ax.set_xticks(range(len(states)+1))\n",
    "    ax.set_xticklabels(states)\n",
    "    #plt.xticks(rotation=-60, ha='left')\n",
    "    \n",
    "    #ax.set_ylabel(\"Device\")\n",
    "    ax.set_ylim([-0.5, len(devices)])\n",
    "    ax.set_yticks(range(len(devices)))\n",
    "    # \"c_d\" as y label: devices' connections\n",
    "    ax.set_yticklabels(['$c^{(\\mathrm{'+d+'})}$' for d in devices], fontsize=16)\n",
    "    \n",
    "    plt.tight_layout()\n",
    "    if title != \"\":\n",
    "        ax.set_title(title)\n",
    "    if fn != \"\":\n",
    "        plt.savefig(fn)\n",
    "    plt.show()"
   ]
  },
  {
   "cell_type": "markdown",
   "metadata": {
    "deletable": true,
    "editable": true
   },
   "source": [
    "## Toggling model"
   ]
  },
  {
   "cell_type": "code",
   "execution_count": 2,
   "metadata": {
    "collapsed": false,
    "deletable": true,
    "editable": true
   },
   "outputs": [
    {
     "name": "stdout",
     "output_type": "stream",
     "text": [
      "At home:\n",
      "{'p': 0.3333333333333333, 'w': 0, 'none': 0.3333333333333333, 'h': 0.3333333333333333}\n",
      "{'p': 0.4444444444444445, 'w': 0, 'none': 0.11111111111111105, 'h': 0.4444444444444445}\n",
      "In transit:\n",
      "{'p': 0.3333333333333333, 'w': 0, 'none': 0.6666666666666666, 'h': 0}\n",
      "{'p': 0.4444444444444445, 'w': 0, 'none': 0.5555555555555556, 'h': 0}\n",
      "At work:\n",
      "{'p': 0.3333333333333333, 'w': 0.3333333333333333, 'none': 0.3333333333333333, 'h': 0}\n",
      "{'p': 0.4444444444444445, 'w': 0.4444444444444445, 'none': 0.11111111111111105, 'h': 0}\n"
     ]
    }
   ],
   "source": [
    "at_home_proba={'none': 1/3, 'p': 1/3, 'h': 1/3, 'w': 0}\n",
    "in_transit_proba={'none': 2/3, 'p': 1/3, 'h': 0, 'w': 0}\n",
    "at_work_proba={'none': 1/3, 'p': 1/3, 'h': 0, 'w': 1/3}\n",
    "observations=['none', 'h', 'p', 'w']\n",
    "\n",
    "at_home_toggle_proba=usage_proba_to_toggle_proba(at_home_proba)\n",
    "in_transit_toggle_proba=usage_proba_to_toggle_proba(in_transit_proba)\n",
    "at_work_toggle_proba=usage_proba_to_toggle_proba(at_work_proba)\n",
    "\n",
    "print(\"At home:\")\n",
    "print(at_home_proba)\n",
    "print(at_home_toggle_proba)\n",
    "print(\"In transit:\")\n",
    "print(in_transit_proba)\n",
    "print(in_transit_toggle_proba)\n",
    "print(\"At work:\")\n",
    "print(at_work_proba)\n",
    "print(at_work_toggle_proba)"
   ]
  },
  {
   "cell_type": "code",
   "execution_count": 3,
   "metadata": {
    "collapsed": false,
    "deletable": true,
    "editable": true
   },
   "outputs": [
    {
     "data": {
      "text/plain": [
       "{\n",
       "    \"name\" : \"Toggling user\",\n",
       "    \"start\" : {\n",
       "        \"name\" : \"Toggling user-start\",\n",
       "        \"weight\" : 1.0,\n",
       "        \"distribution\" : null,\n",
       "        \"class\" : \"State\"\n",
       "    },\n",
       "    \"edges\" : [\n",
       "        [\n",
       "            3,\n",
       "            2,\n",
       "            0.20000000000000004,\n",
       "            0.2,\n",
       "            null\n",
       "        ],\n",
       "        [\n",
       "            3,\n",
       "            0,\n",
       "            0.8,\n",
       "            0.8,\n",
       "            null\n",
       "        ],\n",
       "        [\n",
       "            1,\n",
       "            2,\n",
       "            0.3333333333333333,\n",
       "            0.3333333333333333,\n",
       "            null\n",
       "        ],\n",
       "        [\n",
       "            1,\n",
       "            0,\n",
       "            0.3333333333333333,\n",
       "            0.3333333333333333,\n",
       "            null\n",
       "        ],\n",
       "        [\n",
       "            1,\n",
       "            1,\n",
       "            0.3333333333333333,\n",
       "            0.3333333333333333,\n",
       "            null\n",
       "        ],\n",
       "        [\n",
       "            2,\n",
       "            2,\n",
       "            0.6666666666666666,\n",
       "            0.6666666666666666,\n",
       "            null\n",
       "        ],\n",
       "        [\n",
       "            2,\n",
       "            1,\n",
       "            0.3333333333333333,\n",
       "            0.3333333333333333,\n",
       "            null\n",
       "        ],\n",
       "        [\n",
       "            0,\n",
       "            1,\n",
       "            0.3333333333333333,\n",
       "            0.3333333333333333,\n",
       "            null\n",
       "        ],\n",
       "        [\n",
       "            0,\n",
       "            0,\n",
       "            0.6666666666666666,\n",
       "            0.6666666666666666,\n",
       "            null\n",
       "        ]\n",
       "    ],\n",
       "    \"distribution ties\" : [],\n",
       "    \"end_index\" : 4,\n",
       "    \"start_index\" : 3,\n",
       "    \"silent_index\" : 3,\n",
       "    \"end\" : {\n",
       "        \"name\" : \"Toggling user-end\",\n",
       "        \"weight\" : 1.0,\n",
       "        \"distribution\" : null,\n",
       "        \"class\" : \"State\"\n",
       "    },\n",
       "    \"class\" : \"HiddenMarkovModel\",\n",
       "    \"states\" : [\n",
       "        {\n",
       "            \"name\" : \"H\",\n",
       "            \"weight\" : 1.0,\n",
       "            \"distribution\" : {\n",
       "                \"name\" : \"DiscreteDistribution\",\n",
       "                \"parameters\" : [\n",
       "                    {\n",
       "                        \"p\" : 0.4444444444444445,\n",
       "                        \"w\" : 0,\n",
       "                        \"none\" : 0.11111111111111105,\n",
       "                        \"h\" : 0.4444444444444445\n",
       "                    }\n",
       "                ],\n",
       "                \"frozen\" : false,\n",
       "                \"class\" : \"Distribution\"\n",
       "            },\n",
       "            \"class\" : \"State\"\n",
       "        },\n",
       "        {\n",
       "            \"name\" : \"O\",\n",
       "            \"weight\" : 1.0,\n",
       "            \"distribution\" : {\n",
       "                \"name\" : \"DiscreteDistribution\",\n",
       "                \"parameters\" : [\n",
       "                    {\n",
       "                        \"p\" : 0.4444444444444445,\n",
       "                        \"w\" : 0,\n",
       "                        \"none\" : 0.5555555555555556,\n",
       "                        \"h\" : 0\n",
       "                    }\n",
       "                ],\n",
       "                \"frozen\" : false,\n",
       "                \"class\" : \"Distribution\"\n",
       "            },\n",
       "            \"class\" : \"State\"\n",
       "        },\n",
       "        {\n",
       "            \"name\" : \"W\",\n",
       "            \"weight\" : 1.0,\n",
       "            \"distribution\" : {\n",
       "                \"name\" : \"DiscreteDistribution\",\n",
       "                \"parameters\" : [\n",
       "                    {\n",
       "                        \"p\" : 0.4444444444444445,\n",
       "                        \"w\" : 0.4444444444444445,\n",
       "                        \"none\" : 0.11111111111111105,\n",
       "                        \"h\" : 0\n",
       "                    }\n",
       "                ],\n",
       "                \"frozen\" : false,\n",
       "                \"class\" : \"Distribution\"\n",
       "            },\n",
       "            \"class\" : \"State\"\n",
       "        },\n",
       "        {\n",
       "            \"name\" : \"Toggling user-start\",\n",
       "            \"weight\" : 1.0,\n",
       "            \"distribution\" : null,\n",
       "            \"class\" : \"State\"\n",
       "        },\n",
       "        {\n",
       "            \"name\" : \"Toggling user-end\",\n",
       "            \"weight\" : 1.0,\n",
       "            \"distribution\" : null,\n",
       "            \"class\" : \"State\"\n",
       "        }\n",
       "    ]\n",
       "}"
      ]
     },
     "execution_count": 3,
     "metadata": {},
     "output_type": "execute_result"
    }
   ],
   "source": [
    "at_home_dist=DiscreteDistribution(at_home_toggle_proba)\n",
    "in_transit_dist=DiscreteDistribution(in_transit_toggle_proba)\n",
    "at_work_dist=DiscreteDistribution(at_work_toggle_proba)\n",
    "\n",
    "at_home_state=State(at_home_dist, name=\"H\")\n",
    "in_transit_state=State(in_transit_dist, name=\"O\")\n",
    "at_work_state=State(at_work_dist, name=\"W\")\n",
    "states=['H', 'O', 'W']\n",
    "\n",
    "model2=HiddenMarkovModel(name=\"Toggling user\")\n",
    "model2.add_states([at_home_state, in_transit_state, at_work_state])\n",
    "model2.add_transition(model2.start, at_home_state, 0.8)\n",
    "model2.add_transition(model2.start, at_work_state, 0.2)\n",
    "model2.add_transition(at_home_state, at_home_state, 2/3)\n",
    "model2.add_transition(at_home_state, in_transit_state, 1/3)\n",
    "model2.add_transition(in_transit_state, in_transit_state, 1/3)\n",
    "model2.add_transition(in_transit_state, at_home_state, 1/3)\n",
    "model2.add_transition(in_transit_state, at_work_state, 1/3)\n",
    "model2.add_transition(at_work_state, at_work_state, 2/3)\n",
    "model2.add_transition(at_work_state, in_transit_state, 1/3)\n",
    "model2.bake()\n",
    "model=model2\n",
    "\n",
    "model2"
   ]
  },
  {
   "cell_type": "code",
   "execution_count": 4,
   "metadata": {
    "collapsed": false,
    "deletable": true,
    "editable": true
   },
   "outputs": [
    {
     "name": "stdout",
     "output_type": "stream",
     "text": [
      "{'p': 1, 'w': 2, 'h': 0}\n"
     ]
    },
    {
     "data": {
      "image/png": "[encoded data removed]",
      "text/plain": [
       "<matplotlib.figure.Figure at 0x7f60e85314e0>"
      ]
     },
     "metadata": {},
     "output_type": "display_data"
    },
    {
     "name": "stdout",
     "output_type": "stream",
     "text": [
      "{'p': 1, 'w': 2, 'h': 0}\n"
     ]
    },
    {
     "data": {
      "image/png": "[encoded data removed]",
      "text/plain": [
       "<matplotlib.figure.Figure at 0x7f60aec7ca58>"
      ]
     },
     "metadata": {},
     "output_type": "display_data"
    },
    {
     "name": "stdout",
     "output_type": "stream",
     "text": [
      "{'p': 1, 'w': 2, 'h': 0}\n"
     ]
    },
    {
     "data": {
      "image/png": "[encoded data removed]",
      "text/plain": [
       "<matplotlib.figure.Figure at 0x7f60aed3ec18>"
      ]
     },
     "metadata": {},
     "output_type": "display_data"
    },
    {
     "name": "stdout",
     "output_type": "stream",
     "text": [
      "{'p': 1, 'w': 2, 'h': 0}\n"
     ]
    },
    {
     "ename": "KeyboardInterrupt",
     "evalue": "",
     "output_type": "error",
     "traceback": [
      "\u001b[0;31m---------------------------------------------------------------------------\u001b[0m",
      "\u001b[0;31mKeyboardInterrupt\u001b[0m                         Traceback (most recent call last)",
      "\u001b[0;32m<ipython-input-4-acf4f6d157de>\u001b[0m in \u001b[0;36m<module>\u001b[0;34m()\u001b[0m\n\u001b[1;32m      6\u001b[0m     \u001b[0msample\u001b[0m\u001b[0;34m[\u001b[0m\u001b[0;34m'state_seq'\u001b[0m\u001b[0;34m]\u001b[0m\u001b[0;34m=\u001b[0m\u001b[0mcompute_state_seq\u001b[0m\u001b[0;34m(\u001b[0m\u001b[0mmodel2\u001b[0m\u001b[0;34m.\u001b[0m\u001b[0msample\u001b[0m\u001b[0;34m(\u001b[0m\u001b[0mlength\u001b[0m\u001b[0;34m=\u001b[0m\u001b[0;36m20\u001b[0m\u001b[0;34m,\u001b[0m \u001b[0mpath\u001b[0m\u001b[0;34m=\u001b[0m\u001b[0;32mTrue\u001b[0m\u001b[0;34m)\u001b[0m\u001b[0;34m,\u001b[0m \u001b[0mobservations\u001b[0m\u001b[0;34m)\u001b[0m\u001b[0;34m\u001b[0m\u001b[0m\n\u001b[1;32m      7\u001b[0m     \u001b[0msample\u001b[0m\u001b[0;34m[\u001b[0m\u001b[0;34m'predictions'\u001b[0m\u001b[0;34m]\u001b[0m\u001b[0;34m=\u001b[0m\u001b[0mpredict_next_states\u001b[0m\u001b[0;34m(\u001b[0m\u001b[0mmodel2\u001b[0m\u001b[0;34m,\u001b[0m \u001b[0msample\u001b[0m\u001b[0;34m)\u001b[0m\u001b[0;34m\u001b[0m\u001b[0m\n\u001b[0;32m----> 8\u001b[0;31m     \u001b[0mplot_device_usage_timeline\u001b[0m\u001b[0;34m(\u001b[0m\u001b[0msample\u001b[0m\u001b[0;34m,\u001b[0m \u001b[0mprediction\u001b[0m\u001b[0;34m=\u001b[0m\u001b[0;32mTrue\u001b[0m\u001b[0;34m,\u001b[0m \u001b[0mfigsize\u001b[0m\u001b[0;34m=\u001b[0m\u001b[0;34m(\u001b[0m\u001b[0;36m7\u001b[0m\u001b[0;34m,\u001b[0m \u001b[0;36m1.4\u001b[0m\u001b[0;34m)\u001b[0m\u001b[0;34m,\u001b[0m \u001b[0mfn\u001b[0m\u001b[0;34m=\u001b[0m\u001b[0;34m\"timelines/{:02}.svg\"\u001b[0m\u001b[0;34m.\u001b[0m\u001b[0mformat\u001b[0m\u001b[0;34m(\u001b[0m\u001b[0mi\u001b[0m\u001b[0;34m+\u001b[0m\u001b[0;36m1\u001b[0m\u001b[0;34m)\u001b[0m\u001b[0;34m)\u001b[0m\u001b[0;34m\u001b[0m\u001b[0m\n\u001b[0m\u001b[1;32m      9\u001b[0m     \u001b[0;31m#sample\u001b[0m\u001b[0;34m\u001b[0m\u001b[0;34m\u001b[0m\u001b[0m\n",
      "\u001b[0;32m<ipython-input-1-26da1530dcd3>\u001b[0m in \u001b[0;36mplot_device_usage_timeline\u001b[0;34m(sample, toggle, prediction, figsize, title, fn)\u001b[0m\n\u001b[1;32m    128\u001b[0m                 \u001b[0;32mif\u001b[0m \u001b[0mprediction\u001b[0m\u001b[0;34m:\u001b[0m\u001b[0;34m\u001b[0m\u001b[0m\n\u001b[1;32m    129\u001b[0m                     ax.barh(left=x, bottom=devices_id[device]-height/2,\n\u001b[0;32m--> 130\u001b[0;31m                         height=height, width=1, color=c_used)\n\u001b[0m\u001b[1;32m    131\u001b[0m                 \u001b[0;32melse\u001b[0m\u001b[0;34m:\u001b[0m\u001b[0;34m\u001b[0m\u001b[0m\n\u001b[1;32m    132\u001b[0m                     ax.barh(left=x, bottom=devices_id[device],\n",
      "\u001b[0;32m/usr/local/lib/python3.5/dist-packages/matplotlib/axes/_axes.py\u001b[0m in \u001b[0;36mbarh\u001b[0;34m(self, bottom, width, height, left, **kwargs)\u001b[0m\n\u001b[1;32m   2283\u001b[0m \u001b[0;34m\u001b[0m\u001b[0m\n\u001b[1;32m   2284\u001b[0m         patches = self.bar(left=left, height=height, width=width,\n\u001b[0;32m-> 2285\u001b[0;31m                            bottom=bottom, orientation='horizontal', **kwargs)\n\u001b[0m\u001b[1;32m   2286\u001b[0m         \u001b[0;32mreturn\u001b[0m \u001b[0mpatches\u001b[0m\u001b[0;34m\u001b[0m\u001b[0m\n\u001b[1;32m   2287\u001b[0m \u001b[0;34m\u001b[0m\u001b[0m\n",
      "\u001b[0;32m/usr/local/lib/python3.5/dist-packages/matplotlib/__init__.py\u001b[0m in \u001b[0;36minner\u001b[0;34m(ax, *args, **kwargs)\u001b[0m\n\u001b[1;32m   1896\u001b[0m                     warnings.warn(msg % (label_namer, func.__name__),\n\u001b[1;32m   1897\u001b[0m                                   RuntimeWarning, stacklevel=2)\n\u001b[0;32m-> 1898\u001b[0;31m             \u001b[0;32mreturn\u001b[0m \u001b[0mfunc\u001b[0m\u001b[0;34m(\u001b[0m\u001b[0max\u001b[0m\u001b[0;34m,\u001b[0m \u001b[0;34m*\u001b[0m\u001b[0margs\u001b[0m\u001b[0;34m,\u001b[0m \u001b[0;34m**\u001b[0m\u001b[0mkwargs\u001b[0m\u001b[0;34m)\u001b[0m\u001b[0;34m\u001b[0m\u001b[0m\n\u001b[0m\u001b[1;32m   1899\u001b[0m         \u001b[0mpre_doc\u001b[0m \u001b[0;34m=\u001b[0m \u001b[0minner\u001b[0m\u001b[0;34m.\u001b[0m\u001b[0m__doc__\u001b[0m\u001b[0;34m\u001b[0m\u001b[0m\n\u001b[1;32m   1900\u001b[0m         \u001b[0;32mif\u001b[0m \u001b[0mpre_doc\u001b[0m \u001b[0;32mis\u001b[0m \u001b[0;32mNone\u001b[0m\u001b[0;34m:\u001b[0m\u001b[0;34m\u001b[0m\u001b[0m\n",
      "\u001b[0;32m/usr/local/lib/python3.5/dist-packages/matplotlib/axes/_axes.py\u001b[0m in \u001b[0;36mbar\u001b[0;34m(self, left, height, width, bottom, **kwargs)\u001b[0m\n\u001b[1;32m   2126\u001b[0m             \u001b[0;32melif\u001b[0m \u001b[0morientation\u001b[0m \u001b[0;34m==\u001b[0m \u001b[0;34m'horizontal'\u001b[0m\u001b[0;34m:\u001b[0m\u001b[0;34m\u001b[0m\u001b[0m\n\u001b[1;32m   2127\u001b[0m                 \u001b[0mr\u001b[0m\u001b[0;34m.\u001b[0m\u001b[0msticky_edges\u001b[0m\u001b[0;34m.\u001b[0m\u001b[0mx\u001b[0m\u001b[0;34m.\u001b[0m\u001b[0mappend\u001b[0m\u001b[0;34m(\u001b[0m\u001b[0ml\u001b[0m\u001b[0;34m)\u001b[0m\u001b[0;34m\u001b[0m\u001b[0m\n\u001b[0;32m-> 2128\u001b[0;31m             \u001b[0mself\u001b[0m\u001b[0;34m.\u001b[0m\u001b[0madd_patch\u001b[0m\u001b[0;34m(\u001b[0m\u001b[0mr\u001b[0m\u001b[0;34m)\u001b[0m\u001b[0;34m\u001b[0m\u001b[0m\n\u001b[0m\u001b[1;32m   2129\u001b[0m             \u001b[0mpatches\u001b[0m\u001b[0;34m.\u001b[0m\u001b[0mappend\u001b[0m\u001b[0;34m(\u001b[0m\u001b[0mr\u001b[0m\u001b[0;34m)\u001b[0m\u001b[0;34m\u001b[0m\u001b[0m\n\u001b[1;32m   2130\u001b[0m \u001b[0;34m\u001b[0m\u001b[0m\n",
      "\u001b[0;32m/usr/local/lib/python3.5/dist-packages/matplotlib/axes/_base.py\u001b[0m in \u001b[0;36madd_patch\u001b[0;34m(self, p)\u001b[0m\n\u001b[1;32m   1866\u001b[0m         \u001b[0;32mif\u001b[0m \u001b[0mp\u001b[0m\u001b[0;34m.\u001b[0m\u001b[0mget_clip_path\u001b[0m\u001b[0;34m(\u001b[0m\u001b[0;34m)\u001b[0m \u001b[0;32mis\u001b[0m \u001b[0;32mNone\u001b[0m\u001b[0;34m:\u001b[0m\u001b[0;34m\u001b[0m\u001b[0m\n\u001b[1;32m   1867\u001b[0m             \u001b[0mp\u001b[0m\u001b[0;34m.\u001b[0m\u001b[0mset_clip_path\u001b[0m\u001b[0;34m(\u001b[0m\u001b[0mself\u001b[0m\u001b[0;34m.\u001b[0m\u001b[0mpatch\u001b[0m\u001b[0;34m)\u001b[0m\u001b[0;34m\u001b[0m\u001b[0m\n\u001b[0;32m-> 1868\u001b[0;31m         \u001b[0mself\u001b[0m\u001b[0;34m.\u001b[0m\u001b[0m_update_patch_limits\u001b[0m\u001b[0;34m(\u001b[0m\u001b[0mp\u001b[0m\u001b[0;34m)\u001b[0m\u001b[0;34m\u001b[0m\u001b[0m\n\u001b[0m\u001b[1;32m   1869\u001b[0m         \u001b[0mself\u001b[0m\u001b[0;34m.\u001b[0m\u001b[0mpatches\u001b[0m\u001b[0;34m.\u001b[0m\u001b[0mappend\u001b[0m\u001b[0;34m(\u001b[0m\u001b[0mp\u001b[0m\u001b[0;34m)\u001b[0m\u001b[0;34m\u001b[0m\u001b[0m\n\u001b[1;32m   1870\u001b[0m         \u001b[0mp\u001b[0m\u001b[0;34m.\u001b[0m\u001b[0m_remove_method\u001b[0m \u001b[0;34m=\u001b[0m \u001b[0;32mlambda\u001b[0m \u001b[0mh\u001b[0m\u001b[0;34m:\u001b[0m \u001b[0mself\u001b[0m\u001b[0;34m.\u001b[0m\u001b[0mpatches\u001b[0m\u001b[0;34m.\u001b[0m\u001b[0mremove\u001b[0m\u001b[0;34m(\u001b[0m\u001b[0mh\u001b[0m\u001b[0;34m)\u001b[0m\u001b[0;34m\u001b[0m\u001b[0m\n",
      "\u001b[0;32m/usr/local/lib/python3.5/dist-packages/matplotlib/axes/_base.py\u001b[0m in \u001b[0;36m_update_patch_limits\u001b[0;34m(self, patch)\u001b[0m\n\u001b[1;32m   1892\u001b[0m                 \u001b[0mxys\u001b[0m \u001b[0;34m=\u001b[0m \u001b[0mpatch_to_data\u001b[0m\u001b[0;34m.\u001b[0m\u001b[0mtransform\u001b[0m\u001b[0;34m(\u001b[0m\u001b[0mxys\u001b[0m\u001b[0;34m)\u001b[0m\u001b[0;34m\u001b[0m\u001b[0m\n\u001b[1;32m   1893\u001b[0m \u001b[0;34m\u001b[0m\u001b[0m\n\u001b[0;32m-> 1894\u001b[0;31m             \u001b[0mupdatex\u001b[0m\u001b[0;34m,\u001b[0m \u001b[0mupdatey\u001b[0m \u001b[0;34m=\u001b[0m \u001b[0mpatch\u001b[0m\u001b[0;34m.\u001b[0m\u001b[0mget_transform\u001b[0m\u001b[0;34m(\u001b[0m\u001b[0;34m)\u001b[0m\u001b[0;34m.\u001b[0m\u001b[0;31m\\\u001b[0m\u001b[0;34m\u001b[0m\u001b[0m\n\u001b[0m\u001b[1;32m   1895\u001b[0m                 \u001b[0mcontains_branch_seperately\u001b[0m\u001b[0;34m(\u001b[0m\u001b[0mself\u001b[0m\u001b[0;34m.\u001b[0m\u001b[0mtransData\u001b[0m\u001b[0;34m)\u001b[0m\u001b[0;34m\u001b[0m\u001b[0m\n\u001b[1;32m   1896\u001b[0m             self.update_datalim(xys, updatex=updatex,\n",
      "\u001b[0;32m/usr/local/lib/python3.5/dist-packages/matplotlib/patches.py\u001b[0m in \u001b[0;36mget_transform\u001b[0;34m(self)\u001b[0m\n\u001b[1;32m    219\u001b[0m         \u001b[0mto\u001b[0m \u001b[0mthe\u001b[0m \u001b[0;34m:\u001b[0m\u001b[0;32mclass\u001b[0m\u001b[0;34m:\u001b[0m\u001b[0;31m`\u001b[0m\u001b[0mPatch\u001b[0m\u001b[0;31m`\u001b[0m\u001b[0;34m.\u001b[0m\u001b[0;34m\u001b[0m\u001b[0m\n\u001b[1;32m    220\u001b[0m         \"\"\"\n\u001b[0;32m--> 221\u001b[0;31m         \u001b[0;32mreturn\u001b[0m \u001b[0mself\u001b[0m\u001b[0;34m.\u001b[0m\u001b[0mget_patch_transform\u001b[0m\u001b[0;34m(\u001b[0m\u001b[0;34m)\u001b[0m \u001b[0;34m+\u001b[0m \u001b[0martist\u001b[0m\u001b[0;34m.\u001b[0m\u001b[0mArtist\u001b[0m\u001b[0;34m.\u001b[0m\u001b[0mget_transform\u001b[0m\u001b[0;34m(\u001b[0m\u001b[0mself\u001b[0m\u001b[0;34m)\u001b[0m\u001b[0;34m\u001b[0m\u001b[0m\n\u001b[0m\u001b[1;32m    222\u001b[0m \u001b[0;34m\u001b[0m\u001b[0m\n\u001b[1;32m    223\u001b[0m     \u001b[0;32mdef\u001b[0m \u001b[0mget_data_transform\u001b[0m\u001b[0;34m(\u001b[0m\u001b[0mself\u001b[0m\u001b[0;34m)\u001b[0m\u001b[0;34m:\u001b[0m\u001b[0;34m\u001b[0m\u001b[0m\n",
      "\u001b[0;32m/usr/local/lib/python3.5/dist-packages/matplotlib/patches.py\u001b[0m in \u001b[0;36mget_patch_transform\u001b[0;34m(self)\u001b[0m\n\u001b[1;32m    719\u001b[0m \u001b[0;34m\u001b[0m\u001b[0m\n\u001b[1;32m    720\u001b[0m     \u001b[0;32mdef\u001b[0m \u001b[0mget_patch_transform\u001b[0m\u001b[0;34m(\u001b[0m\u001b[0mself\u001b[0m\u001b[0;34m)\u001b[0m\u001b[0;34m:\u001b[0m\u001b[0;34m\u001b[0m\u001b[0m\n\u001b[0;32m--> 721\u001b[0;31m         \u001b[0mself\u001b[0m\u001b[0;34m.\u001b[0m\u001b[0m_update_patch_transform\u001b[0m\u001b[0;34m(\u001b[0m\u001b[0;34m)\u001b[0m\u001b[0;34m\u001b[0m\u001b[0m\n\u001b[0m\u001b[1;32m    722\u001b[0m         \u001b[0;32mreturn\u001b[0m \u001b[0mself\u001b[0m\u001b[0;34m.\u001b[0m\u001b[0m_rect_transform\u001b[0m\u001b[0;34m\u001b[0m\u001b[0m\n\u001b[1;32m    723\u001b[0m \u001b[0;34m\u001b[0m\u001b[0m\n",
      "\u001b[0;32m/usr/local/lib/python3.5/dist-packages/matplotlib/patches.py\u001b[0m in \u001b[0;36m_update_patch_transform\u001b[0;34m(self)\u001b[0m\n\u001b[1;32m    714\u001b[0m         \u001b[0mbbox\u001b[0m \u001b[0;34m=\u001b[0m \u001b[0mtransforms\u001b[0m\u001b[0;34m.\u001b[0m\u001b[0mBbox\u001b[0m\u001b[0;34m.\u001b[0m\u001b[0mfrom_bounds\u001b[0m\u001b[0;34m(\u001b[0m\u001b[0mx\u001b[0m\u001b[0;34m,\u001b[0m \u001b[0my\u001b[0m\u001b[0;34m,\u001b[0m \u001b[0mwidth\u001b[0m\u001b[0;34m,\u001b[0m \u001b[0mheight\u001b[0m\u001b[0;34m)\u001b[0m\u001b[0;34m\u001b[0m\u001b[0m\n\u001b[1;32m    715\u001b[0m         \u001b[0mrot_trans\u001b[0m \u001b[0;34m=\u001b[0m \u001b[0mtransforms\u001b[0m\u001b[0;34m.\u001b[0m\u001b[0mAffine2D\u001b[0m\u001b[0;34m(\u001b[0m\u001b[0;34m)\u001b[0m\u001b[0;34m\u001b[0m\u001b[0m\n\u001b[0;32m--> 716\u001b[0;31m         \u001b[0mrot_trans\u001b[0m\u001b[0;34m.\u001b[0m\u001b[0mrotate_deg_around\u001b[0m\u001b[0;34m(\u001b[0m\u001b[0mx\u001b[0m\u001b[0;34m,\u001b[0m \u001b[0my\u001b[0m\u001b[0;34m,\u001b[0m \u001b[0mself\u001b[0m\u001b[0;34m.\u001b[0m\u001b[0m_angle\u001b[0m\u001b[0;34m)\u001b[0m\u001b[0;34m\u001b[0m\u001b[0m\n\u001b[0m\u001b[1;32m    717\u001b[0m         \u001b[0mself\u001b[0m\u001b[0;34m.\u001b[0m\u001b[0m_rect_transform\u001b[0m \u001b[0;34m=\u001b[0m \u001b[0mtransforms\u001b[0m\u001b[0;34m.\u001b[0m\u001b[0mBboxTransformTo\u001b[0m\u001b[0;34m(\u001b[0m\u001b[0mbbox\u001b[0m\u001b[0;34m)\u001b[0m\u001b[0;34m\u001b[0m\u001b[0m\n\u001b[1;32m    718\u001b[0m         \u001b[0mself\u001b[0m\u001b[0;34m.\u001b[0m\u001b[0m_rect_transform\u001b[0m \u001b[0;34m+=\u001b[0m \u001b[0mrot_trans\u001b[0m\u001b[0;34m\u001b[0m\u001b[0m\n",
      "\u001b[0;32m/usr/local/lib/python3.5/dist-packages/matplotlib/transforms.py\u001b[0m in \u001b[0;36mrotate_deg_around\u001b[0;34m(self, x, y, degrees)\u001b[0m\n\u001b[1;32m   1953\u001b[0m         \u001b[0;32mand\u001b[0m \u001b[0;34m:\u001b[0m\u001b[0mmeth\u001b[0m\u001b[0;34m:\u001b[0m\u001b[0;31m`\u001b[0m\u001b[0mscale\u001b[0m\u001b[0;31m`\u001b[0m\u001b[0;34m.\u001b[0m\u001b[0;34m\u001b[0m\u001b[0m\n\u001b[1;32m   1954\u001b[0m         \"\"\"\n\u001b[0;32m-> 1955\u001b[0;31m         \u001b[0;32mreturn\u001b[0m \u001b[0mself\u001b[0m\u001b[0;34m.\u001b[0m\u001b[0mtranslate\u001b[0m\u001b[0;34m(\u001b[0m\u001b[0;34m-\u001b[0m\u001b[0mx\u001b[0m\u001b[0;34m,\u001b[0m \u001b[0;34m-\u001b[0m\u001b[0my\u001b[0m\u001b[0;34m)\u001b[0m\u001b[0;34m.\u001b[0m\u001b[0mrotate_deg\u001b[0m\u001b[0;34m(\u001b[0m\u001b[0mdegrees\u001b[0m\u001b[0;34m)\u001b[0m\u001b[0;34m.\u001b[0m\u001b[0mtranslate\u001b[0m\u001b[0;34m(\u001b[0m\u001b[0mx\u001b[0m\u001b[0;34m,\u001b[0m \u001b[0my\u001b[0m\u001b[0;34m)\u001b[0m\u001b[0;34m\u001b[0m\u001b[0m\n\u001b[0m\u001b[1;32m   1956\u001b[0m \u001b[0;34m\u001b[0m\u001b[0m\n\u001b[1;32m   1957\u001b[0m     \u001b[0;32mdef\u001b[0m \u001b[0mtranslate\u001b[0m\u001b[0;34m(\u001b[0m\u001b[0mself\u001b[0m\u001b[0;34m,\u001b[0m \u001b[0mtx\u001b[0m\u001b[0;34m,\u001b[0m \u001b[0mty\u001b[0m\u001b[0;34m)\u001b[0m\u001b[0;34m:\u001b[0m\u001b[0;34m\u001b[0m\u001b[0m\n",
      "\u001b[0;32m/usr/local/lib/python3.5/dist-packages/matplotlib/transforms.py\u001b[0m in \u001b[0;36mrotate_deg\u001b[0;34m(self, degrees)\u001b[0m\n\u001b[1;32m   1925\u001b[0m         \u001b[0;32mreturn\u001b[0m \u001b[0mself\u001b[0m\u001b[0;34m\u001b[0m\u001b[0m\n\u001b[1;32m   1926\u001b[0m \u001b[0;34m\u001b[0m\u001b[0m\n\u001b[0;32m-> 1927\u001b[0;31m     \u001b[0;32mdef\u001b[0m \u001b[0mrotate_deg\u001b[0m\u001b[0;34m(\u001b[0m\u001b[0mself\u001b[0m\u001b[0;34m,\u001b[0m \u001b[0mdegrees\u001b[0m\u001b[0;34m)\u001b[0m\u001b[0;34m:\u001b[0m\u001b[0;34m\u001b[0m\u001b[0m\n\u001b[0m\u001b[1;32m   1928\u001b[0m         \"\"\"\n\u001b[1;32m   1929\u001b[0m         \u001b[0mAdd\u001b[0m \u001b[0ma\u001b[0m \u001b[0mrotation\u001b[0m \u001b[0;34m(\u001b[0m\u001b[0;32min\u001b[0m \u001b[0mdegrees\u001b[0m\u001b[0;34m)\u001b[0m \u001b[0mto\u001b[0m \u001b[0mthis\u001b[0m \u001b[0mtransform\u001b[0m \u001b[0;32min\u001b[0m \u001b[0mplace\u001b[0m\u001b[0;34m.\u001b[0m\u001b[0;34m\u001b[0m\u001b[0m\n",
      "\u001b[0;31mKeyboardInterrupt\u001b[0m: "
     ]
    },
    {
     "data": {
      "image/png": "[encoded data removed]",
      "text/plain": [
       "<matplotlib.figure.Figure at 0x7f60ae10d3c8>"
      ]
     },
     "metadata": {},
     "output_type": "display_data"
    }
   ],
   "source": [
    "sample={\n",
    "    'observations': observations,\n",
    "    'states': states,\n",
    "}\n",
    "for i in range(10):\n",
    "    sample['state_seq']=compute_state_seq(model2.sample(length=20, path=True), observations)\n",
    "    sample['predictions']=predict_next_states(model2, sample)\n",
    "    plot_device_usage_timeline(sample, prediction=True, figsize=(7, 1.4), fn=\"timelines/{:02}.svg\".format(i+1))\n",
    "    #sample"
   ]
  },
  {
   "cell_type": "markdown",
   "metadata": {
    "deletable": true,
    "editable": true
   },
   "source": [
    "# Infering model from observations"
   ]
  },
  {
   "cell_type": "code",
   "execution_count": 51,
   "metadata": {
    "collapsed": false,
    "deletable": true,
    "editable": true,
    "scrolled": true
   },
   "outputs": [
    {
     "name": "stdout",
     "output_type": "stream",
     "text": [
      "['h', 'p', 'p', 'p', 'h', 'none', 'none', 'p', 'h', 'h', 'none', 'none', 'p', 'h', 'h', 'h', 'none', 'p', 'p', 'h', 'none', 'p', 'w', 'w', 'none', 'none', 'p', 'none', 'w', 'none', 'none', 'none', 'none', 'p', 'p', 'p', 'h', 'p', 'h', 'h', 'h', 'p', 'p', 'h', 'h', 'h', 'h', 'h', 'p', 'none', 'h', 'none', 'p', 'p', 'p', 'w', 'w', 'none', 'p', 'h', 'p', 'h', 'p', 'p', 'p', 'none', 'p', 'p', 'w', 'p', 'p', 'none', 'p', 'none', 'p', 'none', 'w', 'p', 'w', 'p', 'p', 'w', 'p', 'p', 'p', 'p', 'p', 'none', 'p', 'none', 'w', 'p', 'h', 'p', 'p', 'p', 'h', 'p', 'p', 'p', 'p', 'none', 'h', 'h', 'p', 'h', 'h', 'none', 'p', 'h', 'h', 'p', 'p', 'none', 'p', 'w', 'none', 'w', 'p', 'w', 'none', 'w', 'p', 'p', 'p', 'none', 'none', 'p', 'none', 'h', 'h', 'none', 'none', 'p', 'w', 'p', 'p', 'none', 'p', 'p', 'p', 'p', 'p', 'p', 'p', 'none', 'none', 'none', 'p', 'none', 'none', 'p', 'h', 'p', 'p', 'p', 'w', 'w', 'p', 'h', 'none', 'p', 'none', 'none', 'h', 'p', 'p', 'p', 'p', 'w', 'none', 'p', 'h', 'none', 'p', 'none', 'p', 'p', 'h', 'h', 'p', 'w', 'none', 'none', 'p', 'p', 'p', 'w', 'p', 'w', 'none', 'none', 'h', 'h', 'h', 'p', 'h', 'none', 'p', 'h', 'h', 'p', 'p', 'none', 'p', 'h', 'none', 'p', 'p', 'p', 'w', 'none', 'none', 'w', 'p', 'p', 'w', 'p', 'p', 'w', 'w', 'w', 'p', 'w', 'w', 'none', 'none', 'none', 'none', 'p', 'none', 'none', 'p', 'none', 'none', 'none', 'p', 'none', 'none', 'p', 'p', 'w', 'none', 'p', 'h', 'none', 'p', 'none', 'p', 'p', 'p', 'none', 'p', 'p', 'w', 'p', 'p', 'w', 'p', 'p', 'p', 'p', 'p', 'h', 'p', 'p', 'p', 'h', 'p', 'none', 'p', 'p', 'p', 'p', 'w', 'p', 'p', 'p', 'p', 'p', 'p', 'p', 'h', 'p', 'h', 'none', 'h', 'p', 'h', 'none', 'none', 'p', 'none', 'p', 'none', 'p', 'none', 'h', 'none', 'none', 'w', 'p', 'w', 'p', 'p', 'none', 'p', 'p', 'none', 'none', 'p', 'w', 'w', 'p', 'p', 'none', 'p', 'p', 'p', 'p', 'p', 'p', 'h', 'none', 'p', 'p', 'p', 'h', 'none', 'w', 'none', 'p', 'w', 'none', 'none', 'w', 'p', 'p', 'p', 'p', 'h', 'p', 'p', 'p', 'p', 'p', 'none', 'p', 'p', 'p', 'p', 'w', 'none', 'w', 'w', 'w', 'none', 'none', 'none', 'p', 'p', 'p', 'p', 'none', 'p', 'none', 'p', 'h', 'none', 'p', 'p', 'w', 'p', 'none', 'w', 'p', 'p', 'p', 'h', 'none', 'none', 'p', 'w', 'none', 'p', 'w', 'p', 'w', 'w', 'p', 'h', 'none', 'p', 'w', 'p', 'p', 'p', 'p', 'w', 'w', 'w', 'w', 'w', 'w', 'none', 'w', 'w', 'p', 'p', 'none', 'p', 'p', 'p', 'none', 'w', 'none', 'h', 'none', 'none', 'h', 'h', 'none', 'p', 'p', 'none', 'none', 'none', 'none', 'w', 'none', 'p', 'p', 'none', 'p', 'h', 'none', 'p', 'w', 'p', 'p', 'p', 'p', 'none', 'none', 'p', 'p', 'none', 'p', 'p', 'h', 'none', 'none', 'p', 'p', 'none', 'p', 'w', 'p', 'w', 'w', 'p', 'none', 'w', 'p', 'p', 'none', 'none', 'p', 'p', 'p', 'p', 'w', 'p', 'none', 'none', 'p', 'none', 'p', 'p', 'p', 'h', 'p', 'p', 'p', 'h', 'none', 'none', 'none', 'none', 'h', 'p', 'p', 'h', 'p', 'p', 'h', 'p', 'p', 'none', 'none', 'none', 'none', 'w', 'none', 'p', 'p', 'w', 'none', 'p', 'p', 'none', 'none', 'h', 'none', 'none', 'p', 'h', 'p', 'h', 'h', 'p', 'none', 'none', 'h', 'h', 'none', 'none', 'p', 'h', 'none', 'h', 'p', 'h', 'h', 'none', 'none', 'p', 'p', 'p', 'none', 'h', 'none', 'p', 'p', 'w', 'p', 'p', 'p', 'w', 'none', 'none', 'none', 'none', 'w', 'p', 'p', 'p', 'w', 'p', 'p', 'h', 'h', 'h', 'none', 'p', 'w', 'p', 'none', 'none', 'p', 'w', 'w', 'p', 'none', 'none', 'p', 'w', 'w', 'p', 'p', 'p', 'h', 'h', 'p', 'p', 'p', 'p', 'p', 'p', 'w', 'p', 'p', 'p', 'none', 'none', 'p', 'w', 'p', 'p', 'p', 'w', 'w', 'w', 'p', 'w', 'none', 'w', 'w', 'none', 'p', 'none', 'p', 'p', 'p', 'none', 'p', 'none', 'none', 'none', 'p', 'p', 'p', 'none', 'p', 'p', 'p', 'h', 'p', 'none', 'none', 'w', 'none', 'p', 'h', 'p', 'w', 'p', 'w', 'p', 'none', 'p', 'p', 'h', 'h', 'p', 'none', 'p', 'w', 'p', 'p', 'p', 'h', 'h', 'h', 'p', 'h', 'p', 'h', 'h', 'h', 'p', 'p', 'p', 'p', 'h', 'none', 'p', 'p', 'p', 'none', 'none', 'none', 'p', 'w', 'p', 'none', 'p', 'none', 'p', 'none', 'none', 'none', 'none', 'p', 'none', 'h', 'h', 'h', 'p', 'none', 'none', 'h', 'p', 'h', 'none', 'p', 'p', 'h', 'p', 'h', 'none', 'none', 'h', 'none', 'p', 'none', 'none', 'p', 'p', 'p', 'h', 'h', 'p', 'p', 'none', 'p', 'none', 'none', 'none', 'w', 'p', 'p', 'none', 'p', 'p', 'w', 'w', 'p', 'p', 'h', 'none', 'h', 'h', 'p', 'p', 'p', 'w', 'none', 'p', 'p', 'p', 'p', 'h', 'h', 'p', 'none', 'none', 'h', 'h', 'p', 'h', 'h', 'p', 'p', 'p', 'none', 'p', 'w', 'none', 'h', 'none', 'p', 'p', 'none', 'none', 'none', 'p', 'p', 'w', 'p', 'p', 'p', 'none', 'w', 'p', 'none', 'p', 'none', 'w', 'p', 'none', 'w', 'none', 'none', 'p', 'h', 'none', 'h', 'h', 'p', 'p', 'none', 'none', 'w', 'p', 'w', 'w', 'p', 'none', 'w', 'p', 'none', 'p', 'p', 'none', 'h', 'none', 'p', 'h', 'p', 'none', 'none', 'h', 'p', 'h', 'h', 'h', 'h', 'none', 'none', 'h', 'h', 'p', 'p', 'h', 'p', 'p', 'h', 'none', 'none', 'h', 'h', 'h', 'none', 'p', 'h', 'none', 'none', 'none', 'none', 'h', 'p', 'none', 'h', 'p', 'none', 'w', 'p', 'p', 'none', 'p', 'p', 'none', 'none', 'w', 'p', 'w', 'w', 'p', 'p', 'p', 'p', 'w', 'none', 'p', 'p', 'h', 'h', 'p', 'p', 'p', 'p', 'p', 'none', 'none', 'none', 'w', 'p', 'none', 'h', 'none', 'h', 'none', 'h', 'h', 'h', 'h', 'h', 'p', 'none', 'h', 'p', 'h', 'none', 'p', 'p', 'none', 'w', 'p', 'none', 'p', 'p', 'p', 'none', 'p', 'p', 'p', 'none', 'w', 'p', 'none', 'w', 'none', 'w', 'p', 'p', 'none', 'none', 'p', 'p', 'p', 'p', 'none', 'p', 'none', 'p', 'p', 'none', 'w', 'p', 'p', 'p', 'p', 'p', 'p', 'none', 'w', 'none', 'p', 'p', 'none', 'none', 'none', 'p', 'p', 'w', 'p', 'w', 'none', 'none', 'p', 'p', 'h', 'p', 'p', 'w', 'p', 'w', 'none', 'w', 'p', 'w', 'none', 'w', 'w', 'none', 'p', 'p', 'p', 'none', 'h', 'h', 'none', 'h', 'p', 'none', 'h', 'h', 'none', 'none', 'p', 'h', 'none', 'none', 'p', 'p', 'p', 'none', 'p', 'p', 'p', 'p', 'h', 'p', 'p', 'p', 'h', 'h', 'p', 'p']\n"
     ]
    }
   ],
   "source": [
    "SIZE=100\n",
    "sample=model.sample(length=1000)\n",
    "print(sample)"
   ]
  },
  {
   "cell_type": "code",
   "execution_count": 52,
   "metadata": {
    "collapsed": false,
    "deletable": true,
    "editable": true
   },
   "outputs": [
    {
     "name": "stdout",
     "output_type": "stream",
     "text": [
      "H\n",
      "{'p': 0.25, 'w': 0.25, 'none': 0.25, 'h': 0.25}\n",
      "O\n",
      "{'p': 0.25, 'w': 0.25, 'none': 0.25, 'h': 0.25}\n",
      "W\n",
      "{'p': 0.25, 'w': 0.25, 'none': 0.25, 'h': 0.25}\n"
     ]
    }
   ],
   "source": [
    "# Creation of default model\n",
    "# Probabilities of emission are uniform\n",
    "observations=list(np.unique(sample))\n",
    "uniform_dist={k:1/len(observations) for k in observations}\n",
    "\n",
    "at_home_state=State(DiscreteDistribution(uniform_dist), name=\"H\")\n",
    "in_transit_state=State(DiscreteDistribution(uniform_dist), name=\"O\")\n",
    "at_work_state=State(DiscreteDistribution(uniform_dist), name=\"W\")\n",
    "states=['H', 'O', 'W']\n",
    "\n",
    "inferred_model=HiddenMarkovModel(name=\"Inferred toggling user\")\n",
    "inferred_model.add_states([at_home_state, in_transit_state, at_work_state])\n",
    "inferred_model.add_transition(inferred_model.start, at_home_state, 1/3)\n",
    "inferred_model.add_transition(inferred_model.start, at_work_state, 1/3)\n",
    "inferred_model.add_transition(inferred_model.start, at_work_state, 1/3)\n",
    "inferred_model.add_transition(at_home_state, at_home_state, 1/2)\n",
    "inferred_model.add_transition(at_home_state, in_transit_state, 1/2)\n",
    "inferred_model.add_transition(in_transit_state, in_transit_state, 1/3)\n",
    "inferred_model.add_transition(in_transit_state, at_home_state, 1/3)\n",
    "inferred_model.add_transition(in_transit_state, at_work_state, 1/3)\n",
    "inferred_model.add_transition(at_work_state, at_work_state, 1/2)\n",
    "inferred_model.add_transition(at_work_state, in_transit_state, 1/2)\n",
    "inferred_model.bake()\n",
    "\n",
    "for state_id in range(3):\n",
    "    print(states[state_id])\n",
    "    print(inferred_model.states[state_id].distribution.parameters[0])"
   ]
  },
  {
   "cell_type": "code",
   "execution_count": 61,
   "metadata": {
    "collapsed": false,
    "deletable": true,
    "editable": true
   },
   "outputs": [
    {
     "data": {
      "image/png": "[encoded data removed]",
      "text/plain": [
       "<matplotlib.figure.Figure at 0x7f60ae41b898>"
      ]
     },
     "metadata": {},
     "output_type": "display_data"
    }
   ],
   "source": [
    "fig, ax=plt.subplots(figsize=(10,10))\n",
    "model.plot(ax=ax)"
   ]
  },
  {
   "cell_type": "code",
   "execution_count": 62,
   "metadata": {
    "collapsed": false,
    "deletable": true,
    "editable": true
   },
   "outputs": [
    {
     "data": {
      "image/png": "[encoded data removed]",
      "text/plain": [
       "<matplotlib.figure.Figure at 0x7f60adf4ce80>"
      ]
     },
     "metadata": {},
     "output_type": "display_data"
    }
   ],
   "source": [
    "fig, ax=plt.subplots(figsize=(10,10))\n",
    "inferred_model.plot(ax=ax)"
   ]
  },
  {
   "cell_type": "code",
   "execution_count": 55,
   "metadata": {
    "collapsed": false,
    "deletable": true,
    "editable": true,
    "scrolled": true
   },
   "outputs": [
    {
     "data": {
      "text/plain": [
       "124.72956354801067"
      ]
     },
     "execution_count": 55,
     "metadata": {},
     "output_type": "execute_result"
    }
   ],
   "source": [
    "inferred_model.fit([sample])"
   ]
  },
  {
   "cell_type": "code",
   "execution_count": 56,
   "metadata": {
    "collapsed": false,
    "deletable": true,
    "editable": true
   },
   "outputs": [
    {
     "data": {
      "image/png": "[encoded data removed]",
      "text/plain": [
       "<matplotlib.figure.Figure at 0x7f60ae1a6908>"
      ]
     },
     "metadata": {},
     "output_type": "display_data"
    }
   ],
   "source": [
    "fig, ax=plt.subplots(figsize=(10,10))\n",
    "inferred_model.plot(ax=ax)"
   ]
  },
  {
   "cell_type": "code",
   "execution_count": 60,
   "metadata": {
    "collapsed": false,
    "deletable": true,
    "editable": true,
    "scrolled": true
   },
   "outputs": [
    {
     "name": "stdout",
     "output_type": "stream",
     "text": [
      "H\n",
      "{'p': 6.80326256632697e-33, 'w': 0.5154328423444966, 'none': 1.0396111583336217e-31, 'h': 0.4845671576555033}\n",
      "O\n",
      "{'p': 0.4896132114431586, 'w': 0.08668409289347105, 'none': 0.299025518398175, 'h': 0.12467717726519532}\n",
      "W\n",
      "{'p': 6.80326256632697e-33, 'w': 0.5154328423444966, 'none': 1.0396111583336217e-31, 'h': 0.4845671576555033}\n"
     ]
    }
   ],
   "source": [
    "for state_id in range(3):\n",
    "    print(states[state_id])\n",
    "    print(inferred_model.states[state_id].distribution.parameters[0])"
   ]
  },
  {
   "cell_type": "code",
   "execution_count": 58,
   "metadata": {
    "collapsed": false,
    "deletable": true,
    "editable": true
   },
   "outputs": [
    {
     "name": "stdout",
     "output_type": "stream",
     "text": [
      "h 0.156\n",
      "none 0.273\n",
      "p 0.447\n",
      "w 0.124\n"
     ]
    }
   ],
   "source": [
    "for obs in observations:\n",
    "    print(obs, sample.count(obs)/ len(sample))"
   ]
  },
  {
   "cell_type": "markdown",
   "metadata": {},
   "source": [
    "## Example of failed model fit\n",
    "\n",
    "Initial model was:\n",
    "\n",
    "![Initial model](images/initial_model.png)\n",
    "\n",
    "With following emission probabilities:\n",
    "\n",
    "    H {'p': 0.4444444444444445, 'w': 0, 'none': 0.11111111111111105, 'h': 0.4444444444444445}\n",
    "    O {'p': 0.4444444444444445, 'w': 0, 'none': 0.5555555555555556, 'h': 0}\n",
    "    W {'p': 0.4444444444444445, 'w': 0.4444444444444445, 'none': 0.11111111111111105, 'h': 0}\n",
    "    \n",
    "We made a 1000 elements sample with the following distribution of observations:\n",
    "\n",
    "    h 0.156\n",
    "    none 0.273\n",
    "    p 0.447\n",
    "    w 0.124\n",
    "\n",
    "And crafted an initial HMM with the following default probabilities:\n",
    "\n",
    "![Default model](images/default_model.png)\n",
    "\n",
    "    H {'p': 0.25, 'w': 0.25, 'none': 0.25, 'h': 0.25}\n",
    "    O {'p': 0.25, 'w': 0.25, 'none': 0.25, 'h': 0.25}\n",
    "    W {'p': 0.25, 'w': 0.25, 'none': 0.25, 'h': 0.25}\n",
    "\n",
    "After fitting, we obtained the following:\n",
    "\n",
    "![Trained model](images/trained_model.png)\n",
    "\n",
    "\n",
    "    H {'p': 6.80326256632697e-33, 'w': 0.5154328423444966, 'none': 1.0396111583336217e-31, 'h': 0.4845671576555033}\n",
    "    O {'p': 0.4896132114431586, 'w': 0.08668409289347105, 'none': 0.299025518398175, 'h': 0.12467717726519532}\n",
    "    W {'p': 6.80326256632697e-33, 'w': 0.5154328423444966, 'none': 1.0396111583336217e-31, 'h': 0.4845671576555033}\n",
    "\n",
    "`Outside` is more used than the other two states, with a big probability of emitting `p` (50%) and `none` (30%) then `h` and `w` (circa 10%). The other two states (`Work` and `Home`) are identical, and have a half-half probability of emitting `w` and `h`.\n",
    "\n",
    "In conclusion: the two models do not look alike at all. We should investigate wether "
   ]
  },
  {
   "cell_type": "markdown",
   "metadata": {
    "collapsed": true,
    "deletable": true,
    "editable": true
   },
   "source": [
    "# Predicting future states"
   ]
  },
  {
   "cell_type": "code",
   "execution_count": 51,
   "metadata": {
    "collapsed": false,
    "deletable": true,
    "editable": true
   },
   "outputs": [
    {
     "name": "stdout",
     "output_type": "stream",
     "text": [
      "{'h': 0, 'p': 1, 'w': 2}\n"
     ]
    },
    {
     "data": {
      "image/png": "[encoded data removed]",
      "text/plain": [
       "<matplotlib.figure.Figure at 0x7f3ebe7d02e8>"
      ]
     },
     "metadata": {},
     "output_type": "display_data"
    }
   ],
   "source": [
    "sample={\n",
    "    'observations': observations,\n",
    "    'states': states,\n",
    "}\n",
    "sample['state_seq']=compute_state_seq(model2.sample(length=20, path=True), observations)\n",
    "sample['predictions']=predict_next_states(model2, sample)\n",
    "plot_device_usage_timeline(sample, prediction=True, figsize=(7, 1.4))"
   ]
  },
  {
   "cell_type": "code",
   "execution_count": 28,
   "metadata": {
    "collapsed": true,
    "deletable": true,
    "editable": true
   },
   "outputs": [
    {
     "name": "stdout",
     "output_type": "stream",
     "text": [
      "<class 'tuple'>\n",
      "<class 'tuple'>\n",
      "<class 'tuple'>\n",
      "<class 'tuple'>\n",
      "<class 'tuple'>\n",
      "<class 'tuple'>\n",
      "<class 'tuple'>\n",
      "<class 'tuple'>\n"
     ]
    }
   ],
   "source": [
    "# Returns set of all combinations of k-sized boolean arrays\n",
    "# having an even or odd (even=False) number of True values\n",
    "def toggle_combinations(k, even=True):\n",
    "    ret = set()\n",
    "    \n",
    "    # n_toggles contains any odd/even number in [0, k]\n",
    "    for n_toggles in range(0, k+1, 2):\n",
    "        if not even:\n",
    "            n_toggles+=1\n",
    "            if n_toggles > k:\n",
    "                continue\n",
    "        \n",
    "        # arr is a boolean array with n_toggles True\n",
    "        arr = np.zeros(k, np.bool)\n",
    "        arr[:n_toggles] = True\n",
    "        # Add all permutations of arr to ret\n",
    "        ret.update(permutations(arr))\n",
    "    \n",
    "    return ret"
   ]
  },
  {
   "cell_type": "code",
   "execution_count": 57,
   "metadata": {
    "collapsed": false,
    "deletable": true,
    "editable": true
   },
   "outputs": [
    {
     "data": {
      "text/plain": [
       "{(False, True), (True, False)}"
      ]
     },
     "execution_count": 57,
     "metadata": {},
     "output_type": "execute_result"
    }
   ],
   "source": [
    "toggle_combinations(2, even=False)"
   ]
  },
  {
   "cell_type": "code",
   "execution_count": 55,
   "metadata": {
    "collapsed": false,
    "deletable": true,
    "editable": true
   },
   "outputs": [
    {
     "name": "stdout",
     "output_type": "stream",
     "text": [
      "['H', 'O', 'W']\n"
     ]
    },
    {
     "data": {
      "text/plain": [
       "array([[ 0.        ,  0.14814815,  0.2962963 ],\n",
       "       [ 0.04938272,  0.14814815,  0.24691358],\n",
       "       [ 0.08230453,  0.14814815,  0.21399177],\n",
       "       [ 0.1042524 ,  0.14814815,  0.1920439 ]])"
      ]
     },
     "execution_count": 55,
     "metadata": {},
     "output_type": "execute_result"
    }
   ],
   "source": [
    "# Returns P the array of future toggle probability for observation obs\n",
    "# P size: up_to x |states|\n",
    "# P[k-1, s] = P[O_(t+k) = toggle_obs | S_(t+k)=s]\n",
    "def compute_future_toggle_probability(up_to, model, states, obs):\n",
    "    P = np.zeros((up_to, len(states)))\n",
    "    A=model.dense_transition_matrix()\n",
    "    \n",
    "    for t in range(1, up_to+1):\n",
    "        for state in range(len(states)):\n",
    "            compute_future_toggle_probability_rec(P, t, state, model, states, obs, A)\n",
    "    \n",
    "    return P\n",
    "def compute_future_toggle_probability_rec(P, t, state, model, states, obs, A):\n",
    "    # P[t-1, s]: probability of toggling in t turns knowing current state s\n",
    "    P[t-1, state]=0\n",
    "    if t == 1:\n",
    "        # P[toggle|current_state] = sum_(s in states)(P[s|current_state] * P[toggle|s])\n",
    "        for s in range(len(states)):\n",
    "            p_next_state_knowing_state = A[state, s]\n",
    "            # Probability of toggling now knowing current state\n",
    "            p_obs = get_observation_probability(model, s, obs)\n",
    "            P[t-1, state] += p_next_state_knowing_state * p_obs\n",
    "    else:\n",
    "        # P[toggle|current_state] = sum_(s in states)(P[s|current_state] * P[toggle|s])\n",
    "        for s in range(len(states)):\n",
    "            p_next_state_knowing_state = A[state, s]\n",
    "            # Probability of toggling in t-1 turns knowing current state\n",
    "            p_obs = P[t-2, s]\n",
    "            P[t-1, state] += p_next_state_knowing_state * p_obs\n",
    "            \n",
    "    return P[t-1, s]\n",
    "\n",
    "compute_future_toggle_probability(4, model, states, 'w')"
   ]
  },
  {
   "cell_type": "code",
   "execution_count": null,
   "metadata": {
    "collapsed": true,
    "deletable": true,
    "editable": true
   },
   "outputs": [],
   "source": [
    "def compute_future_connection_probability(up_to, model, states, current_state, obs, connected):\n",
    "    P = compute_future_toggle_probability(up_to, model, states, obs)\n",
    "    \n",
    "    ret = []\n",
    "    for t in range(up_to):\n",
    "        p = 0\n",
    "        # Sum each toggle history's probability\n",
    "        for toggle_history in toggle_combinations(t+1, even=connected):\n",
    "            tmp = 1\n",
    "            # Toggle history probability:\n",
    "            # Product of the proba that I will toggle (or not) at each step\n",
    "            for k, toggle in enumerate(toggle_history):\n",
    "                if toggle:\n",
    "                    # Proba of toggling in k+1 turns knowing that I am currently in current_state\n",
    "                    tmp *= P[k, states.index(current_state)]\n",
    "                else:\n",
    "                    # Proba of not toggling in k+1 turns knowing that I am currently in current_state\n",
    "                    tmp *= 1 - P[k, states.index(current_state)]\n",
    "\n",
    "            p += tmp\n",
    "        ret.append(p)\n",
    "    return ret"
   ]
  },
  {
   "cell_type": "code",
   "execution_count": 75,
   "metadata": {
    "collapsed": false,
    "deletable": true,
    "editable": true
   },
   "outputs": [
    {
     "data": {
      "text/plain": [
       "[0.0,\n",
       " 0.049382716049382713,\n",
       " 0.12355840065030735,\n",
       " 0.20204828144749976,\n",
       " 0.27289185421718432,\n",
       " 0.33132175058685248,\n",
       " 0.37691278279118845,\n",
       " 0.41124854871209376,\n",
       " 0.43651921772123287,\n",
       " 0.45483907000310447]"
      ]
     },
     "execution_count": 75,
     "metadata": {},
     "output_type": "execute_result"
    }
   ],
   "source": [
    "compute_future_connection_probability(10, model, states, 'H', 'w', connected=False)"
   ]
  },
  {
   "cell_type": "code",
   "execution_count": 76,
   "metadata": {
    "collapsed": false,
    "deletable": true,
    "editable": true
   },
   "outputs": [
    {
     "data": {
      "text/plain": [
       "[0.44444444444444442,\n",
       " 0.49382716049382713,\n",
       " 0.4993141289437586,\n",
       " 0.49992379210486204,\n",
       " 0.49999153245609584,\n",
       " 0.49999905916178849,\n",
       " 0.49999989546242074,\n",
       " 0.49999998838471266,\n",
       " 0.4999999987094122,\n",
       " 0.49999999985660426]"
      ]
     },
     "execution_count": 76,
     "metadata": {},
     "output_type": "execute_result"
    }
   ],
   "source": [
    "compute_future_connection_probability(10, model, states, 'H', 'p', connected=False)"
   ]
  },
  {
   "cell_type": "code",
   "execution_count": 77,
   "metadata": {
    "collapsed": false,
    "deletable": true,
    "editable": true
   },
   "outputs": [
    {
     "data": {
      "text/plain": [
       "[0.29629629629629628,\n",
       " 0.39689071787837221,\n",
       " 0.4410197933542952,\n",
       " 0.46367337066677439,\n",
       " 0.47656292913160442,\n",
       " 0.48442172442355236,\n",
       " 0.48944273647745595,\n",
       " 0.49275389365941558,\n",
       " 0.4949846605106184,\n",
       " 0.49650934198589902]"
      ]
     },
     "execution_count": 77,
     "metadata": {},
     "output_type": "execute_result"
    }
   ],
   "source": [
    "compute_future_connection_probability(10, model, states, 'H', 'h', connected=False)"
   ]
  },
  {
   "cell_type": "markdown",
   "metadata": {
    "deletable": true,
    "editable": true
   },
   "source": [
    "## Sequential model"
   ]
  },
  {
   "cell_type": "code",
   "execution_count": 16,
   "metadata": {
    "collapsed": false,
    "deletable": true,
    "editable": true
   },
   "outputs": [],
   "source": [
    "at_home_dist=DiscreteDistribution({'none': 0, 'phone': 1/2, 'home computer': 1/2, 'work station': 0})\n",
    "in_transit_dist=DiscreteDistribution({'none': 2/3, 'phone': 1/3, 'home computer': 0, 'work station': 0})\n",
    "at_work_dist=DiscreteDistribution({'none': 0, 'phone': 1/2, 'home computer': 0, 'work station': 1/2})\n",
    "\n",
    "at_home_state=State(at_home_dist, name=\"At home\")\n",
    "in_transit_state=State(in_transit_dist, name=\"In transit\")\n",
    "at_work_state=State(at_work_dist, name=\"At work\")\n",
    "\n",
    "model=HiddenMarkovModel(name=\"Sequential user\")\n",
    "model.add_states([at_home_state, in_transit_state, at_work_state])\n",
    "model.add_transition(model.start, at_home_state, 0.8)\n",
    "model.add_transition(model.start, at_work_state, 0.2)\n",
    "model.add_transition(at_home_state, at_home_state, 2/3)\n",
    "model.add_transition(at_home_state, in_transit_state, 1/3)\n",
    "model.add_transition(in_transit_state, in_transit_state, 1/3)\n",
    "model.add_transition(in_transit_state, at_home_state, 1/3)\n",
    "model.add_transition(in_transit_state, at_work_state, 1/3)\n",
    "model.add_transition(at_work_state, at_work_state, 2/3)\n",
    "model.add_transition(at_work_state, in_transit_state, 1/3)\n",
    "model.bake()"
   ]
  },
  {
   "cell_type": "code",
   "execution_count": 17,
   "metadata": {
    "collapsed": false,
    "deletable": true,
    "editable": true
   },
   "outputs": [],
   "source": [
    "res=model.sample(length=20, path=True)\n",
    "sample=from_pomegranate_sample(res, toggle=False)"
   ]
  },
  {
   "cell_type": "code",
   "execution_count": 4,
   "metadata": {
    "collapsed": false,
    "deletable": true,
    "editable": true
   },
   "outputs": [
    {
     "data": {
      "image/png": "[encoded data removed]",
      "text/plain": [
       "<matplotlib.figure.Figure at 0x7f05945ea940>"
      ]
     },
     "metadata": {},
     "output_type": "display_data"
    }
   ],
   "source": [
    "model.plot()"
   ]
  },
  {
   "cell_type": "code",
   "execution_count": 18,
   "metadata": {
    "collapsed": false,
    "deletable": true,
    "editable": true
   },
   "outputs": [
    {
     "name": "stdout",
     "output_type": "stream",
     "text": [
      "{'work station': 2, 'phone': 1, 'home computer': 0}\n"
     ]
    },
    {
     "data": {
      "image/png": "[encoded data removed]",
      "text/plain": [
       "<matplotlib.figure.Figure at 0x7f055c9f07b8>"
      ]
     },
     "metadata": {},
     "output_type": "display_data"
    },
    {
     "data": {
      "text/plain": [
       "[('At work', 'phone'),\n",
       " ('At work', 'work station'),\n",
       " ('At work', 'work station'),\n",
       " ('In transit', 'none'),\n",
       " ('At home', 'home computer'),\n",
       " ('In transit', 'none'),\n",
       " ('In transit', 'phone'),\n",
       " ('At home', 'phone'),\n",
       " ('In transit', 'phone'),\n",
       " ('At work', 'phone'),\n",
       " ('At work', 'phone'),\n",
       " ('In transit', 'phone'),\n",
       " ('At home', 'phone'),\n",
       " ('At home', 'home computer'),\n",
       " ('In transit', 'phone'),\n",
       " ('At home', 'home computer'),\n",
       " ('At home', 'home computer'),\n",
       " ('At home', 'phone'),\n",
       " ('In transit', 'none'),\n",
       " ('At work', 'phone')]"
      ]
     },
     "execution_count": 18,
     "metadata": {},
     "output_type": "execute_result"
    }
   ],
   "source": [
    "plot_device_usage_timeline(sample, toggle=False)\n",
    "sample['state_seq']"
   ]
  }
 ],
 "metadata": {
  "kernelspec": {
   "display_name": "Python 3",
   "language": "python",
   "name": "python3"
  },
  "language_info": {
   "codemirror_mode": {
    "name": "ipython",
    "version": 3
   },
   "file_extension": ".py",
   "mimetype": "text/x-python",
   "name": "python",
   "nbconvert_exporter": "python",
   "pygments_lexer": "ipython3",
   "version": "3.5.2"
  }
 },
 "nbformat": 4,
 "nbformat_minor": 2
}
