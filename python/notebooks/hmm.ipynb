{
 "cells": [
  {
   "cell_type": "markdown",
   "metadata": {
    "deletable": true,
    "editable": true
   },
   "source": [
    "# hmmlearn\n",
    "\n",
    "    model=hmm.MultinomialHMM(n_components=3, transmat_prior=transmat, startprob_prior=startprob, params=\"tse\")\n",
    "    model.n_features=4\n",
    "    model.emissionprob_=np.array([[0, 1/2, 1/2, 0], [2/3, 0, 1/3, 0], [0, 0, 1/3, 2/3]])\n",
    "    model.sample()\n",
    "    \n",
    "> NotFittedError: This MultinomialHMM instance is not fitted yet. Call 'fit' with appropriate arguments before using this method. \n",
    "\n",
    "Same with any combination of `init_params` or `params`\n",
    "\n",
    "# [pomegranate](https://pomegranate.readthedocs.io/en/latest/index.html)"
   ]
  },
  {
   "cell_type": "markdown",
   "metadata": {
    "deletable": true,
    "editable": true
   },
   "source": [
    "# Functions and imports"
   ]
  },
  {
   "cell_type": "code",
   "execution_count": 2,
   "metadata": {
    "collapsed": true,
    "deletable": true,
    "editable": true
   },
   "outputs": [],
   "source": [
    "%matplotlib inline\n",
    "from pomegranate import *\n",
    "import numpy as np\n",
    "import matplotlib\n",
    "import matplotlib.pyplot as plt\n",
    "import matplotlib.lines as lines\n",
    "import seaborn as sns\n",
    "\n",
    "def from_pomegranate_sample(sample, toggle=True):\n",
    "    sample = {\n",
    "        # An list of (State, Observation) tuples\n",
    "        'state_seq': [(st.name, obs) for obs, st in zip(sample[0], sample[1][1:])],\n",
    "        # The states alphabet\n",
    "        'states': list(np.unique([s.name for s in sample[1][1:]])),\n",
    "        # The observations alphabet\n",
    "        'observations': list(np.unique(sample[0]))\n",
    "    }\n",
    "    \n",
    "    # If the model represents devices toggles and not usages\n",
    "    if toggle:\n",
    "        state_seq=[]\n",
    "        # All devices begin closed (TODO: probabilistic initial state)\n",
    "        current_state = {k: False for k in sample['observations'] if k is not 'none'}\n",
    "\n",
    "        for s, o in sample['state_seq']:\n",
    "            if o is not 'none':\n",
    "                current_state[o] = not current_state[o]\n",
    "\n",
    "            state_seq.append(\n",
    "                (s, [k for k,v in current_state.items() if v])\n",
    "            )\n",
    "        \n",
    "        # In toggle mode, the state_seq is a list of (State, list of opened devices)\n",
    "        # In other words, several devices can be opened simultaneously\n",
    "        sample['state_seq'] = state_seq\n",
    "    \n",
    "    return sample\n",
    "\n",
    "def usage_proba_to_toggle_proba(usage_proba):\n",
    "    toggle_proba={}\n",
    "    for k, v in usage_proba.items():\n",
    "        if k == 'none':\n",
    "            continue\n",
    "        \n",
    "        # P[X(t) = !X(t-1)] = 2 * P[X] * (1 - P[X])\n",
    "        toggle_proba[k] = 2 * v * (1 - v)\n",
    "    \n",
    "    toggle_proba['none'] = 1 - sum(toggle_proba.values())\n",
    "    return toggle_proba\n",
    "\n",
    "def plot_device_usage_timeline(sample, toggle=True, figsize=(10,3), title=\"\"):\n",
    "    c_used = matplotlib.colors.hex2color(\"#444444\")\n",
    "    height = 0.5\n",
    "    \n",
    "    fig, ax = plt.subplots(figsize=figsize)\n",
    "    sns.set_style(\"white\", {'legend.frameon': True})\n",
    "    \n",
    "    devices = sorted(sample[\"observations\"])\n",
    "    if 'none' in devices:\n",
    "        devices.remove('none')\n",
    "    devices_id={d: i for i, d in enumerate(devices)}\n",
    "    print(devices_id)\n",
    "\n",
    "    states = [None]*len(sample['state_seq'])\n",
    "    for x, (state, d) in enumerate(sample['state_seq']):\n",
    "        states[x] = state\n",
    "        if toggle:\n",
    "            for device in d:\n",
    "                y = devices_id[device]\n",
    "                ax.barh(left=x, bottom=devices_id[device],\n",
    "                        height=height, width=1, color=c_used)\n",
    "        else:\n",
    "            if d == 'none':\n",
    "                continue\n",
    "\n",
    "            ax.barh(left=x, bottom=devices_id[d], \n",
    "                    height=height, width=1, color=c_used)\n",
    "        \n",
    "    sns.despine()\n",
    "    \n",
    "    ax.set_xticks(range(len(states)))\n",
    "    ax.set_xticklabels(states)\n",
    "    plt.xticks(rotation=-60, ha='left')\n",
    "    \n",
    "    ax.set_ylabel(\"Device\")\n",
    "    ax.set_ylim([-0.5, len(devices)-0.5])\n",
    "    ax.set_yticks(range(len(devices)))\n",
    "    ax.set_yticklabels(devices)\n",
    "    \n",
    "    if title != \"\":\n",
    "        ax.set_title(title)\n",
    "    \n",
    "    plt.show()"
   ]
  },
  {
   "cell_type": "markdown",
   "metadata": {
    "deletable": true,
    "editable": true
   },
   "source": [
    "## Sequential model"
   ]
  },
  {
   "cell_type": "code",
   "execution_count": 41,
   "metadata": {
    "collapsed": false,
    "deletable": true,
    "editable": true
   },
   "outputs": [],
   "source": [
    "at_home_dist=DiscreteDistribution({'none': 0, 'phone': 1/2, 'home computer': 1/2, 'work station': 0})\n",
    "in_transit_dist=DiscreteDistribution({'none': 2/3, 'phone': 1/3, 'home computer': 0, 'work station': 0})\n",
    "at_work_dist=DiscreteDistribution({'none': 0, 'phone': 1/2, 'home computer': 0, 'work station': 1/2})\n",
    "\n",
    "at_home_state=State(at_home_dist, name=\"At home\")\n",
    "in_transit_state=State(in_transit_dist, name=\"In transit\")\n",
    "at_work_state=State(at_work_dist, name=\"At work\")\n",
    "\n",
    "model=HiddenMarkovModel(name=\"Sequential user\")\n",
    "model.add_states([at_home_state, in_transit_state, at_work_state])\n",
    "model.add_transition(model.start, at_home_state, 0.8)\n",
    "model.add_transition(model.start, at_work_state, 0.2)\n",
    "model.add_transition(at_home_state, at_home_state, 2/3)\n",
    "model.add_transition(at_home_state, in_transit_state, 1/3)\n",
    "model.add_transition(in_transit_state, in_transit_state, 1/3)\n",
    "model.add_transition(in_transit_state, at_home_state, 1/3)\n",
    "model.add_transition(in_transit_state, at_work_state, 1/3)\n",
    "model.add_transition(at_work_state, at_work_state, 2/3)\n",
    "model.add_transition(at_work_state, in_transit_state, 1/3)\n",
    "model.bake()"
   ]
  },
  {
   "cell_type": "code",
   "execution_count": 42,
   "metadata": {
    "collapsed": false,
    "deletable": true,
    "editable": true
   },
   "outputs": [],
   "source": [
    "res=model.sample(length=20, path=True)\n",
    "sample=from_pomegranate_sample(res, toggle=False)"
   ]
  },
  {
   "cell_type": "code",
   "execution_count": 43,
   "metadata": {
    "collapsed": false,
    "deletable": true,
    "editable": true
   },
   "outputs": [
    {
     "data": {
      "image/png": "[encoded data removed]",
      "text/plain": [
       "<matplotlib.figure.Figure at 0x7f761cb71fd0>"
      ]
     },
     "metadata": {},
     "output_type": "display_data"
    }
   ],
   "source": [
    "model.plot()"
   ]
  },
  {
   "cell_type": "code",
   "execution_count": 44,
   "metadata": {
    "collapsed": false,
    "deletable": true,
    "editable": true
   },
   "outputs": [
    {
     "data": {
      "image/png": "[encoded data removed]",
      "text/plain": [
       "<matplotlib.figure.Figure at 0x7f761caa2908>"
      ]
     },
     "metadata": {},
     "output_type": "display_data"
    },
    {
     "data": {
      "text/plain": [
       "[('At work', 'phone'),\n",
       " ('At work', 'work station'),\n",
       " ('At work', 'work station'),\n",
       " ('In transit', 'none'),\n",
       " ('At work', 'phone'),\n",
       " ('In transit', 'none'),\n",
       " ('At home', 'phone'),\n",
       " ('At home', 'home computer'),\n",
       " ('In transit', 'phone'),\n",
       " ('In transit', 'phone'),\n",
       " ('At home', 'phone'),\n",
       " ('In transit', 'phone'),\n",
       " ('At work', 'work station'),\n",
       " ('At work', 'phone'),\n",
       " ('In transit', 'phone'),\n",
       " ('At work', 'phone'),\n",
       " ('At work', 'phone'),\n",
       " ('At work', 'work station'),\n",
       " ('In transit', 'none'),\n",
       " ('In transit', 'phone')]"
      ]
     },
     "execution_count": 44,
     "metadata": {},
     "output_type": "execute_result"
    }
   ],
   "source": [
    "plot_device_usage_timeline(sample, toggle=False)\n",
    "sample['state_seq']"
   ]
  },
  {
   "cell_type": "markdown",
   "metadata": {
    "deletable": true,
    "editable": true
   },
   "source": [
    "## Toggling model"
   ]
  },
  {
   "cell_type": "code",
   "execution_count": 58,
   "metadata": {
    "collapsed": false,
    "deletable": true,
    "editable": true
   },
   "outputs": [
    {
     "name": "stdout",
     "output_type": "stream",
     "text": [
      "At home:\n",
      "{'h': 0.3333333333333333, 'p': 0.3333333333333333, 'none': 0.3333333333333333, 'w': 0}\n",
      "{'h': 0.4444444444444445, 'p': 0.4444444444444445, 'none': 0.11111111111111105, 'w': 0}\n",
      "In transit:\n",
      "{'h': 0, 'p': 0.3333333333333333, 'none': 0.6666666666666666, 'w': 0}\n",
      "{'h': 0, 'p': 0.4444444444444445, 'none': 0.5555555555555556, 'w': 0}\n",
      "At work:\n",
      "{'h': 0, 'p': 0.3333333333333333, 'none': 0.3333333333333333, 'w': 0.3333333333333333}\n",
      "{'h': 0, 'p': 0.4444444444444445, 'none': 0.11111111111111105, 'w': 0.4444444444444445}\n"
     ]
    }
   ],
   "source": [
    "at_home_proba={'none': 1/3, 'p': 1/3, 'h': 1/3, 'w': 0}\n",
    "in_transit_proba={'none': 2/3, 'p': 1/3, 'h': 0, 'w': 0}\n",
    "at_work_proba={'none': 1/3, 'p': 1/3, 'h': 0, 'w': 1/3}\n",
    "\n",
    "at_home_toggle_proba=usage_proba_to_toggle_proba(at_home_proba)\n",
    "in_transit_toggle_proba=usage_proba_to_toggle_proba(in_transit_proba)\n",
    "at_work_toggle_proba=usage_proba_to_toggle_proba(at_work_proba)\n",
    "\n",
    "print(\"At home:\")\n",
    "print(at_home_proba)\n",
    "print(at_home_toggle_proba)\n",
    "print(\"In transit:\")\n",
    "print(in_transit_proba)\n",
    "print(in_transit_toggle_proba)\n",
    "print(\"At work:\")\n",
    "print(at_work_proba)\n",
    "print(at_work_toggle_proba)"
   ]
  },
  {
   "cell_type": "code",
   "execution_count": 59,
   "metadata": {
    "collapsed": false,
    "deletable": true,
    "editable": true
   },
   "outputs": [
    {
     "data": {
      "text/plain": [
       "{\n",
       "    \"start\" : {\n",
       "        \"class\" : \"State\",\n",
       "        \"name\" : \"Toggling user-start\",\n",
       "        \"weight\" : 1.0,\n",
       "        \"distribution\" : null\n",
       "    },\n",
       "    \"states\" : [\n",
       "        {\n",
       "            \"class\" : \"State\",\n",
       "            \"name\" : \"H\",\n",
       "            \"weight\" : 1.0,\n",
       "            \"distribution\" : {\n",
       "                \"class\" : \"Distribution\",\n",
       "                \"name\" : \"DiscreteDistribution\",\n",
       "                \"frozen\" : false,\n",
       "                \"parameters\" : [\n",
       "                    {\n",
       "                        \"h\" : 0.4444444444444445,\n",
       "                        \"p\" : 0.4444444444444445,\n",
       "                        \"none\" : 0.11111111111111105,\n",
       "                        \"w\" : 0\n",
       "                    }\n",
       "                ]\n",
       "            }\n",
       "        },\n",
       "        {\n",
       "            \"class\" : \"State\",\n",
       "            \"name\" : \"O\",\n",
       "            \"weight\" : 1.0,\n",
       "            \"distribution\" : {\n",
       "                \"class\" : \"Distribution\",\n",
       "                \"name\" : \"DiscreteDistribution\",\n",
       "                \"frozen\" : false,\n",
       "                \"parameters\" : [\n",
       "                    {\n",
       "                        \"h\" : 0,\n",
       "                        \"p\" : 0.4444444444444445,\n",
       "                        \"none\" : 0.5555555555555556,\n",
       "                        \"w\" : 0\n",
       "                    }\n",
       "                ]\n",
       "            }\n",
       "        },\n",
       "        {\n",
       "            \"class\" : \"State\",\n",
       "            \"name\" : \"W\",\n",
       "            \"weight\" : 1.0,\n",
       "            \"distribution\" : {\n",
       "                \"class\" : \"Distribution\",\n",
       "                \"name\" : \"DiscreteDistribution\",\n",
       "                \"frozen\" : false,\n",
       "                \"parameters\" : [\n",
       "                    {\n",
       "                        \"h\" : 0,\n",
       "                        \"p\" : 0.4444444444444445,\n",
       "                        \"none\" : 0.11111111111111105,\n",
       "                        \"w\" : 0.4444444444444445\n",
       "                    }\n",
       "                ]\n",
       "            }\n",
       "        },\n",
       "        {\n",
       "            \"class\" : \"State\",\n",
       "            \"name\" : \"Toggling user-start\",\n",
       "            \"weight\" : 1.0,\n",
       "            \"distribution\" : null\n",
       "        },\n",
       "        {\n",
       "            \"class\" : \"State\",\n",
       "            \"name\" : \"Toggling user-end\",\n",
       "            \"weight\" : 1.0,\n",
       "            \"distribution\" : null\n",
       "        }\n",
       "    ],\n",
       "    \"class\" : \"HiddenMarkovModel\",\n",
       "    \"silent_index\" : 3,\n",
       "    \"start_index\" : 3,\n",
       "    \"end_index\" : 4,\n",
       "    \"end\" : {\n",
       "        \"class\" : \"State\",\n",
       "        \"name\" : \"Toggling user-end\",\n",
       "        \"weight\" : 1.0,\n",
       "        \"distribution\" : null\n",
       "    },\n",
       "    \"name\" : \"Toggling user\",\n",
       "    \"edges\" : [\n",
       "        [\n",
       "            3,\n",
       "            2,\n",
       "            0.20000000000000004,\n",
       "            0.2,\n",
       "            null\n",
       "        ],\n",
       "        [\n",
       "            3,\n",
       "            0,\n",
       "            0.8,\n",
       "            0.8,\n",
       "            null\n",
       "        ],\n",
       "        [\n",
       "            0,\n",
       "            1,\n",
       "            0.3333333333333333,\n",
       "            0.3333333333333333,\n",
       "            null\n",
       "        ],\n",
       "        [\n",
       "            0,\n",
       "            0,\n",
       "            0.6666666666666666,\n",
       "            0.6666666666666666,\n",
       "            null\n",
       "        ],\n",
       "        [\n",
       "            2,\n",
       "            2,\n",
       "            0.6666666666666666,\n",
       "            0.6666666666666666,\n",
       "            null\n",
       "        ],\n",
       "        [\n",
       "            2,\n",
       "            1,\n",
       "            0.3333333333333333,\n",
       "            0.3333333333333333,\n",
       "            null\n",
       "        ],\n",
       "        [\n",
       "            1,\n",
       "            2,\n",
       "            0.3333333333333333,\n",
       "            0.3333333333333333,\n",
       "            null\n",
       "        ],\n",
       "        [\n",
       "            1,\n",
       "            0,\n",
       "            0.3333333333333333,\n",
       "            0.3333333333333333,\n",
       "            null\n",
       "        ],\n",
       "        [\n",
       "            1,\n",
       "            1,\n",
       "            0.3333333333333333,\n",
       "            0.3333333333333333,\n",
       "            null\n",
       "        ]\n",
       "    ],\n",
       "    \"distribution ties\" : []\n",
       "}"
      ]
     },
     "execution_count": 59,
     "metadata": {},
     "output_type": "execute_result"
    }
   ],
   "source": [
    "at_home_dist=DiscreteDistribution(at_home_toggle_proba)\n",
    "in_transit_dist=DiscreteDistribution(in_transit_toggle_proba)\n",
    "at_work_dist=DiscreteDistribution(at_work_toggle_proba)\n",
    "\n",
    "at_home_state=State(at_home_dist, name=\"H\")\n",
    "in_transit_state=State(in_transit_dist, name=\"O\")\n",
    "at_work_state=State(at_work_dist, name=\"W\")\n",
    "\n",
    "model2=HiddenMarkovModel(name=\"Toggling user\")\n",
    "model2.add_states([at_home_state, in_transit_state, at_work_state])\n",
    "model2.add_transition(model2.start, at_home_state, 0.8)\n",
    "model2.add_transition(model2.start, at_work_state, 0.2)\n",
    "model2.add_transition(at_home_state, at_home_state, 2/3)\n",
    "model2.add_transition(at_home_state, in_transit_state, 1/3)\n",
    "model2.add_transition(in_transit_state, in_transit_state, 1/3)\n",
    "model2.add_transition(in_transit_state, at_home_state, 1/3)\n",
    "model2.add_transition(in_transit_state, at_work_state, 1/3)\n",
    "model2.add_transition(at_work_state, at_work_state, 2/3)\n",
    "model2.add_transition(at_work_state, in_transit_state, 1/3)\n",
    "model2.bake()\n",
    "\n",
    "model2"
   ]
  },
  {
   "cell_type": "code",
   "execution_count": 65,
   "metadata": {
    "collapsed": false,
    "deletable": true,
    "editable": true
   },
   "outputs": [
    {
     "name": "stdout",
     "output_type": "stream",
     "text": [
      "{'h': 0, 'p': 1, 'w': 2}\n"
     ]
    },
    {
     "data": {
      "image/png": "[encoded data removed]",
      "text/plain": [
       "<matplotlib.figure.Figure at 0x7fe5a5a71358>"
      ]
     },
     "metadata": {},
     "output_type": "display_data"
    },
    {
     "data": {
      "text/plain": [
       "{'observations': ['h', 'p', 'w'],\n",
       " 'state_seq': [('H', ['h']),\n",
       "  ('H', ['h', 'p']),\n",
       "  ('O', ['h']),\n",
       "  ('O', ['h', 'p']),\n",
       "  ('H', ['p']),\n",
       "  ('H', ['h', 'p']),\n",
       "  ('O', ['h']),\n",
       "  ('W', ['h', 'w']),\n",
       "  ('W', ['h', 'p', 'w']),\n",
       "  ('W', ['h', 'p']),\n",
       "  ('W', ['h', 'p', 'w']),\n",
       "  ('O', ['h', 'w']),\n",
       "  ('H', ['h', 'p', 'w']),\n",
       "  ('O', ['h', 'w']),\n",
       "  ('H', ['w']),\n",
       "  ('H', ['h', 'w'])],\n",
       " 'states': ['H', 'O', 'W']}"
      ]
     },
     "execution_count": 65,
     "metadata": {},
     "output_type": "execute_result"
    }
   ],
   "source": [
    "def plot_device_usage_timeline(sample, toggle=True, figsize=(6,1.5), title=\"\", fn=\"\"):\n",
    "    c_used = matplotlib.colors.hex2color(\"#444444\")\n",
    "    height = 0.5\n",
    "    \n",
    "    fig, ax = plt.subplots(figsize=figsize)\n",
    "    sns.set_style(\"whitegrid\", {'font.family': 'serif'})\n",
    "    \n",
    "    devices = sorted(sample[\"observations\"])\n",
    "    if 'none' in devices:\n",
    "        devices.remove('none')\n",
    "    devices_id={d: i for i, d in enumerate(devices)}\n",
    "    print(devices_id)\n",
    "\n",
    "    states = [None]*len(sample['state_seq'])\n",
    "    for x, (state, d) in enumerate(sample['state_seq']):\n",
    "        states[x] = state\n",
    "        if toggle:\n",
    "            for device in d:\n",
    "                y = devices_id[device]\n",
    "                ax.barh(left=x, bottom=devices_id[device],\n",
    "                        height=height, width=1, color=c_used)\n",
    "        else:\n",
    "            if d == 'none':\n",
    "                continue\n",
    "\n",
    "            ax.barh(left=x, bottom=devices_id[d], \n",
    "                    height=height, width=1, color=c_used)\n",
    "        \n",
    "    sns.despine()\n",
    "    \n",
    "    ax.set_xlim([0, len(sample['state_seq'])])\n",
    "    ax.set_xticks(range(len(states)))\n",
    "    ax.set_xticklabels(states)\n",
    "    #plt.xticks(rotation=-60, ha='left')\n",
    "    \n",
    "    #ax.set_ylabel(\"Device\")\n",
    "    ax.set_ylim([-0.5, len(devices)-0.5])\n",
    "    ax.set_yticks(range(len(devices)))\n",
    "    ax.set_yticklabels(devices)\n",
    "    \n",
    "    if title != \"\":\n",
    "        ax.set_title(title)\n",
    "    if fn != \"\":\n",
    "        plt.savefig(fn)\n",
    "    plt.show()\n",
    "\n",
    "sample=from_pomegranate_sample(model2.sample(length=16, path=True))\n",
    "plot_device_usage_timeline(sample, fn=\"sweet_god.svg\", figsize=(6, 1.2))\n",
    "sample"
   ]
  },
  {
   "cell_type": "code",
   "execution_count": null,
   "metadata": {
    "collapsed": true,
    "deletable": true,
    "editable": true
   },
   "outputs": [],
   "source": []
  }
 ],
 "metadata": {
  "kernelspec": {
   "display_name": "Python 3",
   "language": "python",
   "name": "python3"
  },
  "language_info": {
   "codemirror_mode": {
    "name": "ipython",
    "version": 3
   },
   "file_extension": ".py",
   "mimetype": "text/x-python",
   "name": "python",
   "nbconvert_exporter": "python",
   "pygments_lexer": "ipython3",
   "version": "3.5.2"
  }
 },
 "nbformat": 4,
 "nbformat_minor": 2
}
