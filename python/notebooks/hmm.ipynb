{
 "cells": [
  {
   "cell_type": "markdown",
   "metadata": {
    "deletable": true,
    "editable": true
   },
   "source": [
    "# hmmlearn\n",
    "\n",
    "    model=hmm.MultinomialHMM(n_components=3, transmat_prior=transmat, startprob_prior=startprob, params=\"tse\")\n",
    "    model.n_features=4\n",
    "    model.emissionprob_=np.array([[0, 1/2, 1/2, 0], [2/3, 0, 1/3, 0], [0, 0, 1/3, 2/3]])\n",
    "    model.sample()\n",
    "    \n",
    "> NotFittedError: This MultinomialHMM instance is not fitted yet. Call 'fit' with appropriate arguments before using this method. \n",
    "\n",
    "Same with any combination of `init_params` or `params`\n",
    "\n",
    "# [pomegranate](https://pomegranate.readthedocs.io/en/latest/index.html)"
   ]
  },
  {
   "cell_type": "markdown",
   "metadata": {
    "deletable": true,
    "editable": true
   },
   "source": [
    "# Functions and imports"
   ]
  },
  {
   "cell_type": "code",
   "execution_count": 2,
   "metadata": {
    "collapsed": true,
    "deletable": true,
    "editable": true
   },
   "outputs": [],
   "source": [
    "%matplotlib inline\n",
    "from pomegranate import *\n",
    "import numpy as np\n",
    "import matplotlib\n",
    "import matplotlib.pyplot as plt\n",
    "import matplotlib.lines as lines\n",
    "import seaborn as sns\n",
    "from copy import deepcopy\n",
    "\n",
    "matplotlib.rc('font',**{'family':'sans-serif','sans-serif':['Helvetica']})\n",
    "## for Palatino and other serif fonts use:\n",
    "#rc('font',**{'family':'serif','serif':['Palatino']})\n",
    "matplotlib.rc('text', usetex=True)\n",
    "matplotlib.rcParams['text.latex.preamble'] = [r'\\usepackage{amsmath}']\n",
    "\n",
    "def compute_state_seq(pomegranate_sample, observations):\n",
    "    seq = [(st.name, obs) for obs, st in zip(pomegranate_sample[0], pomegranate_sample[1][1:])]\n",
    "    state_seq=[]\n",
    "    \n",
    "    # All devices begin closed (TODO: probabilistic initial state)\n",
    "    current_state = {k: False for k in observations if k is not 'none'}\n",
    "\n",
    "    for s, o in seq:\n",
    "        if o is not 'none':\n",
    "            current_state[o] = not current_state[o]\n",
    "\n",
    "        state_seq.append(\n",
    "            (s, [k for k,v in current_state.items() if v])\n",
    "        )\n",
    "    \n",
    "    return state_seq\n",
    "\n",
    "def from_pomegranate_sample(sample, toggle=True):\n",
    "    sample = {\n",
    "        # An list of (State, Observation) tuples\n",
    "        'state_seq': [(st.name, obs) for obs, st in zip(sample[0], sample[1][1:])],\n",
    "        # The states alphabet\n",
    "        'states': list(np.unique([s.name for s in sample[1][1:]])),\n",
    "        # The observations alphabet\n",
    "        'observations': list(np.unique(sample[0]))\n",
    "    }\n",
    "    \n",
    "    # If the model represents devices toggles and not usages\n",
    "    if toggle:\n",
    "        state_seq=[]\n",
    "        # All devices begin closed (TODO: probabilistic initial state)\n",
    "        current_state = {k: False for k in sample['observations'] if k is not 'none'}\n",
    "\n",
    "        for s, o in sample['state_seq']:\n",
    "            if o is not 'none':\n",
    "                current_state[o] = not current_state[o]\n",
    "\n",
    "            state_seq.append(\n",
    "                (s, [k for k,v in current_state.items() if v])\n",
    "            )\n",
    "        \n",
    "        # In toggle mode, the state_seq is a list of (State, list of opened devices)\n",
    "        # In other words, several devices can be opened simultaneously\n",
    "        sample['state_seq'] = state_seq\n",
    "    \n",
    "    return sample\n",
    "\n",
    "def usage_proba_to_toggle_proba(usage_proba):\n",
    "    toggle_proba={}\n",
    "    for k, v in usage_proba.items():\n",
    "        if k == 'none':\n",
    "            continue\n",
    "        \n",
    "        # P[X(t) = !X(t-1)] = 2 * P[X] * (1 - P[X])\n",
    "        toggle_proba[k] = 2 * v * (1 - v)\n",
    "    \n",
    "    toggle_proba['none'] = 1 - sum(toggle_proba.values())\n",
    "    return toggle_proba\n",
    "\n",
    "def get_observation_probability(model, state_id, obs):\n",
    "    return model.states[state_id].distribution.parameters[0][obs]\n",
    "\n",
    "def predict_next_states(model, sample):\n",
    "    devices=deepcopy(sample['observations'])\n",
    "    if 'none' in devices:\n",
    "        devices.remove('none')\n",
    "    states_id={k:v for v, k in enumerate(sample['states'])}\n",
    "\n",
    "    # states_transition_matrix\n",
    "    A=model.dense_transition_matrix()\n",
    "\n",
    "    predictions=[]\n",
    "    for loc, conn in sample['state_seq']:\n",
    "        prediction={}\n",
    "        for d in devices:\n",
    "            \n",
    "            p_toggle=0\n",
    "            # P[toggle|current_state] = sum_s(P[s|current_state] * P[toggle|s])\n",
    "            for s in sample['states']:\n",
    "                p_next_state_knowing_state=A[states_id[loc], states_id[s]]\n",
    "                p_obs=get_observation_probability(model, states_id[s], d)\n",
    "                p_toggle+=p_next_state_knowing_state*p_obs\n",
    "\n",
    "            if d in conn:\n",
    "                # P[d_will_be_connected] = 1-P[toggle|current_state] if d is connected\n",
    "                prediction[d]=1 - p_toggle\n",
    "            else:\n",
    "                # P[d_will_be_connected] = P[toggle|current_state] if d is not connected\n",
    "                prediction[d]=p_toggle\n",
    "\n",
    "        predictions.append(prediction)\n",
    "    return predictions\n",
    "\n",
    "def plot_device_usage_timeline(sample, toggle=True, prediction=False, figsize=(6,1.5), title=\"\", fn=\"\"):\n",
    "    c_used = matplotlib.colors.hex2color(\"#444444\")\n",
    "    height = 0.4\n",
    "    \n",
    "    fig, ax = plt.subplots(figsize=figsize)\n",
    "    sns.set_style(\"whitegrid\", {'font.family': 'serif'})\n",
    "    \n",
    "    devices = sorted(sample[\"observations\"])\n",
    "    if 'none' in devices:\n",
    "        devices.remove('none')\n",
    "    devices_id={d: i for i, d in enumerate(devices)}\n",
    "    print(devices_id)\n",
    "\n",
    "    states = [None]*len(sample['state_seq'])\n",
    "    for x, (state, d) in enumerate(sample['state_seq']):\n",
    "        states[x] = state\n",
    "        if toggle:\n",
    "            for device in d:\n",
    "                y = devices_id[device]\n",
    "                if prediction:\n",
    "                    ax.barh(left=x, bottom=devices_id[device]-height/2,\n",
    "                        height=height, width=1, color=c_used)\n",
    "                else:\n",
    "                    ax.barh(left=x, bottom=devices_id[device],\n",
    "                        height=height, width=1, color=c_used)\n",
    "        else:\n",
    "            if d == 'none':\n",
    "                continue\n",
    "\n",
    "            ax.barh(left=x, bottom=devices_id[d], \n",
    "                    height=height, width=1, color=c_used)\n",
    "    \n",
    "    sns.despine()\n",
    "    \n",
    "    if prediction:\n",
    "        for x, pred in enumerate(sample['predictions']):\n",
    "            for device in devices:\n",
    "                #print(\"x: {}, y: {} -> p: {:.2f}\".format(x+1, devices_id[device], pred[device]))\n",
    "                ax.text(x=x+1.1, y=devices_id[device]+0.1,\n",
    "                        s=\"{:.2f}\".format(pred[device]))\n",
    "\n",
    "        ax.set_xlim([0, len(sample['state_seq'])+1])\n",
    "        ax.set_xticks(range(len(states)+1))\n",
    "    else:\n",
    "        ax.set_xlim([0, len(sample['state_seq'])])\n",
    "        ax.set_xticks(range(len(states)))\n",
    "    ax.set_xticklabels(states)\n",
    "    #plt.xticks(rotation=-60, ha='left')\n",
    "    \n",
    "    #ax.set_ylabel(\"Device\")\n",
    "    ax.set_ylim([-0.5, len(devices)-0.5])\n",
    "    ax.set_yticks(range(len(devices)))\n",
    "    # \"c_d\" as y label: devices' connections\n",
    "    ax.set_yticklabels(['$c^{(\\mathrm{'+d+'})}$' for d in devices], fontsize=16)\n",
    "    \n",
    "    plt.tight_layout()\n",
    "    if title != \"\":\n",
    "        ax.set_title(title)\n",
    "    if fn != \"\":\n",
    "        plt.savefig(fn)\n",
    "    plt.show()\n",
    "    \n",
    "def plot_device_usage_timeline_and_prediction(sample, toggle=True, figsize=(6,1.5), title=\"\", fn=\"\"):\n",
    "    c_used = matplotlib.colors.hex2color(\"#444444\")\n",
    "    height = 0.4\n",
    "    \n",
    "    fig, ax = plt.subplots(figsize=figsize)\n",
    "    sns.set_style(\"whitegrid\", {'font.family': 'serif'})\n",
    "    \n",
    "    devices = sorted(sample[\"observations\"])\n",
    "    if 'none' in devices:\n",
    "        devices.remove('none')\n",
    "    devices_id={d: i for i, d in enumerate(devices)}\n",
    "    print(devices_id)\n",
    "\n",
    "    states = [None]*len(sample['state_seq'])\n",
    "    for x, (state, d) in enumerate(sample['state_seq']):\n",
    "        states[x] = state\n",
    "        if toggle:\n",
    "            for device in d:\n",
    "                y = devices_id[device]\n",
    "                ax.barh(left=x, bottom=devices_id[device]-height/2,\n",
    "                        height=height, width=1, color=c_used)\n",
    "        else:\n",
    "            if d == 'none':\n",
    "                continue\n",
    "\n",
    "            ax.barh(left=x, bottom=devices_id[d], \n",
    "                    height=height, width=1, color=c_used)\n",
    "    \n",
    "    for x, pred in enumerate(sample['predictions']):\n",
    "        for device in devices:\n",
    "            #print(\"x: {}, y: {} -> p: {:.2f}\".format(x+1, devices_id[device], pred[device]))\n",
    "            ax.text(x=x+1.1, y=devices_id[device]+0.1,\n",
    "                    s=\"{:.2f}\".format(pred[device]))\n",
    "    sns.despine()\n",
    "    \n",
    "    ax.set_xlim([0, len(sample['state_seq'])+1])\n",
    "    ax.set_xticks(range(len(states)+1))\n",
    "    ax.set_xticklabels(states)\n",
    "    #plt.xticks(rotation=-60, ha='left')\n",
    "    \n",
    "    #ax.set_ylabel(\"Device\")\n",
    "    ax.set_ylim([-0.5, len(devices)])\n",
    "    ax.set_yticks(range(len(devices)))\n",
    "    # \"c_d\" as y label: devices' connections\n",
    "    ax.set_yticklabels(['$c^{(\\mathrm{'+d+'})}$' for d in devices], fontsize=16)\n",
    "    \n",
    "    plt.tight_layout()\n",
    "    if title != \"\":\n",
    "        ax.set_title(title)\n",
    "    if fn != \"\":\n",
    "        plt.savefig(fn)\n",
    "    plt.show()"
   ]
  },
  {
   "cell_type": "markdown",
   "metadata": {
    "deletable": true,
    "editable": true
   },
   "source": [
    "## Toggling model"
   ]
  },
  {
   "cell_type": "code",
   "execution_count": 3,
   "metadata": {
    "collapsed": false,
    "deletable": true,
    "editable": true
   },
   "outputs": [
    {
     "name": "stdout",
     "output_type": "stream",
     "text": [
      "At home:\n",
      "{'h': 0.3333333333333333, 'p': 0.3333333333333333, 'none': 0.3333333333333333, 'w': 0}\n",
      "{'h': 0.4444444444444445, 'p': 0.4444444444444445, 'none': 0.11111111111111105, 'w': 0}\n",
      "In transit:\n",
      "{'h': 0, 'p': 0.3333333333333333, 'none': 0.6666666666666666, 'w': 0}\n",
      "{'h': 0, 'p': 0.4444444444444445, 'none': 0.5555555555555556, 'w': 0}\n",
      "At work:\n",
      "{'h': 0, 'p': 0.3333333333333333, 'none': 0.3333333333333333, 'w': 0.3333333333333333}\n",
      "{'h': 0, 'p': 0.4444444444444445, 'none': 0.11111111111111105, 'w': 0.4444444444444445}\n"
     ]
    }
   ],
   "source": [
    "at_home_proba={'none': 1/3, 'p': 1/3, 'h': 1/3, 'w': 0}\n",
    "in_transit_proba={'none': 2/3, 'p': 1/3, 'h': 0, 'w': 0}\n",
    "at_work_proba={'none': 1/3, 'p': 1/3, 'h': 0, 'w': 1/3}\n",
    "observations=['none', 'h', 'p', 'w']\n",
    "\n",
    "at_home_toggle_proba=usage_proba_to_toggle_proba(at_home_proba)\n",
    "in_transit_toggle_proba=usage_proba_to_toggle_proba(in_transit_proba)\n",
    "at_work_toggle_proba=usage_proba_to_toggle_proba(at_work_proba)\n",
    "\n",
    "print(\"At home:\")\n",
    "print(at_home_proba)\n",
    "print(at_home_toggle_proba)\n",
    "print(\"In transit:\")\n",
    "print(in_transit_proba)\n",
    "print(in_transit_toggle_proba)\n",
    "print(\"At work:\")\n",
    "print(at_work_proba)\n",
    "print(at_work_toggle_proba)"
   ]
  },
  {
   "cell_type": "code",
   "execution_count": 4,
   "metadata": {
    "collapsed": false,
    "deletable": true,
    "editable": true
   },
   "outputs": [
    {
     "data": {
      "text/plain": [
       "{\n",
       "    \"end\" : {\n",
       "        \"name\" : \"Toggling user-end\",\n",
       "        \"weight\" : 1.0,\n",
       "        \"distribution\" : null,\n",
       "        \"class\" : \"State\"\n",
       "    },\n",
       "    \"start_index\" : 3,\n",
       "    \"end_index\" : 4,\n",
       "    \"start\" : {\n",
       "        \"name\" : \"Toggling user-start\",\n",
       "        \"weight\" : 1.0,\n",
       "        \"distribution\" : null,\n",
       "        \"class\" : \"State\"\n",
       "    },\n",
       "    \"class\" : \"HiddenMarkovModel\",\n",
       "    \"name\" : \"Toggling user\",\n",
       "    \"silent_index\" : 3,\n",
       "    \"states\" : [\n",
       "        {\n",
       "            \"name\" : \"H\",\n",
       "            \"weight\" : 1.0,\n",
       "            \"distribution\" : {\n",
       "                \"name\" : \"DiscreteDistribution\",\n",
       "                \"frozen\" : false,\n",
       "                \"parameters\" : [\n",
       "                    {\n",
       "                        \"h\" : 0.4444444444444445,\n",
       "                        \"p\" : 0.4444444444444445,\n",
       "                        \"none\" : 0.11111111111111105,\n",
       "                        \"w\" : 0\n",
       "                    }\n",
       "                ],\n",
       "                \"class\" : \"Distribution\"\n",
       "            },\n",
       "            \"class\" : \"State\"\n",
       "        },\n",
       "        {\n",
       "            \"name\" : \"O\",\n",
       "            \"weight\" : 1.0,\n",
       "            \"distribution\" : {\n",
       "                \"name\" : \"DiscreteDistribution\",\n",
       "                \"frozen\" : false,\n",
       "                \"parameters\" : [\n",
       "                    {\n",
       "                        \"h\" : 0,\n",
       "                        \"p\" : 0.4444444444444445,\n",
       "                        \"none\" : 0.5555555555555556,\n",
       "                        \"w\" : 0\n",
       "                    }\n",
       "                ],\n",
       "                \"class\" : \"Distribution\"\n",
       "            },\n",
       "            \"class\" : \"State\"\n",
       "        },\n",
       "        {\n",
       "            \"name\" : \"W\",\n",
       "            \"weight\" : 1.0,\n",
       "            \"distribution\" : {\n",
       "                \"name\" : \"DiscreteDistribution\",\n",
       "                \"frozen\" : false,\n",
       "                \"parameters\" : [\n",
       "                    {\n",
       "                        \"h\" : 0,\n",
       "                        \"p\" : 0.4444444444444445,\n",
       "                        \"none\" : 0.11111111111111105,\n",
       "                        \"w\" : 0.4444444444444445\n",
       "                    }\n",
       "                ],\n",
       "                \"class\" : \"Distribution\"\n",
       "            },\n",
       "            \"class\" : \"State\"\n",
       "        },\n",
       "        {\n",
       "            \"name\" : \"Toggling user-start\",\n",
       "            \"weight\" : 1.0,\n",
       "            \"distribution\" : null,\n",
       "            \"class\" : \"State\"\n",
       "        },\n",
       "        {\n",
       "            \"name\" : \"Toggling user-end\",\n",
       "            \"weight\" : 1.0,\n",
       "            \"distribution\" : null,\n",
       "            \"class\" : \"State\"\n",
       "        }\n",
       "    ],\n",
       "    \"distribution ties\" : [],\n",
       "    \"edges\" : [\n",
       "        [\n",
       "            2,\n",
       "            2,\n",
       "            0.6666666666666666,\n",
       "            0.6666666666666666,\n",
       "            null\n",
       "        ],\n",
       "        [\n",
       "            2,\n",
       "            1,\n",
       "            0.3333333333333333,\n",
       "            0.3333333333333333,\n",
       "            null\n",
       "        ],\n",
       "        [\n",
       "            1,\n",
       "            2,\n",
       "            0.3333333333333333,\n",
       "            0.3333333333333333,\n",
       "            null\n",
       "        ],\n",
       "        [\n",
       "            1,\n",
       "            0,\n",
       "            0.3333333333333333,\n",
       "            0.3333333333333333,\n",
       "            null\n",
       "        ],\n",
       "        [\n",
       "            1,\n",
       "            1,\n",
       "            0.3333333333333333,\n",
       "            0.3333333333333333,\n",
       "            null\n",
       "        ],\n",
       "        [\n",
       "            3,\n",
       "            2,\n",
       "            0.20000000000000004,\n",
       "            0.2,\n",
       "            null\n",
       "        ],\n",
       "        [\n",
       "            3,\n",
       "            0,\n",
       "            0.8,\n",
       "            0.8,\n",
       "            null\n",
       "        ],\n",
       "        [\n",
       "            0,\n",
       "            1,\n",
       "            0.3333333333333333,\n",
       "            0.3333333333333333,\n",
       "            null\n",
       "        ],\n",
       "        [\n",
       "            0,\n",
       "            0,\n",
       "            0.6666666666666666,\n",
       "            0.6666666666666666,\n",
       "            null\n",
       "        ]\n",
       "    ]\n",
       "}"
      ]
     },
     "execution_count": 4,
     "metadata": {},
     "output_type": "execute_result"
    }
   ],
   "source": [
    "at_home_dist=DiscreteDistribution(at_home_toggle_proba)\n",
    "in_transit_dist=DiscreteDistribution(in_transit_toggle_proba)\n",
    "at_work_dist=DiscreteDistribution(at_work_toggle_proba)\n",
    "\n",
    "at_home_state=State(at_home_dist, name=\"H\")\n",
    "in_transit_state=State(in_transit_dist, name=\"O\")\n",
    "at_work_state=State(at_work_dist, name=\"W\")\n",
    "states=['H', 'O', 'W']\n",
    "\n",
    "model2=HiddenMarkovModel(name=\"Toggling user\")\n",
    "model2.add_states([at_home_state, in_transit_state, at_work_state])\n",
    "model2.add_transition(model2.start, at_home_state, 0.8)\n",
    "model2.add_transition(model2.start, at_work_state, 0.2)\n",
    "model2.add_transition(at_home_state, at_home_state, 2/3)\n",
    "model2.add_transition(at_home_state, in_transit_state, 1/3)\n",
    "model2.add_transition(in_transit_state, in_transit_state, 1/3)\n",
    "model2.add_transition(in_transit_state, at_home_state, 1/3)\n",
    "model2.add_transition(in_transit_state, at_work_state, 1/3)\n",
    "model2.add_transition(at_work_state, at_work_state, 2/3)\n",
    "model2.add_transition(at_work_state, in_transit_state, 1/3)\n",
    "model2.bake()\n",
    "model=model2\n",
    "\n",
    "model2"
   ]
  },
  {
   "cell_type": "code",
   "execution_count": 10,
   "metadata": {
    "collapsed": false
   },
   "outputs": [
    {
     "name": "stdout",
     "output_type": "stream",
     "text": [
      "[[ 0.66666667  0.33333333  0.          0.          0.        ]\n",
      " [ 0.33333333  0.33333333  0.33333333  0.          0.        ]\n",
      " [ 0.          0.33333333  0.66666667  0.          0.        ]\n",
      " [ 0.8         0.          0.2         0.          0.        ]\n",
      " [ 0.          0.          0.          0.          0.        ]]\n",
      "[[ 0.  0.  0.]\n",
      " [ 0.  0.  0.]\n",
      " [ 0.  0.  0.]]\n"
     ]
    }
   ],
   "source": [
    "A=model2.dense_transition_matrix()\n",
    "a=np.zeros((3,3))\n",
    "print(A)\n",
    "print(a)"
   ]
  },
  {
   "cell_type": "code",
   "execution_count": 17,
   "metadata": {
    "collapsed": false
   },
   "outputs": [
    {
     "data": {
      "text/plain": [
       "{'h': 0.4444444444444445,\n",
       " 'none': 0.11111111111111105,\n",
       " 'p': 0.4444444444444445,\n",
       " 'w': 0}"
      ]
     },
     "execution_count": 17,
     "metadata": {},
     "output_type": "execute_result"
    }
   ],
   "source": [
    " model.states[0].distribution.parameters[0]"
   ]
  },
  {
   "cell_type": "code",
   "execution_count": 28,
   "metadata": {
    "collapsed": false
   },
   "outputs": [
    {
     "data": {
      "text/plain": [
       "False"
      ]
     },
     "execution_count": 28,
     "metadata": {},
     "output_type": "execute_result"
    }
   ],
   "source": [
    "a=['a', 'r', 'e']\n",
    "'a' not in a"
   ]
  },
  {
   "cell_type": "code",
   "execution_count": 133,
   "metadata": {
    "collapsed": true,
    "deletable": true,
    "editable": true
   },
   "outputs": [
    {
     "name": "stdout",
     "output_type": "stream",
     "text": [
      "{'w': 2, 'h': 0, 'p': 1}\n"
     ]
    },
    {
     "data": {
      "image/png": "[encoded data removed]",
      "text/plain": [
       "<matplotlib.figure.Figure at 0x7f08d6014e48>"
      ]
     },
     "metadata": {},
     "output_type": "display_data"
    },
    {
     "name": "stdout",
     "output_type": "stream",
     "text": [
      "{'w': 2, 'h': 0, 'p': 1}\n"
     ]
    },
    {
     "data": {
      "image/png": "[encoded data removed]",
      "text/plain": [
       "<matplotlib.figure.Figure at 0x7f08d6c81518>"
      ]
     },
     "metadata": {},
     "output_type": "display_data"
    },
    {
     "name": "stdout",
     "output_type": "stream",
     "text": [
      "{'w': 2, 'h': 0, 'p': 1}\n"
     ]
    },
    {
     "data": {
      "image/png": "[encoded data removed]",
      "text/plain": [
       "<matplotlib.figure.Figure at 0x7f08d6496c50>"
      ]
     },
     "metadata": {},
     "output_type": "display_data"
    },
    {
     "name": "stdout",
     "output_type": "stream",
     "text": [
      "{'w': 2, 'h': 0, 'p': 1}\n"
     ]
    },
    {
     "data": {
      "image/png": "[encoded data removed]",
      "text/plain": [
       "<matplotlib.figure.Figure at 0x7f08d64035f8>"
      ]
     },
     "metadata": {},
     "output_type": "display_data"
    },
    {
     "name": "stdout",
     "output_type": "stream",
     "text": [
      "{'w': 2, 'h': 0, 'p': 1}\n"
     ]
    },
    {
     "data": {
      "image/png": "[encoded data removed]",
      "text/plain": [
       "<matplotlib.figure.Figure at 0x7f08d6235dd8>"
      ]
     },
     "metadata": {},
     "output_type": "display_data"
    },
    {
     "name": "stdout",
     "output_type": "stream",
     "text": [
      "{'w': 2, 'h': 0, 'p': 1}\n"
     ]
    },
    {
     "data": {
      "image/png": "[encoded data removed]",
      "text/plain": [
       "<matplotlib.figure.Figure at 0x7f08d6c8d588>"
      ]
     },
     "metadata": {},
     "output_type": "display_data"
    },
    {
     "name": "stdout",
     "output_type": "stream",
     "text": [
      "{'w': 2, 'h': 0, 'p': 1}\n"
     ]
    },
    {
     "data": {
      "image/png": "[encoded data removed]",
      "text/plain": [
       "<matplotlib.figure.Figure at 0x7f08d6432278>"
      ]
     },
     "metadata": {},
     "output_type": "display_data"
    },
    {
     "name": "stdout",
     "output_type": "stream",
     "text": [
      "{'w': 2, 'h': 0, 'p': 1}\n"
     ]
    },
    {
     "data": {
      "image/png": "[encoded data removed]",
      "text/plain": [
       "<matplotlib.figure.Figure at 0x7f08d6c892e8>"
      ]
     },
     "metadata": {},
     "output_type": "display_data"
    },
    {
     "name": "stdout",
     "output_type": "stream",
     "text": [
      "{'w': 2, 'h': 0, 'p': 1}\n"
     ]
    },
    {
     "data": {
      "image/png": "[encoded data removed]",
      "text/plain": [
       "<matplotlib.figure.Figure at 0x7f08d6916160>"
      ]
     },
     "metadata": {},
     "output_type": "display_data"
    },
    {
     "name": "stdout",
     "output_type": "stream",
     "text": [
      "{'w': 2, 'h': 0, 'p': 1}\n"
     ]
    },
    {
     "data": {
      "image/png": "[encoded data removed]",
      "text/plain": [
       "<matplotlib.figure.Figure at 0x7f08d68c5e10>"
      ]
     },
     "metadata": {},
     "output_type": "display_data"
    }
   ],
   "source": [
    "sample={\n",
    "    'observations': observations,\n",
    "    'states': states,\n",
    "}\n",
    "for i in range(10):\n",
    "    sample['state_seq']=compute_state_seq(model2.sample(length=20, path=True), observations)\n",
    "    sample['predictions']=predict_next_states(model2, sample)\n",
    "    plot_device_usage_timeline(sample, prediction=True, figsize=(7, 1.4), fn=\"timelines/{:02}.svg\".format(i+1))\n",
    "    #sample"
   ]
  },
  {
   "cell_type": "markdown",
   "metadata": {
    "deletable": true,
    "editable": true
   },
   "source": [
    "# Infering model from observations"
   ]
  },
  {
   "cell_type": "code",
   "execution_count": 6,
   "metadata": {
    "collapsed": false,
    "deletable": true,
    "editable": true
   },
   "outputs": [
    {
     "name": "stdout",
     "output_type": "stream",
     "text": [
      "['h', 'h', 'p', 'p', 'p', 'none', 'none', 'p', 'none', 'p', 'p', 'p', 'none', 'p', 'h', 'p', 'w', 'none', 'p', 'p', 'p', 'p', 'p', 'p', 'p', 'none', 'none', 'p', 'w', 'none', 'none', 'w', 'p', 'p', 'p', 'p', 'h', 'h', 'p', 'none', 'none', 'w', 'none', 'none', 'p', 'p', 'p', 'p', 'p', 'h', 'none', 'p', 'p', 'p', 'w', 'p', 'w', 'w', 'none', 'p', 'p', 'h', 'none', 'none', 'p', 'p', 'p', 'h', 'p', 'h', 'none', 'none', 'p', 'p', 'p', 'w', 'p', 'p', 'w', 'p', 'p', 'p', 'w', 'none', 'p', 'p', 'none', 'p', 'p', 'p', 'h', 'none', 'none', 'h', 'p', 'p', 'h', 'p', 'p', 'h']\n"
     ]
    }
   ],
   "source": [
    "SIZE=100\n",
    "sample=model.sample(length=100)\n",
    "print(sample)"
   ]
  },
  {
   "cell_type": "code",
   "execution_count": 43,
   "metadata": {
    "collapsed": false,
    "deletable": true,
    "editable": true
   },
   "outputs": [
    {
     "name": "stdout",
     "output_type": "stream",
     "text": [
      "{'w': 0.25, 'p': 0.25, 'h': 0.25, 'none': 0.25}\n"
     ]
    },
    {
     "data": {
      "text/plain": [
       "{\n",
       "    \"end\" : {\n",
       "        \"distribution\" : null,\n",
       "        \"weight\" : 1.0,\n",
       "        \"class\" : \"State\",\n",
       "        \"name\" : \"Inferred toggling user-end\"\n",
       "    },\n",
       "    \"silent_index\" : 3,\n",
       "    \"class\" : \"HiddenMarkovModel\",\n",
       "    \"distribution ties\" : [],\n",
       "    \"start\" : {\n",
       "        \"distribution\" : null,\n",
       "        \"weight\" : 1.0,\n",
       "        \"class\" : \"State\",\n",
       "        \"name\" : \"Inferred toggling user-start\"\n",
       "    },\n",
       "    \"edges\" : [\n",
       "        [\n",
       "            3,\n",
       "            0,\n",
       "            0.4999999975,\n",
       "            0.3333333333333333,\n",
       "            null\n",
       "        ],\n",
       "        [\n",
       "            3,\n",
       "            2,\n",
       "            0.4999999975,\n",
       "            0.3333333333333333,\n",
       "            null\n",
       "        ],\n",
       "        [\n",
       "            1,\n",
       "            1,\n",
       "            0.3333333333333333,\n",
       "            0.3333333333333333,\n",
       "            null\n",
       "        ],\n",
       "        [\n",
       "            1,\n",
       "            0,\n",
       "            0.3333333333333333,\n",
       "            0.3333333333333333,\n",
       "            null\n",
       "        ],\n",
       "        [\n",
       "            1,\n",
       "            2,\n",
       "            0.3333333333333333,\n",
       "            0.3333333333333333,\n",
       "            null\n",
       "        ],\n",
       "        [\n",
       "            0,\n",
       "            0,\n",
       "            0.5,\n",
       "            0.5,\n",
       "            null\n",
       "        ],\n",
       "        [\n",
       "            0,\n",
       "            1,\n",
       "            0.5,\n",
       "            0.5,\n",
       "            null\n",
       "        ],\n",
       "        [\n",
       "            2,\n",
       "            2,\n",
       "            0.5,\n",
       "            0.5,\n",
       "            null\n",
       "        ],\n",
       "        [\n",
       "            2,\n",
       "            1,\n",
       "            0.5,\n",
       "            0.5,\n",
       "            null\n",
       "        ]\n",
       "    ],\n",
       "    \"states\" : [\n",
       "        {\n",
       "            \"distribution\" : {\n",
       "                \"parameters\" : [\n",
       "                    {\n",
       "                        \"w\" : 0.25,\n",
       "                        \"p\" : 0.25,\n",
       "                        \"h\" : 0.25,\n",
       "                        \"none\" : 0.25\n",
       "                    }\n",
       "                ],\n",
       "                \"class\" : \"Distribution\",\n",
       "                \"name\" : \"DiscreteDistribution\",\n",
       "                \"frozen\" : false\n",
       "            },\n",
       "            \"weight\" : 1.0,\n",
       "            \"class\" : \"State\",\n",
       "            \"name\" : \"H\"\n",
       "        },\n",
       "        {\n",
       "            \"distribution\" : {\n",
       "                \"parameters\" : [\n",
       "                    {\n",
       "                        \"w\" : 0.25,\n",
       "                        \"p\" : 0.25,\n",
       "                        \"h\" : 0.25,\n",
       "                        \"none\" : 0.25\n",
       "                    }\n",
       "                ],\n",
       "                \"class\" : \"Distribution\",\n",
       "                \"name\" : \"DiscreteDistribution\",\n",
       "                \"frozen\" : false\n",
       "            },\n",
       "            \"weight\" : 1.0,\n",
       "            \"class\" : \"State\",\n",
       "            \"name\" : \"O\"\n",
       "        },\n",
       "        {\n",
       "            \"distribution\" : {\n",
       "                \"parameters\" : [\n",
       "                    {\n",
       "                        \"w\" : 0.25,\n",
       "                        \"p\" : 0.25,\n",
       "                        \"h\" : 0.25,\n",
       "                        \"none\" : 0.25\n",
       "                    }\n",
       "                ],\n",
       "                \"class\" : \"Distribution\",\n",
       "                \"name\" : \"DiscreteDistribution\",\n",
       "                \"frozen\" : false\n",
       "            },\n",
       "            \"weight\" : 1.0,\n",
       "            \"class\" : \"State\",\n",
       "            \"name\" : \"W\"\n",
       "        },\n",
       "        {\n",
       "            \"distribution\" : null,\n",
       "            \"weight\" : 1.0,\n",
       "            \"class\" : \"State\",\n",
       "            \"name\" : \"Inferred toggling user-start\"\n",
       "        },\n",
       "        {\n",
       "            \"distribution\" : null,\n",
       "            \"weight\" : 1.0,\n",
       "            \"class\" : \"State\",\n",
       "            \"name\" : \"Inferred toggling user-end\"\n",
       "        }\n",
       "    ],\n",
       "    \"end_index\" : 4,\n",
       "    \"name\" : \"Inferred toggling user\",\n",
       "    \"start_index\" : 3\n",
       "}"
      ]
     },
     "execution_count": 43,
     "metadata": {},
     "output_type": "execute_result"
    }
   ],
   "source": [
    "# Creation of default model\n",
    "# Probabilities of emission are uniform\n",
    "observations=list(np.unique(sample))\n",
    "uniform_dist={k:1/len(observations) for k in observations}\n",
    "print(uniform_dist)\n",
    "\n",
    "at_home_state=State(DiscreteDistribution(uniform_dist), name=\"H\")\n",
    "in_transit_state=State(DiscreteDistribution(uniform_dist), name=\"O\")\n",
    "at_work_state=State(DiscreteDistribution(uniform_dist), name=\"W\")\n",
    "states=['H', 'O', 'W']\n",
    "\n",
    "inferred_model=HiddenMarkovModel(name=\"Inferred toggling user\")\n",
    "inferred_model.add_states([at_home_state, in_transit_state, at_work_state])\n",
    "inferred_model.add_transition(inferred_model.start, at_home_state, 1/3)\n",
    "inferred_model.add_transition(inferred_model.start, at_work_state, 1/3)\n",
    "inferred_model.add_transition(inferred_model.start, at_work_state, 1/3)\n",
    "inferred_model.add_transition(at_home_state, at_home_state, 1/2)\n",
    "inferred_model.add_transition(at_home_state, in_transit_state, 1/2)\n",
    "inferred_model.add_transition(in_transit_state, in_transit_state, 1/3)\n",
    "inferred_model.add_transition(in_transit_state, at_home_state, 1/3)\n",
    "inferred_model.add_transition(in_transit_state, at_work_state, 1/3)\n",
    "inferred_model.add_transition(at_work_state, at_work_state, 1/2)\n",
    "inferred_model.add_transition(at_work_state, in_transit_state, 1/2)\n",
    "inferred_model.bake()\n",
    "inferred_model"
   ]
  },
  {
   "cell_type": "code",
   "execution_count": 44,
   "metadata": {
    "collapsed": false,
    "deletable": true,
    "editable": true
   },
   "outputs": [
    {
     "data": {
      "image/png": "[encoded data removed]",
      "text/plain": [
       "<matplotlib.figure.Figure at 0x7f97ec9034a8>"
      ]
     },
     "metadata": {},
     "output_type": "display_data"
    }
   ],
   "source": [
    "fig, ax=plt.subplots(figsize=(10,10))\n",
    "inferred_model.plot(ax=ax)"
   ]
  },
  {
   "cell_type": "code",
   "execution_count": 45,
   "metadata": {
    "collapsed": false,
    "deletable": true,
    "editable": true,
    "scrolled": true
   },
   "outputs": [
    {
     "data": {
      "text/plain": [
       "24.14601093002601"
      ]
     },
     "execution_count": 45,
     "metadata": {},
     "output_type": "execute_result"
    }
   ],
   "source": [
    "inferred_model.fit([sample])"
   ]
  },
  {
   "cell_type": "code",
   "execution_count": 46,
   "metadata": {
    "collapsed": false,
    "deletable": true,
    "editable": true
   },
   "outputs": [
    {
     "data": {
      "text/plain": [
       "{\n",
       "    \"end\" : {\n",
       "        \"distribution\" : null,\n",
       "        \"weight\" : 1.0,\n",
       "        \"class\" : \"State\",\n",
       "        \"name\" : \"Inferred toggling user-end\"\n",
       "    },\n",
       "    \"silent_index\" : 3,\n",
       "    \"class\" : \"HiddenMarkovModel\",\n",
       "    \"distribution ties\" : [],\n",
       "    \"start\" : {\n",
       "        \"distribution\" : null,\n",
       "        \"weight\" : 1.0,\n",
       "        \"class\" : \"State\",\n",
       "        \"name\" : \"Inferred toggling user-start\"\n",
       "    },\n",
       "    \"edges\" : [\n",
       "        [\n",
       "            3,\n",
       "            0,\n",
       "            0.5,\n",
       "            0.3333333333333333,\n",
       "            null\n",
       "        ],\n",
       "        [\n",
       "            3,\n",
       "            2,\n",
       "            0.5,\n",
       "            0.3333333333333333,\n",
       "            null\n",
       "        ],\n",
       "        [\n",
       "            1,\n",
       "            1,\n",
       "            0.7532467448024073,\n",
       "            0.3333333333333333,\n",
       "            null\n",
       "        ],\n",
       "        [\n",
       "            1,\n",
       "            0,\n",
       "            0.12337662759879632,\n",
       "            0.3333333333333333,\n",
       "            null\n",
       "        ],\n",
       "        [\n",
       "            1,\n",
       "            2,\n",
       "            0.12337662759879632,\n",
       "            0.3333333333333333,\n",
       "            null\n",
       "        ],\n",
       "        [\n",
       "            0,\n",
       "            0,\n",
       "            0.13636364029075987,\n",
       "            0.5,\n",
       "            null\n",
       "        ],\n",
       "        [\n",
       "            0,\n",
       "            1,\n",
       "            0.8636363597092401,\n",
       "            0.5,\n",
       "            null\n",
       "        ],\n",
       "        [\n",
       "            2,\n",
       "            2,\n",
       "            0.13636364029075987,\n",
       "            0.5,\n",
       "            null\n",
       "        ],\n",
       "        [\n",
       "            2,\n",
       "            1,\n",
       "            0.8636363597092401,\n",
       "            0.5,\n",
       "            null\n",
       "        ]\n",
       "    ],\n",
       "    \"states\" : [\n",
       "        {\n",
       "            \"distribution\" : {\n",
       "                \"parameters\" : [\n",
       "                    {\n",
       "                        \"w\" : 0.4347825960300882,\n",
       "                        \"p\" : 2.8967971488183683e-08,\n",
       "                        \"h\" : 0.5652173750019405,\n",
       "                        \"none\" : 1.6452454682470534e-17\n",
       "                    }\n",
       "                ],\n",
       "                \"class\" : \"Distribution\",\n",
       "                \"name\" : \"DiscreteDistribution\",\n",
       "                \"frozen\" : false\n",
       "            },\n",
       "            \"weight\" : 1.0,\n",
       "            \"class\" : \"State\",\n",
       "            \"name\" : \"H\"\n",
       "        },\n",
       "        {\n",
       "            \"distribution\" : {\n",
       "                \"parameters\" : [\n",
       "                    {\n",
       "                        \"w\" : 3.743021648122869e-11,\n",
       "                        \"p\" : 0.7012986986878524,\n",
       "                        \"h\" : 7.365010199787475e-17,\n",
       "                        \"none\" : 0.2987013012747172\n",
       "                    }\n",
       "                ],\n",
       "                \"class\" : \"Distribution\",\n",
       "                \"name\" : \"DiscreteDistribution\",\n",
       "                \"frozen\" : false\n",
       "            },\n",
       "            \"weight\" : 1.0,\n",
       "            \"class\" : \"State\",\n",
       "            \"name\" : \"O\"\n",
       "        },\n",
       "        {\n",
       "            \"distribution\" : {\n",
       "                \"parameters\" : [\n",
       "                    {\n",
       "                        \"w\" : 0.4347825960300882,\n",
       "                        \"p\" : 2.8967971488183683e-08,\n",
       "                        \"h\" : 0.5652173750019405,\n",
       "                        \"none\" : 1.6452454682470534e-17\n",
       "                    }\n",
       "                ],\n",
       "                \"class\" : \"Distribution\",\n",
       "                \"name\" : \"DiscreteDistribution\",\n",
       "                \"frozen\" : false\n",
       "            },\n",
       "            \"weight\" : 1.0,\n",
       "            \"class\" : \"State\",\n",
       "            \"name\" : \"W\"\n",
       "        },\n",
       "        {\n",
       "            \"distribution\" : null,\n",
       "            \"weight\" : 1.0,\n",
       "            \"class\" : \"State\",\n",
       "            \"name\" : \"Inferred toggling user-start\"\n",
       "        },\n",
       "        {\n",
       "            \"distribution\" : null,\n",
       "            \"weight\" : 1.0,\n",
       "            \"class\" : \"State\",\n",
       "            \"name\" : \"Inferred toggling user-end\"\n",
       "        }\n",
       "    ],\n",
       "    \"end_index\" : 4,\n",
       "    \"name\" : \"Inferred toggling user\",\n",
       "    \"start_index\" : 3\n",
       "}"
      ]
     },
     "execution_count": 46,
     "metadata": {},
     "output_type": "execute_result"
    }
   ],
   "source": [
    "inferred_model"
   ]
  },
  {
   "cell_type": "code",
   "execution_count": 47,
   "metadata": {
    "collapsed": false,
    "deletable": true,
    "editable": true
   },
   "outputs": [
    {
     "data": {
      "image/png": "[encoded data removed]",
      "text/plain": [
       "<matplotlib.figure.Figure at 0x7f97ec8ab588>"
      ]
     },
     "metadata": {},
     "output_type": "display_data"
    }
   ],
   "source": [
    "fig, ax=plt.subplots(figsize=(10,10))\n",
    "inferred_model.plot(ax=ax)"
   ]
  },
  {
   "cell_type": "markdown",
   "metadata": {
    "collapsed": true,
    "deletable": true,
    "editable": true
   },
   "source": [
    "# Predicting future states"
   ]
  },
  {
   "cell_type": "code",
   "execution_count": 51,
   "metadata": {
    "collapsed": false,
    "deletable": true,
    "editable": true
   },
   "outputs": [
    {
     "name": "stdout",
     "output_type": "stream",
     "text": [
      "{'h': 0, 'p': 1, 'w': 2}\n"
     ]
    },
    {
     "data": {
      "image/png": "[encoded data removed]",
      "text/plain": [
       "<matplotlib.figure.Figure at 0x7f3ebe7d02e8>"
      ]
     },
     "metadata": {},
     "output_type": "display_data"
    }
   ],
   "source": [
    "sample={\n",
    "    'observations': observations,\n",
    "    'states': states,\n",
    "}\n",
    "sample['state_seq']=compute_state_seq(model2.sample(length=20, path=True), observations)\n",
    "sample['predictions']=predict_next_states(model2, sample)\n",
    "plot_device_usage_timeline(sample, prediction=True, figsize=(7, 1.4))"
   ]
  },
  {
   "cell_type": "code",
   "execution_count": 28,
   "metadata": {
    "collapsed": true,
    "deletable": true,
    "editable": true
   },
   "outputs": [
    {
     "name": "stdout",
     "output_type": "stream",
     "text": [
      "<class 'tuple'>\n",
      "<class 'tuple'>\n",
      "<class 'tuple'>\n",
      "<class 'tuple'>\n",
      "<class 'tuple'>\n",
      "<class 'tuple'>\n",
      "<class 'tuple'>\n",
      "<class 'tuple'>\n"
     ]
    }
   ],
   "source": [
    "# Returns set of all combinations of k-sized boolean arrays\n",
    "# having an even or odd (even=False) number of True values\n",
    "def toggle_combinations(k, even=True):\n",
    "    ret = set()\n",
    "    \n",
    "    # n_toggles contains any odd/even number in [0, k]\n",
    "    for n_toggles in range(0, k+1, 2):\n",
    "        if not even:\n",
    "            n_toggles+=1\n",
    "            if n_toggles > k:\n",
    "                continue\n",
    "        \n",
    "        # arr is a boolean array with n_toggles True\n",
    "        arr = np.zeros(k, np.bool)\n",
    "        arr[:n_toggles] = True\n",
    "        # Add all permutations of arr to ret\n",
    "        ret.update(permutations(arr))\n",
    "    \n",
    "    return ret"
   ]
  },
  {
   "cell_type": "code",
   "execution_count": 57,
   "metadata": {
    "collapsed": false,
    "deletable": true,
    "editable": true
   },
   "outputs": [
    {
     "data": {
      "text/plain": [
       "{(False, True), (True, False)}"
      ]
     },
     "execution_count": 57,
     "metadata": {},
     "output_type": "execute_result"
    }
   ],
   "source": [
    "toggle_combinations(2, even=False)"
   ]
  },
  {
   "cell_type": "code",
   "execution_count": 55,
   "metadata": {
    "collapsed": false,
    "deletable": true,
    "editable": true
   },
   "outputs": [
    {
     "name": "stdout",
     "output_type": "stream",
     "text": [
      "['H', 'O', 'W']\n"
     ]
    },
    {
     "data": {
      "text/plain": [
       "array([[ 0.        ,  0.14814815,  0.2962963 ],\n",
       "       [ 0.04938272,  0.14814815,  0.24691358],\n",
       "       [ 0.08230453,  0.14814815,  0.21399177],\n",
       "       [ 0.1042524 ,  0.14814815,  0.1920439 ]])"
      ]
     },
     "execution_count": 55,
     "metadata": {},
     "output_type": "execute_result"
    }
   ],
   "source": [
    "# Returns P the array of future toggle probability for observation obs\n",
    "# P size: up_to x |states|\n",
    "# P[k-1, s] = P[O_(t+k) = toggle_obs | S_(t+k)=s]\n",
    "def compute_future_toggle_probability(up_to, model, states, obs):\n",
    "    P = np.zeros((up_to, len(states)))\n",
    "    A=model.dense_transition_matrix()\n",
    "    \n",
    "    for t in range(1, up_to+1):\n",
    "        for state in range(len(states)):\n",
    "            compute_future_toggle_probability_rec(P, t, state, model, states, obs, A)\n",
    "    \n",
    "    return P\n",
    "def compute_future_toggle_probability_rec(P, t, state, model, states, obs, A):\n",
    "    # P[t-1, s]: probability of toggling in t turns knowing current state s\n",
    "    P[t-1, state]=0\n",
    "    if t == 1:\n",
    "        # P[toggle|current_state] = sum_(s in states)(P[s|current_state] * P[toggle|s])\n",
    "        for s in range(len(states)):\n",
    "            p_next_state_knowing_state = A[state, s]\n",
    "            # Probability of toggling now knowing current state\n",
    "            p_obs = get_observation_probability(model, s, obs)\n",
    "            P[t-1, state] += p_next_state_knowing_state * p_obs\n",
    "    else:\n",
    "        # P[toggle|current_state] = sum_(s in states)(P[s|current_state] * P[toggle|s])\n",
    "        for s in range(len(states)):\n",
    "            p_next_state_knowing_state = A[state, s]\n",
    "            # Probability of toggling in t-1 turns knowing current state\n",
    "            p_obs = P[t-2, s]\n",
    "            P[t-1, state] += p_next_state_knowing_state * p_obs\n",
    "            \n",
    "    return P[t-1, s]\n",
    "\n",
    "compute_future_toggle_probability(4, model, states, 'w')"
   ]
  },
  {
   "cell_type": "code",
   "execution_count": null,
   "metadata": {
    "collapsed": true,
    "deletable": true,
    "editable": true
   },
   "outputs": [],
   "source": [
    "def compute_future_connection_probability(up_to, model, states, current_state, obs, connected):\n",
    "    P = compute_future_toggle_probability(up_to, model, states, obs)\n",
    "    \n",
    "    ret = []\n",
    "    for t in range(up_to):\n",
    "        p = 0\n",
    "        # Sum each toggle history's probability\n",
    "        for toggle_history in toggle_combinations(t+1, even=connected):\n",
    "            tmp = 1\n",
    "            # Toggle history probability:\n",
    "            # Product of the proba that I will toggle (or not) at each step\n",
    "            for k, toggle in enumerate(toggle_history):\n",
    "                if toggle:\n",
    "                    # Proba of toggling in k+1 turns knowing that I am currently in current_state\n",
    "                    tmp *= P[k, states.index(current_state)]\n",
    "                else:\n",
    "                    # Proba of not toggling in k+1 turns knowing that I am currently in current_state\n",
    "                    tmp *= 1 - P[k, states.index(current_state)]\n",
    "\n",
    "            p += tmp\n",
    "        ret.append(p)\n",
    "    return ret"
   ]
  },
  {
   "cell_type": "code",
   "execution_count": 75,
   "metadata": {
    "collapsed": false,
    "deletable": true,
    "editable": true
   },
   "outputs": [
    {
     "data": {
      "text/plain": [
       "[0.0,\n",
       " 0.049382716049382713,\n",
       " 0.12355840065030735,\n",
       " 0.20204828144749976,\n",
       " 0.27289185421718432,\n",
       " 0.33132175058685248,\n",
       " 0.37691278279118845,\n",
       " 0.41124854871209376,\n",
       " 0.43651921772123287,\n",
       " 0.45483907000310447]"
      ]
     },
     "execution_count": 75,
     "metadata": {},
     "output_type": "execute_result"
    }
   ],
   "source": [
    "compute_future_connection_probability(10, model, states, 'H', 'w', connected=False)"
   ]
  },
  {
   "cell_type": "code",
   "execution_count": 76,
   "metadata": {
    "collapsed": false,
    "deletable": true,
    "editable": true
   },
   "outputs": [
    {
     "data": {
      "text/plain": [
       "[0.44444444444444442,\n",
       " 0.49382716049382713,\n",
       " 0.4993141289437586,\n",
       " 0.49992379210486204,\n",
       " 0.49999153245609584,\n",
       " 0.49999905916178849,\n",
       " 0.49999989546242074,\n",
       " 0.49999998838471266,\n",
       " 0.4999999987094122,\n",
       " 0.49999999985660426]"
      ]
     },
     "execution_count": 76,
     "metadata": {},
     "output_type": "execute_result"
    }
   ],
   "source": [
    "compute_future_connection_probability(10, model, states, 'H', 'p', connected=False)"
   ]
  },
  {
   "cell_type": "code",
   "execution_count": 77,
   "metadata": {
    "collapsed": false,
    "deletable": true,
    "editable": true
   },
   "outputs": [
    {
     "data": {
      "text/plain": [
       "[0.29629629629629628,\n",
       " 0.39689071787837221,\n",
       " 0.4410197933542952,\n",
       " 0.46367337066677439,\n",
       " 0.47656292913160442,\n",
       " 0.48442172442355236,\n",
       " 0.48944273647745595,\n",
       " 0.49275389365941558,\n",
       " 0.4949846605106184,\n",
       " 0.49650934198589902]"
      ]
     },
     "execution_count": 77,
     "metadata": {},
     "output_type": "execute_result"
    }
   ],
   "source": [
    "compute_future_connection_probability(10, model, states, 'H', 'h', connected=False)"
   ]
  },
  {
   "cell_type": "markdown",
   "metadata": {
    "deletable": true,
    "editable": true
   },
   "source": [
    "## Sequential model"
   ]
  },
  {
   "cell_type": "code",
   "execution_count": 16,
   "metadata": {
    "collapsed": false,
    "deletable": true,
    "editable": true
   },
   "outputs": [],
   "source": [
    "at_home_dist=DiscreteDistribution({'none': 0, 'phone': 1/2, 'home computer': 1/2, 'work station': 0})\n",
    "in_transit_dist=DiscreteDistribution({'none': 2/3, 'phone': 1/3, 'home computer': 0, 'work station': 0})\n",
    "at_work_dist=DiscreteDistribution({'none': 0, 'phone': 1/2, 'home computer': 0, 'work station': 1/2})\n",
    "\n",
    "at_home_state=State(at_home_dist, name=\"At home\")\n",
    "in_transit_state=State(in_transit_dist, name=\"In transit\")\n",
    "at_work_state=State(at_work_dist, name=\"At work\")\n",
    "\n",
    "model=HiddenMarkovModel(name=\"Sequential user\")\n",
    "model.add_states([at_home_state, in_transit_state, at_work_state])\n",
    "model.add_transition(model.start, at_home_state, 0.8)\n",
    "model.add_transition(model.start, at_work_state, 0.2)\n",
    "model.add_transition(at_home_state, at_home_state, 2/3)\n",
    "model.add_transition(at_home_state, in_transit_state, 1/3)\n",
    "model.add_transition(in_transit_state, in_transit_state, 1/3)\n",
    "model.add_transition(in_transit_state, at_home_state, 1/3)\n",
    "model.add_transition(in_transit_state, at_work_state, 1/3)\n",
    "model.add_transition(at_work_state, at_work_state, 2/3)\n",
    "model.add_transition(at_work_state, in_transit_state, 1/3)\n",
    "model.bake()"
   ]
  },
  {
   "cell_type": "code",
   "execution_count": 17,
   "metadata": {
    "collapsed": false,
    "deletable": true,
    "editable": true
   },
   "outputs": [],
   "source": [
    "res=model.sample(length=20, path=True)\n",
    "sample=from_pomegranate_sample(res, toggle=False)"
   ]
  },
  {
   "cell_type": "code",
   "execution_count": 4,
   "metadata": {
    "collapsed": false,
    "deletable": true,
    "editable": true
   },
   "outputs": [
    {
     "data": {
      "image/png": "[encoded data removed]",
      "text/plain": [
       "<matplotlib.figure.Figure at 0x7f05945ea940>"
      ]
     },
     "metadata": {},
     "output_type": "display_data"
    }
   ],
   "source": [
    "model.plot()"
   ]
  },
  {
   "cell_type": "code",
   "execution_count": 18,
   "metadata": {
    "collapsed": false,
    "deletable": true,
    "editable": true
   },
   "outputs": [
    {
     "name": "stdout",
     "output_type": "stream",
     "text": [
      "{'work station': 2, 'phone': 1, 'home computer': 0}\n"
     ]
    },
    {
     "data": {
      "image/png": "[encoded data removed]",
      "text/plain": [
       "<matplotlib.figure.Figure at 0x7f055c9f07b8>"
      ]
     },
     "metadata": {},
     "output_type": "display_data"
    },
    {
     "data": {
      "text/plain": [
       "[('At work', 'phone'),\n",
       " ('At work', 'work station'),\n",
       " ('At work', 'work station'),\n",
       " ('In transit', 'none'),\n",
       " ('At home', 'home computer'),\n",
       " ('In transit', 'none'),\n",
       " ('In transit', 'phone'),\n",
       " ('At home', 'phone'),\n",
       " ('In transit', 'phone'),\n",
       " ('At work', 'phone'),\n",
       " ('At work', 'phone'),\n",
       " ('In transit', 'phone'),\n",
       " ('At home', 'phone'),\n",
       " ('At home', 'home computer'),\n",
       " ('In transit', 'phone'),\n",
       " ('At home', 'home computer'),\n",
       " ('At home', 'home computer'),\n",
       " ('At home', 'phone'),\n",
       " ('In transit', 'none'),\n",
       " ('At work', 'phone')]"
      ]
     },
     "execution_count": 18,
     "metadata": {},
     "output_type": "execute_result"
    }
   ],
   "source": [
    "plot_device_usage_timeline(sample, toggle=False)\n",
    "sample['state_seq']"
   ]
  }
 ],
 "metadata": {
  "kernelspec": {
   "display_name": "Python 3",
   "language": "python",
   "name": "python3"
  },
  "language_info": {
   "codemirror_mode": {
    "name": "ipython",
    "version": 3
   },
   "file_extension": ".py",
   "mimetype": "text/x-python",
   "name": "python",
   "nbconvert_exporter": "python",
   "pygments_lexer": "ipython3",
   "version": "3.5.2"
  }
 },
 "nbformat": 4,
 "nbformat_minor": 2
}
